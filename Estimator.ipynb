{
 "cells": [
  {
   "cell_type": "code",
   "execution_count": 163,
   "metadata": {},
   "outputs": [
    {
     "name": "stdout",
     "output_type": "stream",
     "text": [
      "The autoreload extension is already loaded. To reload it, use:\n",
      "  %reload_ext autoreload\n"
     ]
    }
   ],
   "source": [
    "%load_ext autoreload\n",
    "%autoreload 2"
   ]
  },
  {
   "cell_type": "code",
   "execution_count": 164,
   "metadata": {},
   "outputs": [],
   "source": [
    "from __future__ import print_function, absolute_import, division\n",
    "import tensorflow as tf"
   ]
  },
  {
   "cell_type": "code",
   "execution_count": 165,
   "metadata": {},
   "outputs": [
    {
     "name": "stdout",
     "output_type": "stream",
     "text": [
      "1.13.1\n"
     ]
    },
    {
     "data": {
      "text/plain": [
       "True"
      ]
     },
     "execution_count": 165,
     "metadata": {},
     "output_type": "execute_result"
    }
   ],
   "source": [
    "print(tf.__version__)\n",
    "tf.test.is_gpu_available()"
   ]
  },
  {
   "cell_type": "code",
   "execution_count": 166,
   "metadata": {},
   "outputs": [],
   "source": [
    "from tensorflow.estimator import RunConfig\n",
    "from training_functions import make_tfr_input_fn"
   ]
  },
  {
   "cell_type": "markdown",
   "metadata": {},
   "source": [
    "# Using a Tensorflow Estimator\n",
    "As you can see, the ```Estimator``` is the central working horse of ML Engineering. We'll have to provide it with \n",
    "- a model function: The model function creates appropriate versions of the hypothesis together with some parameters and the tools to evaluate and train the model.\n",
    "    - The model function returns ```EstimatorSpec```s for the different phases of the ML lifecycle\n",
    "- ```EvalSpec``` and ```TrainSpec``` objects that determine the physical characteristics of the training and evaluation phases.\n",
    "- a ```RunConfig``` that essentially describes the execution environment.\n",
    "\n",
    "After that, the estimator performs all steps independently, creates logfiles, safe-points, performance metrics, and the entire model update life cycle. At the end we get to a model that we can use for prediction."
   ]
  },
  {
   "cell_type": "markdown",
   "metadata": {},
   "source": [
    "### Configuration"
   ]
  },
  {
   "cell_type": "code",
   "execution_count": 167,
   "metadata": {},
   "outputs": [],
   "source": [
    "import tempfile\n",
    "temp_dir = tempfile.gettempdir()\n",
    "\n",
    "import os\n",
    "file_pattern = os.path.join(temp_dir, \"training.tfr-*\")\n",
    "file_pattern\n",
    "\n",
    "training_pattern = os.path.join(temp_dir, \"training.tfr-*\")\n",
    "eval_pattern = os.path.join(temp_dir, \"eval.tfr-*\")\n",
    "\n",
    "# remove this directory to start from scratch\n",
    "model_dir = os.path.join(temp_dir, \"models\" )"
   ]
  },
  {
   "cell_type": "code",
   "execution_count": 168,
   "metadata": {},
   "outputs": [],
   "source": [
    "training_pattern = 'self_play_data/*-*.tfr'\n",
    "eval_pattern = 'deleteme.tfr'"
   ]
  },
  {
   "cell_type": "code",
   "execution_count": 147,
   "metadata": {},
   "outputs": [
    {
     "name": "stdout",
     "output_type": "stream",
     "text": [
      "Really delete /tmp/models?\n"
     ]
    }
   ],
   "source": [
    "![ -d $model_dir ] && echo \"Really delete $model_dir?\""
   ]
  },
  {
   "cell_type": "code",
   "execution_count": 148,
   "metadata": {},
   "outputs": [],
   "source": [
    "# Uncomment if you really want to delete the model and start from scratch\n",
    "!rm -rf $model_dir"
   ]
  },
  {
   "cell_type": "code",
   "execution_count": 169,
   "metadata": {},
   "outputs": [],
   "source": [
    "training_options={\n",
    "    'num_epochs': None,  # repeat infinitely\n",
    "    'shuffle_buffer_size': 1000,\n",
    "    'prefetch_buffer_size': 1000,\n",
    "    'reader_num_threads': 10,\n",
    "    'parser_num_threads': 10,\n",
    "    'sloppy_ordering': True,\n",
    "    'distribute': False}\n",
    "\n",
    "eval_options={\n",
    "    'num_epochs': None,  # repeat infinitely\n",
    "    'shuffle_buffer_size': 100,\n",
    "    'prefetch_buffer_size': 10,\n",
    "    'reader_num_threads': 10,\n",
    "    'parser_num_threads': 10,\n",
    "    'sloppy_ordering': True,\n",
    "    'distribute': False}\n",
    "\n",
    "test_options={\n",
    "    'num_epochs': None,  # repeat infinitely\n",
    "    'shuffle_buffer_size': 1000,\n",
    "    'prefetch_buffer_size': 1000,\n",
    "    'reader_num_threads': 10,\n",
    "    'parser_num_threads': 10,\n",
    "    'sloppy_ordering': True,\n",
    "    'distribute': False}"
   ]
  },
  {
   "cell_type": "markdown",
   "metadata": {},
   "source": [
    "### Input Functions"
   ]
  },
  {
   "cell_type": "code",
   "execution_count": 177,
   "metadata": {},
   "outputs": [],
   "source": [
    "train_input_fn = make_tfr_input_fn(\n",
    "    filename_pattern=training_pattern,\n",
    "    batch_size=256,\n",
    "    options = training_options)\n",
    "\n",
    "eval_input_fn = make_tfr_input_fn(\n",
    "    filename_pattern=eval_pattern,\n",
    "    batch_size=80,\n",
    "    options = eval_options)"
   ]
  },
  {
   "cell_type": "markdown",
   "metadata": {},
   "source": [
    "### The model_function\n",
    "The model function provides ```EstimatorSpec```s, i.e. specifications how to build the model for each of the different cases: training, evaluation and test. Indeed, some models require the actual function to differ slightly between training and evaluation. The model function is the place to specify what exactly is to be calculated during each phase of the ML process. In our case, though, all specifications are essentially the same. Typically, you'd expect the *data scientist* to provide this function, so it's not so important that you fully understand the concept here."
   ]
  },
  {
   "cell_type": "code",
   "execution_count": 178,
   "metadata": {},
   "outputs": [],
   "source": [
    "class ResNet:\n",
    "    \"\"\"\n",
    "    After sufficient training, this instance of ResNet takes an array of dimensions 10x10 \n",
    "    and returns 1 if the array contains the pattern you tought it to recognize.\n",
    "    \"\"\"\n",
    "    def __init__(self, size, n_blocks, n_filters, inps=None, lbls=None):\n",
    "        \n",
    "        if inps == None:\n",
    "            inps = tf.placeholder(name=\"inp_resnet\", \n",
    "                                  shape=[None, size+2, size+2, 2], \n",
    "                                  dtype=tf.float32)\n",
    "            \n",
    "        if lbls == None:\n",
    "            lbls = tf.placeholder(name=\"lbl_resnet\", \n",
    "                                  shape=[None, size+2, size+2, 1], \n",
    "                                  dtype=tf.float32)\n",
    "        self.inps = inps\n",
    "        self.lbls = lbls\n",
    "\n",
    "        out = self.inps\n",
    "        for i in range(n_blocks):\n",
    "            out = self._res_block(out, n_filters)\n",
    "\n",
    "        self.out = tf.layers.conv2d(kernel_size=1, filters=1, inputs=out, \n",
    "                               padding='same', activation=None)\n",
    "\n",
    "        # TODO: Just wouldn't work, minimizes until a certain point then losses go up again\n",
    "        #lbls_1dim = tf.reshape(self.lbls, [-1, 21*21, 1])\n",
    "        #outs_1dim = tf.reshape(self.out, [-1, 21*21, 1])\n",
    "        #losses = tf.nn.softmax_cross_entropy_with_logits_v2(lbls_1dim, outs_1dim, axis=1)\n",
    "        #self.loss = tf.reduce_sum(losses)\n",
    "        self.loss = tf.losses.mean_squared_error(self.lbls, self.out)\n",
    "        \n",
    "        self.errors = tf.losses.mean_squared_error(self.lbls, self.out)\n",
    "        self.accuracy=tf.reduce_sum(tf.cast(self.errors < .1, dtype=tf.int64))\n",
    "\n",
    "        self.optimizer = tf.train.AdamOptimizer(learning_rate=1e-3)\n",
    "        self.trainer = self.optimizer.minimize(self.loss)\n",
    "    \n",
    "    \n",
    "    def _res_block(self, inp, filters, activation='relu'):\n",
    "      \n",
    "        out1_3 = tf.layers.conv2d(kernel_size=3, filters=filters, inputs=inp, \n",
    "                                  padding='same', activation=activation)\n",
    "        out1_5 = tf.layers.conv2d(kernel_size=5, filters=filters, inputs=inp, \n",
    "                                  padding='same', activation=activation)\n",
    "        out1 = tf.concat([out1_3, out1_5], axis=3)\n",
    "        \n",
    "        out2_3 = tf.layers.conv2d(kernel_size=3, filters=filters, inputs=out1, \n",
    "                                  padding='same', activation=activation)\n",
    "        out2_5 = tf.layers.conv2d(kernel_size=5, filters=filters, inputs=out1, \n",
    "                                  padding='same', activation=activation)\n",
    "        out2 = tf.concat([out2_3, out2_5], axis=3)\n",
    "        \n",
    "        out3_3 = tf.layers.conv2d(kernel_size=3, filters=filters, inputs=out2, \n",
    "                                  padding='same', activation=activation)\n",
    "        out3_5 = tf.layers.conv2d(kernel_size=5, filters=filters, inputs=out2, \n",
    "                                  padding='same', activation=activation)\n",
    "        out3 = tf.concat([out3_3, out3_5], axis=3)\n",
    "        \n",
    "        bn = tf.layers.batch_normalization(inputs=out3)\n",
    "\n",
    "        skip = tf.layers.conv2d(kernel_size=1, filters=2, inputs=inp, \n",
    "                                padding='same', activation=None)\n",
    "        \n",
    "        return tf.concat([skip, bn], axis=3)"
   ]
  },
  {
   "cell_type": "code",
   "execution_count": 179,
   "metadata": {},
   "outputs": [],
   "source": [
    "features, labels = train_input_fn()"
   ]
  },
  {
   "cell_type": "code",
   "execution_count": 180,
   "metadata": {},
   "outputs": [
    {
     "data": {
      "text/plain": [
       "{'state': <tf.Tensor 'IteratorGetNext_7:0' shape=(256, 21, 21, 2) dtype=float32>}"
      ]
     },
     "execution_count": 180,
     "metadata": {},
     "output_type": "execute_result"
    }
   ],
   "source": [
    "features"
   ]
  },
  {
   "cell_type": "code",
   "execution_count": 181,
   "metadata": {},
   "outputs": [],
   "source": [
    "resnet = ResNet(19, n_blocks=10, n_filters=32, inps=features['state'], lbls=labels)"
   ]
  },
  {
   "cell_type": "code",
   "execution_count": 182,
   "metadata": {},
   "outputs": [],
   "source": [
    "def model_function(features, labels, mode):\n",
    "\n",
    "    my_input_layer = features['state']\n",
    "\n",
    "    resnet = ResNet(19, n_blocks=2, n_filters=32, inps=my_input_layer, lbls=labels)\n",
    "    hypothesis = resnet.out\n",
    "\n",
    "    #\n",
    "    # For predictions, we just need the hypothesis.\n",
    "    #\n",
    "    if mode == tf.estimator.ModeKeys.PREDICT:\n",
    "        return tf.estimator.EstimatorSpec(\n",
    "            tf.estimator.ModeKeys.PREDICT, \n",
    "            predictions=hypothesis)\n",
    "\n",
    "    #\n",
    "    # For evaluation, we need to provide the loss function, too.\n",
    "    #\n",
    "    #loss = tf.losses.mean_squared_error(labels, hypothesis)\n",
    "    \n",
    "    if mode == tf.estimator.ModeKeys.EVAL:\n",
    "        return tf.estimator.EstimatorSpec(\n",
    "            tf.estimator.ModeKeys.EVAL,\n",
    "            loss = resnet.loss)\n",
    "\n",
    "    \n",
    "    #\n",
    "    # And for training, we also need the optimizer\n",
    "    #\n",
    "    train_op = resnet.trainer\n",
    "    update_ops = tf.get_collection(tf.GraphKeys.UPDATE_OPS)\n",
    "    with tf.control_dependencies(update_ops):\n",
    "        optimizer = tf.train.AdamOptimizer(1e-3)\n",
    "        #train_op = optimizer.minimize(loss)\n",
    "\n",
    "        global_step = tf.train.get_global_step()\n",
    "        update_global_step = tf.assign(global_step, global_step + 1, \n",
    "                                       name = 'update_global_step')\n",
    "\n",
    "        return tf.estimator.EstimatorSpec(\n",
    "            tf.estimator.ModeKeys.TRAIN,\n",
    "            loss = resnet.loss, \n",
    "            train_op = tf.group(train_op, update_global_step))    \n",
    "    \n"
   ]
  },
  {
   "cell_type": "markdown",
   "metadata": {},
   "source": [
    "### Serving Input Receiver\n",
    "This function returns a function that is going to be called by the estimator to create a ServingInputReciever. Sounds odd, but is pretty straight-forward. First, we provide a function that will return a tensor. We don't provide the tensor, because the tensor will have to be created in the context (graph and session) of the estimator methods. We use a function to create a function because we're passing a parameter that's necessary but not available to the estimator at runtime. Fine. But why are we doing that, anyway?\n",
    "\n",
    "Remember the scaling of the $\\beta$s that we performed with our Beam pipeline. We saved the transform function as the last step of the pipeline. Here, we dig it out again and provide it to the estimator so it can attach it to the front of its computational graph such that the same scaling is applied to the *signature* data."
   ]
  },
  {
   "cell_type": "code",
   "execution_count": 183,
   "metadata": {},
   "outputs": [],
   "source": [
    "import tensorflow_transform as tft\n",
    "def make_tft_serving_input_fn(metadata_dir):\n",
    "    \n",
    "    def _input_fn():\n",
    "    \n",
    "        # This is what signature data looks like: no feature cross yet\n",
    "        placeholders = {\n",
    "            'state': tf.placeholder(name='state', shape=[None, 21, 21, 2], dtype=tf.float32)\n",
    "        }\n",
    "    \n",
    "        transform_output = tft.TFTransformOutput(transform_output_dir=metadata_dir)\n",
    "        features = placeholders #transform_output.transform_raw_features(placeholders)\n",
    "            \n",
    "        return tf.estimator.export.ServingInputReceiver(features, placeholders)\n",
    "\n",
    "    return _input_fn\n"
   ]
  },
  {
   "cell_type": "markdown",
   "metadata": {},
   "source": [
    "### The Estimator"
   ]
  },
  {
   "cell_type": "code",
   "execution_count": 184,
   "metadata": {},
   "outputs": [],
   "source": [
    "config = RunConfig(\n",
    "    model_dir              = model_dir,\n",
    "    save_summary_steps     = 20000,\n",
    "    save_checkpoints_steps = 20000,\n",
    "    log_step_count_steps   = 1000)"
   ]
  },
  {
   "cell_type": "code",
   "execution_count": 158,
   "metadata": {},
   "outputs": [
    {
     "name": "stdout",
     "output_type": "stream",
     "text": [
      "mkdir: cannot create directory '/tmp/metadata': File exists\n"
     ]
    }
   ],
   "source": [
    "!mkdir /tmp/metadata\n",
    "metadata_dir = os.path.join(temp_dir, 'metadata')\n",
    "!ls $metadata_dir"
   ]
  },
  {
   "cell_type": "code",
   "execution_count": 185,
   "metadata": {},
   "outputs": [],
   "source": [
    "serving_input_fn = make_tft_serving_input_fn(model_dir)\n",
    "exporter = tf.estimator.LatestExporter('exporter', serving_input_fn)"
   ]
  },
  {
   "cell_type": "code",
   "execution_count": 186,
   "metadata": {},
   "outputs": [
    {
     "name": "stdout",
     "output_type": "stream",
     "text": [
      "INFO:tensorflow:Using config: {'_num_worker_replicas': 1, '_eval_distribute': None, '_train_distribute': None, '_is_chief': True, '_log_step_count_steps': 1000, '_protocol': None, '_tf_random_seed': None, '_cluster_spec': <tensorflow.python.training.server_lib.ClusterSpec object at 0x7fb9635cd2b0>, '_save_checkpoints_steps': 20000, '_task_id': 0, '_experimental_distribute': None, '_master': '', '_session_config': allow_soft_placement: true\n",
      "graph_options {\n",
      "  rewrite_options {\n",
      "    meta_optimizer_iterations: ONE\n",
      "  }\n",
      "}\n",
      ", '_global_id_in_cluster': 0, '_keep_checkpoint_every_n_hours': 10000, '_task_type': 'worker', '_service': None, '_keep_checkpoint_max': 5, '_num_ps_replicas': 0, '_save_checkpoints_secs': None, '_device_fn': None, '_model_dir': '/tmp/models', '_evaluation_master': '', '_save_summary_steps': 20000}\n"
     ]
    }
   ],
   "source": [
    "estimator = tf.estimator.Estimator(\n",
    "        config=config,\n",
    "        model_fn=model_function)"
   ]
  },
  {
   "cell_type": "code",
   "execution_count": 188,
   "metadata": {},
   "outputs": [
    {
     "name": "stdout",
     "output_type": "stream",
     "text": [
      "Training up to 97656.25 steps now...\n"
     ]
    }
   ],
   "source": [
    "max_steps = (\n",
    "    5000 *    # total number of records\n",
    "    5000 /       # number of epochs I want for training\n",
    "    256       # batch size\n",
    ")\n",
    "\n",
    "print(\"Training up to %s steps now...\" % max_steps)\n",
    "\n",
    "train_spec = tf.estimator.TrainSpec(\n",
    "    input_fn=train_input_fn, \n",
    "    max_steps=max_steps)\n",
    "\n",
    "eval_spec = tf.estimator.EvalSpec(\n",
    "    input_fn=eval_input_fn, exporters=exporter,\n",
    "    steps = 2, # 2 batches for evaluation\n",
    "    \n",
    "    throttle_secs=1, # technical stuff - don't bother\n",
    "    start_delay_secs=0)"
   ]
  },
  {
   "cell_type": "code",
   "execution_count": 189,
   "metadata": {},
   "outputs": [
    {
     "name": "stdout",
     "output_type": "stream",
     "text": [
      "INFO:tensorflow:Not using Distribute Coordinator.\n",
      "INFO:tensorflow:Running training and evaluation locally (non-distributed).\n",
      "INFO:tensorflow:Start train and evaluate loop. The evaluate will happen after every checkpoint. Checkpoint frequency is determined based on RunConfig arguments: save_checkpoints_steps 20000 or save_checkpoints_secs None.\n",
      "INFO:tensorflow:Calling model_fn.\n",
      "INFO:tensorflow:Done calling model_fn.\n",
      "INFO:tensorflow:Create CheckpointSaverHook.\n",
      "INFO:tensorflow:Graph was finalized.\n",
      "INFO:tensorflow:Restoring parameters from /tmp/models/model.ckpt-31250\n",
      "INFO:tensorflow:Running local_init_op.\n",
      "INFO:tensorflow:Done running local_init_op.\n",
      "INFO:tensorflow:Saving checkpoints for 31250 into /tmp/models/model.ckpt.\n",
      "INFO:tensorflow:loss = 3.2666435e-06, step = 31250\n",
      "INFO:tensorflow:global_step/sec: 23.7596\n",
      "INFO:tensorflow:loss = 2.5169136e-05, step = 32250 (42.089 sec)\n",
      "INFO:tensorflow:global_step/sec: 23.5975\n",
      "INFO:tensorflow:loss = 1.7111934e-05, step = 33250 (42.377 sec)\n",
      "INFO:tensorflow:global_step/sec: 23.1043\n",
      "INFO:tensorflow:loss = 2.0285212e-05, step = 34250 (43.282 sec)\n",
      "INFO:tensorflow:global_step/sec: 22.9992\n",
      "INFO:tensorflow:loss = 1.0300119e-05, step = 35250 (43.480 sec)\n",
      "INFO:tensorflow:global_step/sec: 22.9274\n",
      "INFO:tensorflow:loss = 1.5334184e-05, step = 36250 (43.616 sec)\n",
      "INFO:tensorflow:global_step/sec: 22.7718\n",
      "INFO:tensorflow:loss = 1.7744294e-05, step = 37250 (43.914 sec)\n",
      "INFO:tensorflow:global_step/sec: 22.7715\n",
      "INFO:tensorflow:loss = 8.650994e-06, step = 38250 (43.915 sec)\n",
      "INFO:tensorflow:global_step/sec: 22.7307\n",
      "INFO:tensorflow:loss = 1.4663273e-05, step = 39250 (43.993 sec)\n",
      "INFO:tensorflow:global_step/sec: 22.6849\n",
      "INFO:tensorflow:loss = 8.3173845e-06, step = 40250 (44.082 sec)\n",
      "INFO:tensorflow:global_step/sec: 22.6478\n",
      "INFO:tensorflow:loss = 7.469055e-06, step = 41250 (44.154 sec)\n",
      "INFO:tensorflow:global_step/sec: 22.6528\n",
      "INFO:tensorflow:loss = 1.7866128e-05, step = 42250 (44.144 sec)\n",
      "INFO:tensorflow:global_step/sec: 22.5947\n",
      "INFO:tensorflow:loss = 4.3418663e-06, step = 43250 (44.258 sec)\n",
      "INFO:tensorflow:global_step/sec: 22.6049\n",
      "INFO:tensorflow:loss = 1.0198587e-05, step = 44250 (44.238 sec)\n",
      "INFO:tensorflow:global_step/sec: 22.5694\n",
      "INFO:tensorflow:loss = 6.0192474e-06, step = 45250 (44.308 sec)\n",
      "INFO:tensorflow:global_step/sec: 22.5937\n",
      "INFO:tensorflow:loss = 7.1501986e-06, step = 46250 (44.260 sec)\n",
      "INFO:tensorflow:global_step/sec: 22.572\n",
      "INFO:tensorflow:loss = 5.925615e-06, step = 47250 (44.302 sec)\n",
      "INFO:tensorflow:global_step/sec: 22.5904\n",
      "INFO:tensorflow:loss = 3.3400873e-05, step = 48250 (44.267 sec)\n",
      "INFO:tensorflow:global_step/sec: 22.5539\n",
      "INFO:tensorflow:loss = 7.248382e-06, step = 49250 (44.338 sec)\n",
      "INFO:tensorflow:global_step/sec: 22.5823\n",
      "INFO:tensorflow:loss = 8.328098e-06, step = 50250 (44.282 sec)\n",
      "INFO:tensorflow:Saving checkpoints for 51250 into /tmp/models/model.ckpt.\n",
      "INFO:tensorflow:Calling model_fn.\n",
      "INFO:tensorflow:Done calling model_fn.\n",
      "INFO:tensorflow:Starting evaluation at 2019-06-16T16:52:20Z\n",
      "INFO:tensorflow:Graph was finalized.\n",
      "INFO:tensorflow:Restoring parameters from /tmp/models/model.ckpt-51250\n",
      "INFO:tensorflow:Running local_init_op.\n",
      "INFO:tensorflow:Done running local_init_op.\n",
      "INFO:tensorflow:Evaluation [1/2]\n",
      "INFO:tensorflow:Evaluation [2/2]\n",
      "INFO:tensorflow:Finished evaluation at 2019-06-16-16:52:21\n",
      "INFO:tensorflow:Saving dict for global step 51250: global_step = 51250, loss = 3.4301684e-06\n",
      "INFO:tensorflow:Saving 'checkpoint_path' summary for global step 51250: /tmp/models/model.ckpt-51250\n",
      "INFO:tensorflow:Calling model_fn.\n",
      "INFO:tensorflow:Done calling model_fn.\n",
      "INFO:tensorflow:Signatures INCLUDED in export for Predict: ['serving_default']\n",
      "INFO:tensorflow:Signatures INCLUDED in export for Classify: None\n",
      "INFO:tensorflow:Signatures INCLUDED in export for Regress: None\n",
      "INFO:tensorflow:Signatures INCLUDED in export for Train: None\n",
      "INFO:tensorflow:Signatures INCLUDED in export for Eval: None\n",
      "INFO:tensorflow:Restoring parameters from /tmp/models/model.ckpt-51250\n",
      "INFO:tensorflow:Assets added to graph.\n",
      "INFO:tensorflow:No assets to write.\n",
      "INFO:tensorflow:SavedModel written to: /tmp/models/export/exporter/temp-b'1560703941'/saved_model.pb\n",
      "INFO:tensorflow:global_step/sec: 21.1255\n",
      "INFO:tensorflow:loss = 4.1338485e-06, step = 51250 (47.336 sec)\n",
      "INFO:tensorflow:global_step/sec: 22.6764\n",
      "INFO:tensorflow:loss = 3.134043e-05, step = 52250 (44.099 sec)\n",
      "INFO:tensorflow:global_step/sec: 22.5779\n",
      "INFO:tensorflow:loss = 3.805232e-06, step = 53250 (44.291 sec)\n",
      "INFO:tensorflow:global_step/sec: 22.5477\n",
      "INFO:tensorflow:loss = 1.2409903e-05, step = 54250 (44.350 sec)\n",
      "INFO:tensorflow:global_step/sec: 22.5604\n",
      "INFO:tensorflow:loss = 3.6580698e-06, step = 55250 (44.326 sec)\n",
      "INFO:tensorflow:global_step/sec: 22.546\n",
      "INFO:tensorflow:loss = 4.1978155e-06, step = 56250 (44.353 sec)\n",
      "INFO:tensorflow:global_step/sec: 22.5721\n",
      "INFO:tensorflow:loss = 1.501969e-05, step = 57250 (44.303 sec)\n",
      "INFO:tensorflow:global_step/sec: 22.5523\n",
      "INFO:tensorflow:loss = 3.9691495e-06, step = 58250 (44.341 sec)\n",
      "INFO:tensorflow:global_step/sec: 22.5423\n",
      "INFO:tensorflow:loss = 4.6904343e-06, step = 59250 (44.361 sec)\n",
      "INFO:tensorflow:global_step/sec: 22.5533\n",
      "INFO:tensorflow:loss = 4.776065e-06, step = 60250 (44.339 sec)\n",
      "INFO:tensorflow:global_step/sec: 22.5254\n",
      "INFO:tensorflow:loss = 5.462096e-06, step = 61250 (44.394 sec)\n",
      "INFO:tensorflow:global_step/sec: 22.5409\n",
      "INFO:tensorflow:loss = 1.0923814e-05, step = 62250 (44.364 sec)\n",
      "INFO:tensorflow:global_step/sec: 22.5439\n",
      "INFO:tensorflow:loss = 2.8439524e-06, step = 63250 (44.358 sec)\n",
      "INFO:tensorflow:global_step/sec: 22.5681\n",
      "INFO:tensorflow:loss = 3.395874e-06, step = 64250 (44.311 sec)\n",
      "INFO:tensorflow:global_step/sec: 22.6007\n",
      "INFO:tensorflow:loss = 2.4771275e-06, step = 65250 (44.246 sec)\n",
      "INFO:tensorflow:global_step/sec: 22.5626\n",
      "INFO:tensorflow:loss = 4.757615e-06, step = 66250 (44.321 sec)\n",
      "INFO:tensorflow:global_step/sec: 22.5452\n",
      "INFO:tensorflow:loss = 4.45431e-06, step = 67250 (44.356 sec)\n",
      "INFO:tensorflow:global_step/sec: 22.523\n",
      "INFO:tensorflow:loss = 3.4692664e-06, step = 68250 (44.399 sec)\n",
      "INFO:tensorflow:global_step/sec: 22.5537\n",
      "INFO:tensorflow:loss = 3.2907672e-06, step = 69250 (44.339 sec)\n",
      "INFO:tensorflow:global_step/sec: 22.5522\n",
      "INFO:tensorflow:loss = 1.137192e-05, step = 70250 (44.341 sec)\n",
      "INFO:tensorflow:Saving checkpoints for 71250 into /tmp/models/model.ckpt.\n",
      "INFO:tensorflow:Calling model_fn.\n",
      "INFO:tensorflow:Done calling model_fn.\n",
      "INFO:tensorflow:Starting evaluation at 2019-06-16T17:07:10Z\n",
      "INFO:tensorflow:Graph was finalized.\n",
      "INFO:tensorflow:Restoring parameters from /tmp/models/model.ckpt-71250\n",
      "INFO:tensorflow:Running local_init_op.\n",
      "INFO:tensorflow:Done running local_init_op.\n",
      "INFO:tensorflow:Evaluation [1/2]\n",
      "INFO:tensorflow:Evaluation [2/2]\n",
      "INFO:tensorflow:Finished evaluation at 2019-06-16-17:07:10\n",
      "INFO:tensorflow:Saving dict for global step 71250: global_step = 71250, loss = 1.7231137e-06\n",
      "INFO:tensorflow:Saving 'checkpoint_path' summary for global step 71250: /tmp/models/model.ckpt-71250\n",
      "INFO:tensorflow:Calling model_fn.\n",
      "INFO:tensorflow:Done calling model_fn.\n",
      "INFO:tensorflow:Signatures INCLUDED in export for Predict: ['serving_default']\n",
      "INFO:tensorflow:Signatures INCLUDED in export for Classify: None\n",
      "INFO:tensorflow:Signatures INCLUDED in export for Regress: None\n",
      "INFO:tensorflow:Signatures INCLUDED in export for Train: None\n",
      "INFO:tensorflow:Signatures INCLUDED in export for Eval: None\n",
      "INFO:tensorflow:Restoring parameters from /tmp/models/model.ckpt-71250\n",
      "INFO:tensorflow:Assets added to graph.\n",
      "INFO:tensorflow:No assets to write.\n",
      "INFO:tensorflow:SavedModel written to: /tmp/models/export/exporter/temp-b'1560704830'/saved_model.pb\n",
      "INFO:tensorflow:global_step/sec: 21.373\n",
      "INFO:tensorflow:loss = 2.1768737e-06, step = 71250 (46.788 sec)\n",
      "INFO:tensorflow:global_step/sec: 22.6133\n",
      "INFO:tensorflow:loss = 3.6473689e-06, step = 72250 (44.222 sec)\n",
      "INFO:tensorflow:global_step/sec: 22.5682\n",
      "INFO:tensorflow:loss = 2.4036124e-06, step = 73250 (44.310 sec)\n",
      "INFO:tensorflow:global_step/sec: 22.5529\n",
      "INFO:tensorflow:loss = 2.431868e-06, step = 74250 (44.340 sec)\n",
      "INFO:tensorflow:global_step/sec: 22.5513\n",
      "INFO:tensorflow:loss = 2.3066348e-06, step = 75250 (44.343 sec)\n",
      "INFO:tensorflow:global_step/sec: 22.5414\n",
      "INFO:tensorflow:loss = 1.7985159e-06, step = 76250 (44.363 sec)\n",
      "INFO:tensorflow:global_step/sec: 22.562\n",
      "INFO:tensorflow:loss = 4.2278316e-06, step = 77250 (44.322 sec)\n",
      "INFO:tensorflow:global_step/sec: 22.5523\n",
      "INFO:tensorflow:loss = 1.8377285e-06, step = 78250 (44.341 sec)\n",
      "INFO:tensorflow:global_step/sec: 22.5292\n",
      "INFO:tensorflow:loss = 2.7068115e-06, step = 79250 (44.387 sec)\n",
      "INFO:tensorflow:global_step/sec: 22.585\n",
      "INFO:tensorflow:loss = 4.3606465e-06, step = 80250 (44.277 sec)\n",
      "INFO:tensorflow:global_step/sec: 22.5493\n",
      "INFO:tensorflow:loss = 2.3116963e-06, step = 81250 (44.348 sec)\n",
      "INFO:tensorflow:global_step/sec: 22.5379\n",
      "INFO:tensorflow:loss = 4.0593127e-06, step = 82250 (44.370 sec)\n",
      "INFO:tensorflow:global_step/sec: 22.5452\n",
      "INFO:tensorflow:loss = 1.9951112e-06, step = 83250 (44.355 sec)\n",
      "INFO:tensorflow:global_step/sec: 22.5746\n",
      "INFO:tensorflow:loss = 2.3790367e-06, step = 84250 (44.298 sec)\n",
      "INFO:tensorflow:global_step/sec: 22.5226\n",
      "INFO:tensorflow:loss = 2.987498e-06, step = 85250 (44.400 sec)\n",
      "INFO:tensorflow:global_step/sec: 22.5389\n",
      "INFO:tensorflow:loss = 3.2049159e-06, step = 86250 (44.368 sec)\n",
      "INFO:tensorflow:global_step/sec: 22.5503\n",
      "INFO:tensorflow:loss = 4.574859e-06, step = 87250 (44.345 sec)\n",
      "INFO:tensorflow:global_step/sec: 22.523\n",
      "INFO:tensorflow:loss = 2.207439e-06, step = 88250 (44.399 sec)\n",
      "INFO:tensorflow:global_step/sec: 22.5875\n",
      "INFO:tensorflow:loss = 1.8131989e-06, step = 89250 (44.272 sec)\n",
      "INFO:tensorflow:global_step/sec: 22.5665\n",
      "INFO:tensorflow:loss = 2.803815e-06, step = 90250 (44.313 sec)\n",
      "INFO:tensorflow:Saving checkpoints for 91250 into /tmp/models/model.ckpt.\n",
      "INFO:tensorflow:Calling model_fn.\n",
      "INFO:tensorflow:Done calling model_fn.\n",
      "INFO:tensorflow:Starting evaluation at 2019-06-16T17:21:59Z\n",
      "INFO:tensorflow:Graph was finalized.\n",
      "INFO:tensorflow:Restoring parameters from /tmp/models/model.ckpt-91250\n",
      "INFO:tensorflow:Running local_init_op.\n",
      "INFO:tensorflow:Done running local_init_op.\n",
      "INFO:tensorflow:Evaluation [1/2]\n",
      "INFO:tensorflow:Evaluation [2/2]\n",
      "INFO:tensorflow:Finished evaluation at 2019-06-16-17:21:59\n",
      "INFO:tensorflow:Saving dict for global step 91250: global_step = 91250, loss = 1.7893299e-06\n",
      "INFO:tensorflow:Saving 'checkpoint_path' summary for global step 91250: /tmp/models/model.ckpt-91250\n",
      "INFO:tensorflow:Calling model_fn.\n",
      "INFO:tensorflow:Done calling model_fn.\n",
      "INFO:tensorflow:Signatures INCLUDED in export for Predict: ['serving_default']\n",
      "INFO:tensorflow:Signatures INCLUDED in export for Classify: None\n",
      "INFO:tensorflow:Signatures INCLUDED in export for Regress: None\n",
      "INFO:tensorflow:Signatures INCLUDED in export for Train: None\n",
      "INFO:tensorflow:Signatures INCLUDED in export for Eval: None\n",
      "INFO:tensorflow:Restoring parameters from /tmp/models/model.ckpt-91250\n",
      "INFO:tensorflow:Assets added to graph.\n",
      "INFO:tensorflow:No assets to write.\n",
      "INFO:tensorflow:SavedModel written to: /tmp/models/export/exporter/temp-b'1560705719'/saved_model.pb\n",
      "INFO:tensorflow:global_step/sec: 21.4307\n",
      "INFO:tensorflow:loss = 2.2210866e-06, step = 91250 (46.662 sec)\n",
      "INFO:tensorflow:global_step/sec: 22.6921\n",
      "INFO:tensorflow:loss = 4.3968444e-06, step = 92250 (44.068 sec)\n",
      "INFO:tensorflow:global_step/sec: 22.5459\n",
      "INFO:tensorflow:loss = 3.7011907e-06, step = 93250 (44.354 sec)\n",
      "INFO:tensorflow:global_step/sec: 22.5579\n",
      "INFO:tensorflow:loss = 1.3334248e-06, step = 94250 (44.330 sec)\n",
      "INFO:tensorflow:global_step/sec: 22.5705\n",
      "INFO:tensorflow:loss = 2.269421e-06, step = 95250 (44.305 sec)\n",
      "INFO:tensorflow:global_step/sec: 22.5805\n",
      "INFO:tensorflow:loss = 1.6084775e-06, step = 96250 (44.287 sec)\n",
      "INFO:tensorflow:global_step/sec: 22.54\n",
      "INFO:tensorflow:loss = 1.9767238e-06, step = 97250 (44.365 sec)\n",
      "INFO:tensorflow:Saving checkpoints for 97657 into /tmp/models/model.ckpt.\n",
      "INFO:tensorflow:Calling model_fn.\n",
      "INFO:tensorflow:Done calling model_fn.\n",
      "INFO:tensorflow:Starting evaluation at 2019-06-16T17:26:45Z\n",
      "INFO:tensorflow:Graph was finalized.\n",
      "INFO:tensorflow:Restoring parameters from /tmp/models/model.ckpt-97657\n",
      "INFO:tensorflow:Running local_init_op.\n",
      "INFO:tensorflow:Done running local_init_op.\n",
      "INFO:tensorflow:Evaluation [1/2]\n",
      "INFO:tensorflow:Evaluation [2/2]\n",
      "INFO:tensorflow:Finished evaluation at 2019-06-16-17:26:46\n",
      "INFO:tensorflow:Saving dict for global step 97657: global_step = 97657, loss = 1.7644379e-06\n",
      "INFO:tensorflow:Saving 'checkpoint_path' summary for global step 97657: /tmp/models/model.ckpt-97657\n",
      "INFO:tensorflow:Calling model_fn.\n",
      "INFO:tensorflow:Done calling model_fn.\n",
      "INFO:tensorflow:Signatures INCLUDED in export for Predict: ['serving_default']\n",
      "INFO:tensorflow:Signatures INCLUDED in export for Classify: None\n",
      "INFO:tensorflow:Signatures INCLUDED in export for Regress: None\n",
      "INFO:tensorflow:Signatures INCLUDED in export for Train: None\n",
      "INFO:tensorflow:Signatures INCLUDED in export for Eval: None\n",
      "INFO:tensorflow:Restoring parameters from /tmp/models/model.ckpt-97657\n",
      "INFO:tensorflow:Assets added to graph.\n",
      "INFO:tensorflow:No assets to write.\n",
      "INFO:tensorflow:SavedModel written to: /tmp/models/export/exporter/temp-b'1560706006'/saved_model.pb\n",
      "INFO:tensorflow:Loss for final step: 2.4552994e-06.\n"
     ]
    },
    {
     "data": {
      "text/plain": [
       "({'global_step': 97657, 'loss': 1.7644379e-06},\n",
       " [b'/tmp/models/export/exporter/1560706006'])"
      ]
     },
     "execution_count": 189,
     "metadata": {},
     "output_type": "execute_result"
    }
   ],
   "source": [
    "tf.estimator.train_and_evaluate(\n",
    "    estimator,\n",
    "    train_spec=train_spec,\n",
    "    eval_spec=eval_spec)"
   ]
  },
  {
   "cell_type": "code",
   "execution_count": 190,
   "metadata": {},
   "outputs": [
    {
     "name": "stdout",
     "output_type": "stream",
     "text": [
      "Versions: ['1560700849', '1560703941', '1560704830', '1560705719', '1560706006']\n",
      "/tmp/models/export/exporter/1560706006\n",
      "saved_model.pb\tvariables\n"
     ]
    }
   ],
   "source": [
    "import os\n",
    "model_dir = os.path.join(\"/tmp/\", \"models/export/exporter\")\n",
    "versions = !ls $model_dir\n",
    "print( \"Versions: %s\" % versions)\n",
    "latest_version = max(versions)\n",
    "latest_model = os.path.join(model_dir, str(latest_version))\n",
    "!echo $latest_model\n",
    "!ls $latest_model"
   ]
  },
  {
   "cell_type": "code",
   "execution_count": 191,
   "metadata": {},
   "outputs": [
    {
     "name": "stdout",
     "output_type": "stream",
     "text": [
      "INFO:tensorflow:Restoring parameters from /tmp/models/export/exporter/1560706006/variables/variables\n"
     ]
    }
   ],
   "source": [
    "estimator = tf.contrib.predictor.from_saved_model(latest_model)"
   ]
  },
  {
   "cell_type": "code",
   "execution_count": 192,
   "metadata": {},
   "outputs": [],
   "source": [
    "def _parse_function(example):\n",
    "    return tf.parse_single_example(example, feature_spec)"
   ]
  },
  {
   "cell_type": "code",
   "execution_count": 193,
   "metadata": {},
   "outputs": [],
   "source": [
    "dataset = tf.data.TFRecordDataset(\"deleteme.tfr\")"
   ]
  },
  {
   "cell_type": "code",
   "execution_count": 194,
   "metadata": {},
   "outputs": [],
   "source": [
    "N_p=21\n",
    "feature_spec = {\n",
    "    'state': tf.FixedLenFeature([N_p * N_p * 2], tf.float32),\n",
    "    'distr': tf.FixedLenFeature([N_p * N_p], tf.float32)\n",
    "}\n",
    "decoded = dataset.map(_parse_function).make_one_shot_iterator().get_next()"
   ]
  },
  {
   "cell_type": "code",
   "execution_count": 195,
   "metadata": {},
   "outputs": [],
   "source": [
    "with tf.Session() as sess:\n",
    "    res2 = sess.run(decoded)"
   ]
  },
  {
   "cell_type": "code",
   "execution_count": 196,
   "metadata": {},
   "outputs": [
    {
     "data": {
      "text/plain": [
       "((882,), (441,))"
      ]
     },
     "execution_count": 196,
     "metadata": {},
     "output_type": "execute_result"
    }
   ],
   "source": [
    "res2['state'].shape, res2['distr'].shape"
   ]
  },
  {
   "cell_type": "code",
   "execution_count": 197,
   "metadata": {},
   "outputs": [
    {
     "data": {
      "text/plain": [
       "array([[0, 0, 0, 0, 0, 0, 0, 0, 0, 0, 0, 0, 0, 0, 0, 0, 0, 0, 0],\n",
       "       [0, 0, 0, 0, 0, 0, 0, 0, 0, 0, 0, 0, 0, 0, 0, 0, 0, 0, 0],\n",
       "       [0, 0, 0, 0, 0, 0, 0, 0, 0, 0, 0, 0, 0, 0, 0, 0, 0, 0, 0],\n",
       "       [0, 0, 0, 0, 0, 0, 0, 0, 0, 0, 0, 0, 0, 0, 0, 0, 0, 0, 0],\n",
       "       [0, 0, 0, 0, 0, 0, 0, 0, 0, 0, 0, 0, 0, 0, 0, 0, 0, 0, 0],\n",
       "       [0, 0, 0, 0, 0, 0, 0, 0, 0, 0, 0, 0, 0, 0, 0, 0, 0, 0, 0],\n",
       "       [0, 0, 0, 0, 0, 0, 0, 0, 0, 0, 0, 0, 0, 0, 0, 0, 0, 0, 0],\n",
       "       [0, 0, 0, 0, 0, 0, 0, 0, 2, 0, 0, 0, 0, 0, 0, 0, 0, 0, 0],\n",
       "       [0, 0, 0, 0, 0, 0, 0, 2, 1, 0, 0, 2, 0, 0, 0, 0, 0, 0, 0],\n",
       "       [0, 0, 0, 0, 0, 0, 0, 0, 1, 2, 1, 0, 0, 0, 0, 0, 0, 0, 0],\n",
       "       [0, 0, 0, 0, 0, 0, 0, 2, 1, 1, 0, 1, 0, 0, 0, 0, 0, 0, 0],\n",
       "       [0, 0, 0, 0, 2, 0, 1, 1, 1, 2, 2, 1, 2, 0, 0, 0, 0, 0, 0],\n",
       "       [0, 0, 0, 0, 0, 0, 0, 2, 2, 0, 1, 1, 2, 1, 0, 0, 0, 0, 0],\n",
       "       [0, 0, 0, 0, 0, 0, 0, 0, 0, 0, 0, 2, 0, 0, 0, 0, 0, 0, 0],\n",
       "       [0, 0, 0, 0, 0, 0, 0, 0, 0, 0, 0, 0, 0, 0, 0, 0, 0, 0, 0],\n",
       "       [0, 0, 0, 0, 0, 0, 0, 0, 0, 0, 0, 0, 0, 0, 0, 0, 0, 0, 0],\n",
       "       [0, 0, 0, 0, 0, 0, 0, 0, 0, 0, 0, 0, 0, 0, 0, 0, 0, 0, 0],\n",
       "       [0, 0, 0, 0, 0, 0, 0, 0, 0, 0, 0, 0, 0, 0, 0, 0, 0, 0, 0],\n",
       "       [0, 0, 0, 0, 0, 0, 0, 0, 0, 0, 0, 0, 0, 0, 0, 0, 0, 0, 0]])"
      ]
     },
     "execution_count": 197,
     "metadata": {},
     "output_type": "execute_result"
    }
   ],
   "source": [
    "from wgomoku import to_matrix12\n",
    "sample=res2['state'].reshape(1,21,21,2)\n",
    "m12 = to_matrix12(sample, 21)\n",
    "m12"
   ]
  },
  {
   "cell_type": "code",
   "execution_count": 198,
   "metadata": {},
   "outputs": [
    {
     "data": {
      "text/plain": [
       "(19, 19)"
      ]
     },
     "execution_count": 198,
     "metadata": {},
     "output_type": "execute_result"
    }
   ],
   "source": [
    "distr = estimator({'state': sample})\n",
    "predi = distr['output'].reshape(21,21)[1:-1].T[1:-1].T\n",
    "predi.shape"
   ]
  },
  {
   "cell_type": "code",
   "execution_count": 199,
   "metadata": {},
   "outputs": [],
   "source": [
    "from wgomoku import (\n",
    "    GomokuBoard,\n",
    "    HeuristicGomokuPolicy, Heuristics, GomokuTools as gt)"
   ]
  },
  {
   "cell_type": "code",
   "execution_count": 200,
   "metadata": {},
   "outputs": [],
   "source": [
    "size=19\n",
    "p = HeuristicGomokuPolicy(style = 2, bias=.5, topn=5)\n",
    "heuristics = Heuristics(kappa=3.0)"
   ]
  },
  {
   "cell_type": "code",
   "execution_count": 201,
   "metadata": {},
   "outputs": [
    {
     "data": {
      "image/png": "[encoded data removed]",
      "text/plain": [
       "<Figure size 720x720 with 1 Axes>"
      ]
     },
     "metadata": {
      "needs_background": "light"
     },
     "output_type": "display_data"
    }
   ],
   "source": [
    "import numpy as np\n",
    "black = [gt.m2b(p, 19) for p, v in list(np.ndenumerate(m12)) if v == 1]\n",
    "white = [gt.m2b(p, 19) for p, v in list(np.ndenumerate(m12)) if v == 2]\n",
    "pairs = zip(black, white)\n",
    "\n",
    "moves = []\n",
    "for b,w in pairs: \n",
    "    moves.append(b)\n",
    "    moves.append(w)\n",
    "board = GomokuBoard(N=19, stones=moves, heuristics=heuristics, \n",
    "                    disp_width=10)\n",
    "board.display(probas=lambda x: predi)"
   ]
  },
  {
   "cell_type": "code",
   "execution_count": 202,
   "metadata": {},
   "outputs": [],
   "source": [
    "from wgomoku import create_sample\n",
    "smp = create_sample(board.stones, 19, 1-board.current_color)"
   ]
  },
  {
   "cell_type": "code",
   "execution_count": 203,
   "metadata": {},
   "outputs": [
    {
     "data": {
      "text/plain": [
       "(21, 21, 2)"
      ]
     },
     "execution_count": 203,
     "metadata": {},
     "output_type": "execute_result"
    }
   ],
   "source": [
    "smp.shape"
   ]
  },
  {
   "cell_type": "code",
   "execution_count": 204,
   "metadata": {},
   "outputs": [],
   "source": [
    "sample = smp.reshape(1, 21, 21, 2)"
   ]
  },
  {
   "cell_type": "code",
   "execution_count": 205,
   "metadata": {},
   "outputs": [],
   "source": [
    "distr = estimator({'state': sample})"
   ]
  },
  {
   "cell_type": "code",
   "execution_count": 206,
   "metadata": {},
   "outputs": [],
   "source": [
    "def ai_policy(board):\n",
    "    smp = create_sample(board.stones, 19, 1-board.current_color)\n",
    "    sample = smp.reshape(1, 21, 21, 2)\n",
    "    pred = estimator({'state': sample})['output'][0].reshape(21,21)\n",
    "    return pred[1:-1].T[1:-1].T"
   ]
  },
  {
   "cell_type": "code",
   "execution_count": 207,
   "metadata": {},
   "outputs": [
    {
     "data": {
      "text/plain": [
       "(19, 19)"
      ]
     },
     "execution_count": 207,
     "metadata": {},
     "output_type": "execute_result"
    }
   ],
   "source": [
    "ai_policy(board).shape"
   ]
  },
  {
   "cell_type": "code",
   "execution_count": 208,
   "metadata": {},
   "outputs": [],
   "source": [
    "A,B,C,D,E,F,G,H,I,J,K,L,M,N,O,P,Q,R,S,T,U = \\\n",
    "    1,2,3,4,5,6,7,8,9,10,11,12,13,14,15,16,17,18,19,20,21\n",
    "BLACK=0\n",
    "WHITE=1\n",
    "EDGES=2"
   ]
  },
  {
   "cell_type": "code",
   "execution_count": 396,
   "metadata": {},
   "outputs": [],
   "source": [
    "board.undo().undo().undo().undo().undo().undo().undo().undo(True);"
   ]
  },
  {
   "cell_type": "code",
   "execution_count": 397,
   "metadata": {},
   "outputs": [
    {
     "data": {
      "image/png": "[encoded data removed]",
      "text/plain": [
       "<Figure size 720x720 with 1 Axes>"
      ]
     },
     "metadata": {
      "needs_background": "light"
     },
     "output_type": "display_data"
    }
   ],
   "source": [
    "board.display(probas = ai_policy)"
   ]
  },
  {
   "cell_type": "code",
   "execution_count": 398,
   "metadata": {},
   "outputs": [],
   "source": [
    "from wgomoku import StochasticMaxSampler"
   ]
  },
  {
   "cell_type": "code",
   "execution_count": 399,
   "metadata": {},
   "outputs": [
    {
     "data": {
      "text/plain": [
       "(7, 12)"
      ]
     },
     "execution_count": 399,
     "metadata": {},
     "output_type": "execute_result"
    }
   ],
   "source": [
    "sampler.choices[0][1]"
   ]
  },
  {
   "cell_type": "code",
   "execution_count": 430,
   "metadata": {},
   "outputs": [
    {
     "name": "stdout",
     "output_type": "stream",
     "text": [
      "M 7\n"
     ]
    },
    {
     "data": {
      "image/png": "[encoded data removed]",
      "text/plain": [
       "<Figure size 720x720 with 1 Axes>"
      ]
     },
     "metadata": {
      "needs_background": "light"
     },
     "output_type": "display_data"
    }
   ],
   "source": [
    "sampler = StochasticMaxSampler(np.ndenumerate(ai_policy(board)), bias=8, topn=5)\n",
    "rc = sampler.choices[0][1]\n",
    "x, y = gt.m2b(rc, 19)\n",
    "print(chr(64+x), y)\n",
    "board.set(x, y);\n",
    "board.display(probas = ai_policy)"
   ]
  },
  {
   "cell_type": "code",
   "execution_count": 385,
   "metadata": {},
   "outputs": [],
   "source": [
    "board.set(H,8);"
   ]
  },
  {
   "cell_type": "code",
   "execution_count": 394,
   "metadata": {},
   "outputs": [
    {
     "data": {
      "text/plain": [
       "<wgomoku.GomokuBoard.GomokuBoard at 0x7fb9a7573390>"
      ]
     },
     "execution_count": 394,
     "metadata": {},
     "output_type": "execute_result"
    }
   ],
   "source": [
    "board.undo()"
   ]
  },
  {
   "cell_type": "code",
   "execution_count": 393,
   "metadata": {},
   "outputs": [
    {
     "name": "stdout",
     "output_type": "stream",
     "text": [
      "[(0.55414367, (11, 11), 0.44585627, 0.28087252), (0.294051, (10, 8), 0.2600927, 0.2135027), (0.19006908, (10, 10), 0.10398193, 0.09890008), (0.09498331, (11, 7), 0.09508577, 0.08772035), (0.0, (7, 7), 0.09498331, 0.08758558)]\n"
     ]
    },
    {
     "data": {
      "image/png": "[encoded data removed]",
      "text/plain": [
       "<Figure size 720x720 with 1 Axes>"
      ]
     },
     "metadata": {
      "needs_background": "light"
     },
     "output_type": "display_data"
    }
   ],
   "source": [
    "board.display(probas = ai_policy)\n",
    "sampler = StochasticMaxSampler(np.ndenumerate(ai_policy(board)), bias=8, topn=5)\n",
    "print(sampler.choices)\n"
   ]
  },
  {
   "cell_type": "code",
   "execution_count": null,
   "metadata": {},
   "outputs": [],
   "source": []
  }
 ],
 "metadata": {
  "kernelspec": {
   "display_name": "Python 3",
   "language": "python",
   "name": "python3"
  },
  "language_info": {
   "codemirror_mode": {
    "name": "ipython",
    "version": 3
   },
   "file_extension": ".py",
   "mimetype": "text/x-python",
   "name": "python",
   "nbconvert_exporter": "python",
   "pygments_lexer": "ipython3",
   "version": "3.5.2"
  }
 },
 "nbformat": 4,
 "nbformat_minor": 2
}
