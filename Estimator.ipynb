{
 "cells": [
  {
   "cell_type": "code",
   "execution_count": 1,
   "metadata": {},
   "outputs": [],
   "source": [
    "%load_ext autoreload\n",
    "%autoreload 2"
   ]
  },
  {
   "cell_type": "code",
   "execution_count": 2,
   "metadata": {},
   "outputs": [],
   "source": [
    "from __future__ import print_function, absolute_import, division\n",
    "import tensorflow as tf"
   ]
  },
  {
   "cell_type": "code",
   "execution_count": 3,
   "metadata": {},
   "outputs": [
    {
     "name": "stdout",
     "output_type": "stream",
     "text": [
      "1.13.1\n"
     ]
    },
    {
     "data": {
      "text/plain": [
       "True"
      ]
     },
     "execution_count": 3,
     "metadata": {},
     "output_type": "execute_result"
    }
   ],
   "source": [
    "print(tf.__version__)\n",
    "tf.test.is_gpu_available()"
   ]
  },
  {
   "cell_type": "code",
   "execution_count": 12,
   "metadata": {},
   "outputs": [],
   "source": [
    "from tensorflow.estimator import RunConfig\n",
    "from training_functions import make_tfr_input_fn"
   ]
  },
  {
   "cell_type": "markdown",
   "metadata": {},
   "source": [
    "# Using a Tensorflow Estimator\n",
    "As you can see, the ```Estimator``` is the central working horse of ML Engineering. We'll have to provide it with \n",
    "- a model function: The model function creates appropriate versions of the hypothesis together with some parameters and the tools to evaluate and train the model.\n",
    "    - The model function returns ```EstimatorSpec```s for the different phases of the ML lifecycle\n",
    "- ```EvalSpec``` and ```TrainSpec``` objects that determine the physical characteristics of the training and evaluation phases.\n",
    "- a ```RunConfig``` that essentially describes the execution environment.\n",
    "\n",
    "After that, the estimator performs all steps independently, creates logfiles, safe-points, performance metrics, and the entire model update life cycle. At the end we get to a model that we can use for prediction."
   ]
  },
  {
   "cell_type": "markdown",
   "metadata": {},
   "source": [
    "### Configuration"
   ]
  },
  {
   "cell_type": "code",
   "execution_count": 5,
   "metadata": {},
   "outputs": [],
   "source": [
    "import tempfile\n",
    "temp_dir = tempfile.gettempdir()\n",
    "\n",
    "import os\n",
    "file_pattern = os.path.join(temp_dir, \"training.tfr-*\")\n",
    "file_pattern\n",
    "\n",
    "training_pattern = os.path.join(temp_dir, \"training.tfr-*\")\n",
    "eval_pattern = os.path.join(temp_dir, \"eval.tfr-*\")\n",
    "\n",
    "# remove this directory to start from scratch\n",
    "model_dir = os.path.join(temp_dir, \"models\" )"
   ]
  },
  {
   "cell_type": "code",
   "execution_count": 6,
   "metadata": {},
   "outputs": [],
   "source": [
    "training_pattern = 'deleteme.tfr'\n",
    "eval_pattern = 'deleteme.tfr'"
   ]
  },
  {
   "cell_type": "code",
   "execution_count": 7,
   "metadata": {},
   "outputs": [
    {
     "name": "stdout",
     "output_type": "stream",
     "text": [
      "Really delete /tmp/models?\n"
     ]
    }
   ],
   "source": [
    "![ -d $model_dir ] && echo \"Really delete $model_dir?\""
   ]
  },
  {
   "cell_type": "code",
   "execution_count": 8,
   "metadata": {},
   "outputs": [],
   "source": [
    "# Uncomment if you really want to delete the model and start from scratch\n",
    "!rm -rf $model_dir"
   ]
  },
  {
   "cell_type": "code",
   "execution_count": 9,
   "metadata": {},
   "outputs": [],
   "source": [
    "config = RunConfig(\n",
    "    model_dir              = model_dir,\n",
    "    save_summary_steps     = 10000,\n",
    "    save_checkpoints_steps = 1000,\n",
    "    log_step_count_steps   = 1000)"
   ]
  },
  {
   "cell_type": "code",
   "execution_count": 10,
   "metadata": {},
   "outputs": [],
   "source": [
    "training_options={\n",
    "    'num_epochs': None,  # repeat infinitely\n",
    "    'shuffle_buffer_size': 100,\n",
    "    'prefetch_buffer_size': 10,\n",
    "    'reader_num_threads': 10,\n",
    "    'parser_num_threads': 10,\n",
    "    'sloppy_ordering': True,\n",
    "    'distribute': False}\n",
    "\n",
    "eval_options={\n",
    "    'num_epochs': None,  # repeat infinitely\n",
    "    'shuffle_buffer_size': 100,\n",
    "    'prefetch_buffer_size': 10,\n",
    "    'reader_num_threads': 10,\n",
    "    'parser_num_threads': 10,\n",
    "    'sloppy_ordering': True,\n",
    "    'distribute': False}\n",
    "\n",
    "test_options={\n",
    "    'num_epochs': None,  # repeat infinitely\n",
    "    'shuffle_buffer_size': 1000,\n",
    "    'prefetch_buffer_size': 1000,\n",
    "    'reader_num_threads': 10,\n",
    "    'parser_num_threads': 10,\n",
    "    'sloppy_ordering': True,\n",
    "    'distribute': False}"
   ]
  },
  {
   "cell_type": "markdown",
   "metadata": {},
   "source": [
    "### Input Functions"
   ]
  },
  {
   "cell_type": "code",
   "execution_count": 13,
   "metadata": {},
   "outputs": [],
   "source": [
    "train_input_fn = make_tfr_input_fn(\n",
    "    filename_pattern=training_pattern,\n",
    "    batch_size=80,\n",
    "    options = training_options)\n",
    "\n",
    "eval_input_fn = make_tfr_input_fn(\n",
    "    filename_pattern=eval_pattern,\n",
    "    batch_size=80,\n",
    "    options = eval_options)"
   ]
  },
  {
   "cell_type": "markdown",
   "metadata": {},
   "source": [
    "### The model_function\n",
    "The model function provides ```EstimatorSpec```s, i.e. specifications how to build the model for each of the different cases: training, evaluation and test. Indeed, some models require the actual function to differ slightly between training and evaluation. The model function is the place to specify what exactly is to be calculated during each phase of the ML process. In our case, though, all specifications are essentially the same. Typically, you'd expect the *data scientist* to provide this function, so it's not so important that you fully understand the concept here."
   ]
  },
  {
   "cell_type": "code",
   "execution_count": 14,
   "metadata": {},
   "outputs": [],
   "source": [
    "class ResNet:\n",
    "    \"\"\"\n",
    "    After sufficient training, this instance of ResNet takes an array of dimensions 10x10 \n",
    "    and returns 1 if the array contains the pattern you tought it to recognize.\n",
    "    \"\"\"\n",
    "    def __init__(self, size, n_blocks, n_filters, inps=None, lbls=None):\n",
    "        \n",
    "        if inps == None:\n",
    "            inps = tf.placeholder(name=\"inp_resnet\", \n",
    "                                  shape=[None, size+2, size+2, 2], \n",
    "                                  dtype=tf.float32)\n",
    "            \n",
    "        if lbls == None:\n",
    "            lbls = tf.placeholder(name=\"lbl_resnet\", \n",
    "                                  shape=[None, size+2, size+2, 1], \n",
    "                                  dtype=tf.float32)\n",
    "        self.inps = inps\n",
    "        self.lbls = lbls\n",
    "\n",
    "        out = self.inps\n",
    "        for i in range(n_blocks):\n",
    "            out = self._res_block(out, n_filters)\n",
    "\n",
    "        self.out = tf.layers.conv2d(kernel_size=1, filters=1, inputs=out, \n",
    "                               padding='same', activation=None)\n",
    "\n",
    "        # TODO: Just wouldn't work, minimizes until a certain point then losses go up again\n",
    "        #lbls_1dim = tf.reshape(self.lbls, [-1, 21*21, 1])\n",
    "        #outs_1dim = tf.reshape(self.out, [-1, 21*21, 1])\n",
    "        #losses = tf.nn.softmax_cross_entropy_with_logits_v2(lbls_1dim, outs_1dim, axis=1)\n",
    "        #self.loss = tf.reduce_sum(losses)\n",
    "        self.loss = tf.losses.mean_squared_error(self.lbls, self.out)\n",
    "        \n",
    "        self.errors = tf.losses.mean_squared_error(self.lbls, self.out)\n",
    "        self.accuracy=tf.reduce_sum(tf.cast(self.errors < .1, dtype=tf.int64))\n",
    "\n",
    "        self.optimizer = tf.train.AdamOptimizer(learning_rate=1e-3)\n",
    "        self.trainer = self.optimizer.minimize(self.loss)\n",
    "    \n",
    "    \n",
    "    def _res_block(self, inp, filters, activation='relu'):\n",
    "      \n",
    "        out1_3 = tf.layers.conv2d(kernel_size=3, filters=filters, inputs=inp, \n",
    "                                  padding='same', activation=activation)\n",
    "        out1_5 = tf.layers.conv2d(kernel_size=5, filters=filters, inputs=inp, \n",
    "                                  padding='same', activation=activation)\n",
    "        out1 = tf.concat([out1_3, out1_5], axis=3)\n",
    "        \n",
    "        out2_3 = tf.layers.conv2d(kernel_size=3, filters=filters, inputs=out1, \n",
    "                                  padding='same', activation=activation)\n",
    "        out2_5 = tf.layers.conv2d(kernel_size=5, filters=filters, inputs=out1, \n",
    "                                  padding='same', activation=activation)\n",
    "        out2 = tf.concat([out2_3, out2_5], axis=3)\n",
    "        \n",
    "        out3_3 = tf.layers.conv2d(kernel_size=3, filters=filters, inputs=out2, \n",
    "                                  padding='same', activation=activation)\n",
    "        out3_5 = tf.layers.conv2d(kernel_size=5, filters=filters, inputs=out2, \n",
    "                                  padding='same', activation=activation)\n",
    "        out3 = tf.concat([out3_3, out3_5], axis=3)\n",
    "        \n",
    "        bn = tf.layers.batch_normalization(inputs=out3)\n",
    "\n",
    "        skip = tf.layers.conv2d(kernel_size=1, filters=2, inputs=inp, \n",
    "                                padding='same', activation=None)\n",
    "        \n",
    "        return tf.concat([skip, bn], axis=3)"
   ]
  },
  {
   "cell_type": "code",
   "execution_count": 15,
   "metadata": {},
   "outputs": [],
   "source": [
    "features, labels = train_input_fn()"
   ]
  },
  {
   "cell_type": "code",
   "execution_count": 16,
   "metadata": {},
   "outputs": [
    {
     "data": {
      "text/plain": [
       "{'state': <tf.Tensor 'IteratorGetNext:0' shape=(80, 21, 21, 2) dtype=float32>}"
      ]
     },
     "execution_count": 16,
     "metadata": {},
     "output_type": "execute_result"
    }
   ],
   "source": [
    "features"
   ]
  },
  {
   "cell_type": "code",
   "execution_count": 17,
   "metadata": {},
   "outputs": [
    {
     "name": "stdout",
     "output_type": "stream",
     "text": [
      "WARNING:tensorflow:From <ipython-input-14-c0ada8ad8930>:44: conv2d (from tensorflow.python.layers.convolutional) is deprecated and will be removed in a future version.\n",
      "Instructions for updating:\n",
      "Use keras.layers.conv2d instead.\n",
      "WARNING:tensorflow:From /home/wgiersche/workspace/DeepGomoku/venv/lib/python3.5/site-packages/tensorflow/python/framework/op_def_library.py:263: colocate_with (from tensorflow.python.framework.ops) is deprecated and will be removed in a future version.\n",
      "Instructions for updating:\n",
      "Colocations handled automatically by placer.\n",
      "WARNING:tensorflow:From <ipython-input-14-c0ada8ad8930>:61: batch_normalization (from tensorflow.python.layers.normalization) is deprecated and will be removed in a future version.\n",
      "Instructions for updating:\n",
      "Use keras.layers.batch_normalization instead.\n",
      "WARNING:tensorflow:From /home/wgiersche/workspace/DeepGomoku/venv/lib/python3.5/site-packages/tensorflow/python/ops/losses/losses_impl.py:667: to_float (from tensorflow.python.ops.math_ops) is deprecated and will be removed in a future version.\n",
      "Instructions for updating:\n",
      "Use tf.cast instead.\n"
     ]
    }
   ],
   "source": [
    "resnet = ResNet(19, n_blocks=10, n_filters=32, inps=features['state'], lbls=labels)"
   ]
  },
  {
   "cell_type": "markdown",
   "metadata": {},
   "source": [
    "## Last checks"
   ]
  },
  {
   "cell_type": "code",
   "execution_count": 33,
   "metadata": {},
   "outputs": [
    {
     "ename": "NameError",
     "evalue": "name 'sess' is not defined",
     "output_type": "error",
     "traceback": [
      "\u001b[0;31m---------------------------------------------------------------------------\u001b[0m",
      "\u001b[0;31mNameError\u001b[0m                                 Traceback (most recent call last)",
      "\u001b[0;32m<ipython-input-33-a1509e4bdec8>\u001b[0m in \u001b[0;36m<module>\u001b[0;34m\u001b[0m\n\u001b[0;32m----> 1\u001b[0;31m \u001b[0msess\u001b[0m\u001b[0;34m.\u001b[0m\u001b[0mclose\u001b[0m\u001b[0;34m(\u001b[0m\u001b[0;34m)\u001b[0m\u001b[0;34m\u001b[0m\u001b[0m\n\u001b[0m\u001b[1;32m      2\u001b[0m \u001b[0msess\u001b[0m \u001b[0;34m=\u001b[0m \u001b[0mtf\u001b[0m\u001b[0;34m.\u001b[0m\u001b[0mInteractiveSession\u001b[0m\u001b[0;34m(\u001b[0m\u001b[0;34m)\u001b[0m\u001b[0;34m\u001b[0m\u001b[0m\n",
      "\u001b[0;31mNameError\u001b[0m: name 'sess' is not defined"
     ]
    }
   ],
   "source": [
    "sess.close()\n",
    "sess = tf.InteractiveSession()"
   ]
  },
  {
   "cell_type": "code",
   "execution_count": 69,
   "metadata": {},
   "outputs": [],
   "source": [
    "init = tf.global_variables_initializer()\n",
    "sess.run(init)\n",
    "res = sess.run(resnet.out)"
   ]
  },
  {
   "cell_type": "code",
   "execution_count": 70,
   "metadata": {},
   "outputs": [
    {
     "name": "stdout",
     "output_type": "stream",
     "text": [
      "11.2 ms ± 33.5 µs per loop (mean ± std. dev. of 7 runs, 100 loops each)\n"
     ]
    }
   ],
   "source": [
    "%timeit res = sess.run(resnet.out)"
   ]
  },
  {
   "cell_type": "code",
   "execution_count": 71,
   "metadata": {},
   "outputs": [
    {
     "data": {
      "text/plain": [
       "(20, 21, 21, 1)"
      ]
     },
     "execution_count": 71,
     "metadata": {},
     "output_type": "execute_result"
    }
   ],
   "source": [
    "res.shape"
   ]
  },
  {
   "cell_type": "markdown",
   "metadata": {},
   "source": [
    "## Now there's no stopping us!"
   ]
  },
  {
   "cell_type": "code",
   "execution_count": 18,
   "metadata": {},
   "outputs": [],
   "source": [
    "def model_function(features, labels, mode):\n",
    "\n",
    "    #my_input_layer = input_layer(features)\n",
    "    my_input_layer = features['state']\n",
    "\n",
    "    resnet = ResNet(19, n_blocks=2, n_filters=32, inps=my_input_layer, lbls=labels)\n",
    "    hypothesis = resnet.out\n",
    "\n",
    "    #\n",
    "    # For predictions, we just need the hypothesis.\n",
    "    #\n",
    "    if mode == tf.estimator.ModeKeys.PREDICT:\n",
    "        return tf.estimator.EstimatorSpec(\n",
    "            tf.estimator.ModeKeys.PREDICT, \n",
    "            predictions=hypothesis)\n",
    "\n",
    "    #\n",
    "    # For evaluation, we need to provide the loss function, too.\n",
    "    #\n",
    "    loss = tf.losses.mean_squared_error(labels, hypothesis)\n",
    "    \n",
    "    if mode == tf.estimator.ModeKeys.EVAL:\n",
    "        return tf.estimator.EstimatorSpec(\n",
    "            tf.estimator.ModeKeys.EVAL,\n",
    "            loss = loss)\n",
    "\n",
    "    \n",
    "    #\n",
    "    # And for training, we also need the optimizer\n",
    "    #\n",
    "    train_op = resnet.trainer\n",
    "    update_ops = tf.get_collection(tf.GraphKeys.UPDATE_OPS)\n",
    "    with tf.control_dependencies(update_ops):\n",
    "        optimizer = tf.train.AdamOptimizer(1e-3)\n",
    "        train_op = optimizer.minimize(loss)\n",
    "\n",
    "        global_step = tf.train.get_global_step()\n",
    "        update_global_step = tf.assign(global_step, global_step + 1, name = 'update_global_step')\n",
    "\n",
    "        return tf.estimator.EstimatorSpec(\n",
    "            tf.estimator.ModeKeys.TRAIN,\n",
    "            loss = loss, \n",
    "            train_op = tf.group(train_op, update_global_step))    \n",
    "    \n"
   ]
  },
  {
   "cell_type": "markdown",
   "metadata": {},
   "source": [
    "### Serving Input Receiver\n",
    "This function returns a function that is going to be called by the estimator to create a ServingInputReciever. Sounds odd, but is pretty straight-forward. First, we provide a function that will return a tensor. We don't provide the tensor, because the tensor will have to be created in the context (graph and session) of the estimator methods. We use a function to create a function because we're passing a parameter that's necessary but not available to the estimator at runtime. Fine. But why are we doing that, anyway?\n",
    "\n",
    "Remember the scaling of the $\\beta$s that we performed with our Beam pipeline. We saved the transform function as the last step of the pipeline. Here, we dig it out again and provide it to the estimator so it can attach it to the front of its computational graph such that the same scaling is applied to the *signature* data."
   ]
  },
  {
   "cell_type": "code",
   "execution_count": 19,
   "metadata": {},
   "outputs": [],
   "source": [
    "import tensorflow_transform as tft\n",
    "def make_tft_serving_input_fn(metadata_dir):\n",
    "    \n",
    "    def _input_fn():\n",
    "    \n",
    "        # This is what signature data looks like: no feature cross yet\n",
    "        placeholders = {\n",
    "            'state': tf.placeholder(name='state', shape=[None, 21, 21, 2], dtype=tf.float32)\n",
    "        }\n",
    "    \n",
    "        transform_output = tft.TFTransformOutput(transform_output_dir=metadata_dir)\n",
    "        features = placeholders #transform_output.transform_raw_features(placeholders)\n",
    "            \n",
    "        return tf.estimator.export.ServingInputReceiver(features, placeholders)\n",
    "\n",
    "    return _input_fn\n"
   ]
  },
  {
   "cell_type": "markdown",
   "metadata": {},
   "source": [
    "### The Estimator"
   ]
  },
  {
   "cell_type": "code",
   "execution_count": 20,
   "metadata": {},
   "outputs": [
    {
     "name": "stdout",
     "output_type": "stream",
     "text": [
      "INFO:tensorflow:Using config: {'_tf_random_seed': None, '_task_id': 0, '_eval_distribute': None, '_keep_checkpoint_max': 5, '_save_checkpoints_secs': None, '_task_type': 'worker', '_cluster_spec': <tensorflow.python.training.server_lib.ClusterSpec object at 0x7f65c68f1cc0>, '_keep_checkpoint_every_n_hours': 10000, '_service': None, '_save_checkpoints_steps': 1000, '_evaluation_master': '', '_model_dir': '/tmp/models', '_is_chief': True, '_train_distribute': None, '_num_worker_replicas': 1, '_num_ps_replicas': 0, '_protocol': None, '_master': '', '_experimental_distribute': None, '_log_step_count_steps': 1000, '_global_id_in_cluster': 0, '_save_summary_steps': 10000, '_session_config': allow_soft_placement: true\n",
      "graph_options {\n",
      "  rewrite_options {\n",
      "    meta_optimizer_iterations: ONE\n",
      "  }\n",
      "}\n",
      ", '_device_fn': None}\n"
     ]
    }
   ],
   "source": [
    "estimator = tf.estimator.Estimator(\n",
    "        config=config,\n",
    "        model_fn=model_function)"
   ]
  },
  {
   "cell_type": "markdown",
   "metadata": {},
   "source": [
    "Here, we create the exporter that will also save the serving input function such that we can use our saved model with signature stage data that is not yet scaled, one-hot encoded and feature-crossed. The serving input function will take care of taking any pre-processing step into account at prediction time. "
   ]
  },
  {
   "cell_type": "code",
   "execution_count": 21,
   "metadata": {},
   "outputs": [
    {
     "name": "stdout",
     "output_type": "stream",
     "text": [
      "mkdir: cannot create directory '/tmp/metadata': File exists\n"
     ]
    }
   ],
   "source": [
    "!mkdir /tmp/metadata\n",
    "metadata_dir = os.path.join(temp_dir, 'metadata')\n",
    "!ls $metadata_dir"
   ]
  },
  {
   "cell_type": "code",
   "execution_count": 22,
   "metadata": {},
   "outputs": [],
   "source": [
    "serving_input_fn = make_tft_serving_input_fn(model_dir)\n",
    "exporter = tf.estimator.LatestExporter('exporter', serving_input_fn)"
   ]
  },
  {
   "cell_type": "markdown",
   "metadata": {},
   "source": [
    "## At last: Let the estimator train our model"
   ]
  },
  {
   "cell_type": "code",
   "execution_count": 23,
   "metadata": {},
   "outputs": [],
   "source": [
    "max_steps = (\n",
    "    160 *    # total number of records\n",
    "    200 /       # number of epochs I want for training\n",
    "    20       # batch size\n",
    ")"
   ]
  },
  {
   "cell_type": "code",
   "execution_count": 24,
   "metadata": {},
   "outputs": [],
   "source": [
    "train_spec = tf.estimator.TrainSpec(\n",
    "    input_fn=train_input_fn, \n",
    "    max_steps=max_steps)\n",
    "\n",
    "eval_spec = tf.estimator.EvalSpec(\n",
    "    input_fn=eval_input_fn, exporters=exporter,\n",
    "    steps = 2, # 2 batches for evaluation\n",
    "    \n",
    "    throttle_secs=1, # technical stuff - don't bother\n",
    "    start_delay_secs=0)\n",
    "\n"
   ]
  },
  {
   "cell_type": "code",
   "execution_count": 25,
   "metadata": {},
   "outputs": [
    {
     "name": "stdout",
     "output_type": "stream",
     "text": [
      "INFO:tensorflow:Not using Distribute Coordinator.\n",
      "INFO:tensorflow:Running training and evaluation locally (non-distributed).\n",
      "INFO:tensorflow:Start train and evaluate loop. The evaluate will happen after every checkpoint. Checkpoint frequency is determined based on RunConfig arguments: save_checkpoints_steps 1000 or save_checkpoints_secs None.\n",
      "INFO:tensorflow:Calling model_fn.\n",
      "INFO:tensorflow:Done calling model_fn.\n",
      "INFO:tensorflow:Create CheckpointSaverHook.\n",
      "INFO:tensorflow:Graph was finalized.\n",
      "INFO:tensorflow:Running local_init_op.\n",
      "INFO:tensorflow:Done running local_init_op.\n",
      "INFO:tensorflow:Saving checkpoints for 0 into /tmp/models/model.ckpt.\n",
      "INFO:tensorflow:loss = 0.0020734018, step = 0\n",
      "INFO:tensorflow:Saving checkpoints for 1000 into /tmp/models/model.ckpt.\n",
      "INFO:tensorflow:Calling model_fn.\n",
      "INFO:tensorflow:Done calling model_fn.\n",
      "INFO:tensorflow:Starting evaluation at 2019-06-16T12:19:48Z\n",
      "INFO:tensorflow:Graph was finalized.\n",
      "WARNING:tensorflow:From /home/wgiersche/workspace/DeepGomoku/venv/lib/python3.5/site-packages/tensorflow/python/training/saver.py:1266: checkpoint_exists (from tensorflow.python.training.checkpoint_management) is deprecated and will be removed in a future version.\n",
      "Instructions for updating:\n",
      "Use standard file APIs to check for files with this prefix.\n",
      "INFO:tensorflow:Restoring parameters from /tmp/models/model.ckpt-1000\n",
      "INFO:tensorflow:Running local_init_op.\n",
      "INFO:tensorflow:Done running local_init_op.\n",
      "INFO:tensorflow:Evaluation [1/2]\n",
      "INFO:tensorflow:Evaluation [2/2]\n",
      "INFO:tensorflow:Finished evaluation at 2019-06-16-12:19:48\n",
      "INFO:tensorflow:Saving dict for global step 1000: global_step = 1000, loss = 5.782542e-06\n",
      "INFO:tensorflow:Saving 'checkpoint_path' summary for global step 1000: /tmp/models/model.ckpt-1000\n",
      "INFO:tensorflow:Calling model_fn.\n",
      "INFO:tensorflow:Done calling model_fn.\n",
      "WARNING:tensorflow:From /home/wgiersche/workspace/DeepGomoku/venv/lib/python3.5/site-packages/tensorflow/python/saved_model/signature_def_utils_impl.py:205: build_tensor_info (from tensorflow.python.saved_model.utils_impl) is deprecated and will be removed in a future version.\n",
      "Instructions for updating:\n",
      "This function will only be available through the v1 compatibility library as tf.compat.v1.saved_model.utils.build_tensor_info or tf.compat.v1.saved_model.build_tensor_info.\n",
      "INFO:tensorflow:Signatures INCLUDED in export for Eval: None\n",
      "INFO:tensorflow:Signatures INCLUDED in export for Regress: None\n",
      "INFO:tensorflow:Signatures INCLUDED in export for Predict: ['serving_default']\n",
      "INFO:tensorflow:Signatures INCLUDED in export for Train: None\n",
      "INFO:tensorflow:Signatures INCLUDED in export for Classify: None\n",
      "INFO:tensorflow:Restoring parameters from /tmp/models/model.ckpt-1000\n",
      "INFO:tensorflow:Assets added to graph.\n",
      "INFO:tensorflow:No assets to write.\n",
      "INFO:tensorflow:SavedModel written to: /tmp/models/export/exporter/temp-b'1560687588'/saved_model.pb\n",
      "INFO:tensorflow:global_step/sec: 51.0968\n",
      "INFO:tensorflow:loss = 5.5644705e-06, step = 1000 (19.571 sec)\n",
      "INFO:tensorflow:Saving checkpoints for 1600 into /tmp/models/model.ckpt.\n",
      "INFO:tensorflow:Calling model_fn.\n",
      "INFO:tensorflow:Done calling model_fn.\n",
      "INFO:tensorflow:Starting evaluation at 2019-06-16T12:20:00Z\n",
      "INFO:tensorflow:Graph was finalized.\n",
      "INFO:tensorflow:Restoring parameters from /tmp/models/model.ckpt-1600\n",
      "INFO:tensorflow:Running local_init_op.\n",
      "INFO:tensorflow:Done running local_init_op.\n",
      "INFO:tensorflow:Evaluation [1/2]\n",
      "INFO:tensorflow:Evaluation [2/2]\n",
      "INFO:tensorflow:Finished evaluation at 2019-06-16-12:20:01\n",
      "INFO:tensorflow:Saving dict for global step 1600: global_step = 1600, loss = 4.3987075e-06\n",
      "INFO:tensorflow:Saving 'checkpoint_path' summary for global step 1600: /tmp/models/model.ckpt-1600\n",
      "INFO:tensorflow:Calling model_fn.\n",
      "INFO:tensorflow:Done calling model_fn.\n",
      "INFO:tensorflow:Signatures INCLUDED in export for Eval: None\n",
      "INFO:tensorflow:Signatures INCLUDED in export for Regress: None\n",
      "INFO:tensorflow:Signatures INCLUDED in export for Predict: ['serving_default']\n",
      "INFO:tensorflow:Signatures INCLUDED in export for Train: None\n",
      "INFO:tensorflow:Signatures INCLUDED in export for Classify: None\n",
      "INFO:tensorflow:Restoring parameters from /tmp/models/model.ckpt-1600\n",
      "INFO:tensorflow:Assets added to graph.\n",
      "INFO:tensorflow:No assets to write.\n",
      "INFO:tensorflow:SavedModel written to: /tmp/models/export/exporter/temp-b'1560687601'/saved_model.pb\n",
      "INFO:tensorflow:Loss for final step: 5.8822707e-06.\n"
     ]
    },
    {
     "data": {
      "text/plain": [
       "({'global_step': 1600, 'loss': 4.3987075e-06},\n",
       " [b'/tmp/models/export/exporter/1560687601'])"
      ]
     },
     "execution_count": 25,
     "metadata": {},
     "output_type": "execute_result"
    }
   ],
   "source": [
    "tf.estimator.train_and_evaluate(\n",
    "    estimator,\n",
    "    train_spec=train_spec,\n",
    "    eval_spec=eval_spec)"
   ]
  },
  {
   "cell_type": "code",
   "execution_count": 26,
   "metadata": {},
   "outputs": [
    {
     "name": "stdout",
     "output_type": "stream",
     "text": [
      "Versions: ['1560687588', '1560687601']\n",
      "/tmp/models/export/exporter/1560687601\n",
      "saved_model.pb\tvariables\n"
     ]
    }
   ],
   "source": [
    "import os\n",
    "model_dir = os.path.join(\"/tmp/\", \"models/export/exporter\")\n",
    "versions = !ls $model_dir\n",
    "print( \"Versions: %s\" % versions)\n",
    "latest_version = max(versions)\n",
    "latest_model = os.path.join(model_dir, str(latest_version))\n",
    "!echo $latest_model\n",
    "!ls $latest_model"
   ]
  },
  {
   "cell_type": "code",
   "execution_count": 27,
   "metadata": {},
   "outputs": [
    {
     "name": "stdout",
     "output_type": "stream",
     "text": [
      "WARNING:tensorflow:From /home/wgiersche/workspace/DeepGomoku/venv/lib/python3.5/site-packages/tensorflow/contrib/predictor/saved_model_predictor.py:153: load (from tensorflow.python.saved_model.loader_impl) is deprecated and will be removed in a future version.\n",
      "Instructions for updating:\n",
      "This function will only be available through the v1 compatibility library as tf.compat.v1.saved_model.loader.load or tf.compat.v1.saved_model.load. There will be a new function for importing SavedModels in Tensorflow 2.0.\n",
      "INFO:tensorflow:Restoring parameters from /tmp/models/export/exporter/1560687601/variables/variables\n"
     ]
    }
   ],
   "source": [
    "estimator = tf.contrib.predictor.from_saved_model(latest_model)"
   ]
  },
  {
   "cell_type": "code",
   "execution_count": 28,
   "metadata": {},
   "outputs": [],
   "source": [
    "def _parse_function(example):\n",
    "    return tf.parse_single_example(example, feature_spec)"
   ]
  },
  {
   "cell_type": "code",
   "execution_count": 29,
   "metadata": {},
   "outputs": [],
   "source": [
    "dataset = tf.data.TFRecordDataset(\"deleteme.tfr\")"
   ]
  },
  {
   "cell_type": "code",
   "execution_count": 30,
   "metadata": {},
   "outputs": [],
   "source": [
    "N_p=21\n",
    "feature_spec = {\n",
    "    'state': tf.FixedLenFeature([N_p * N_p * 2], tf.float32),\n",
    "    'distr': tf.FixedLenFeature([N_p * N_p], tf.float32)\n",
    "}\n",
    "decoded = dataset.map(_parse_function).make_one_shot_iterator().get_next()"
   ]
  },
  {
   "cell_type": "code",
   "execution_count": 31,
   "metadata": {},
   "outputs": [],
   "source": [
    "with tf.Session() as sess:\n",
    "    res2 = sess.run(decoded)"
   ]
  },
  {
   "cell_type": "code",
   "execution_count": 32,
   "metadata": {},
   "outputs": [
    {
     "data": {
      "text/plain": [
       "((882,), (441,))"
      ]
     },
     "execution_count": 32,
     "metadata": {},
     "output_type": "execute_result"
    }
   ],
   "source": [
    "res2['state'].shape, res2['distr'].shape"
   ]
  },
  {
   "cell_type": "code",
   "execution_count": 33,
   "metadata": {},
   "outputs": [
    {
     "data": {
      "text/plain": [
       "array([[0, 0, 0, 0, 0, 0, 0, 0, 0, 0, 0, 0, 0, 0, 0, 0, 0, 0, 0],\n",
       "       [0, 0, 0, 0, 0, 0, 0, 0, 0, 0, 0, 0, 0, 0, 0, 0, 0, 0, 0],\n",
       "       [0, 0, 0, 0, 0, 0, 0, 0, 0, 0, 0, 0, 0, 0, 0, 0, 0, 0, 0],\n",
       "       [0, 0, 0, 0, 0, 0, 0, 0, 0, 0, 0, 0, 0, 0, 0, 0, 0, 0, 0],\n",
       "       [0, 0, 0, 0, 0, 0, 0, 0, 0, 0, 0, 0, 0, 0, 0, 0, 0, 0, 0],\n",
       "       [0, 0, 0, 0, 0, 0, 0, 0, 0, 0, 0, 0, 0, 0, 0, 0, 0, 0, 0],\n",
       "       [0, 0, 0, 0, 0, 0, 0, 0, 0, 0, 0, 0, 0, 0, 0, 0, 0, 0, 0],\n",
       "       [0, 0, 0, 0, 0, 0, 0, 0, 2, 0, 0, 0, 0, 0, 0, 0, 0, 0, 0],\n",
       "       [0, 0, 0, 0, 0, 0, 0, 2, 1, 0, 0, 2, 0, 0, 0, 0, 0, 0, 0],\n",
       "       [0, 0, 0, 0, 0, 0, 0, 0, 1, 2, 1, 0, 0, 0, 0, 0, 0, 0, 0],\n",
       "       [0, 0, 0, 0, 0, 0, 0, 2, 1, 1, 0, 1, 0, 0, 0, 0, 0, 0, 0],\n",
       "       [0, 0, 0, 0, 2, 0, 1, 1, 1, 2, 2, 1, 2, 0, 0, 0, 0, 0, 0],\n",
       "       [0, 0, 0, 0, 0, 0, 0, 2, 2, 0, 1, 1, 2, 1, 0, 0, 0, 0, 0],\n",
       "       [0, 0, 0, 0, 0, 0, 0, 0, 0, 0, 0, 2, 0, 0, 0, 0, 0, 0, 0],\n",
       "       [0, 0, 0, 0, 0, 0, 0, 0, 0, 0, 0, 0, 0, 0, 0, 0, 0, 0, 0],\n",
       "       [0, 0, 0, 0, 0, 0, 0, 0, 0, 0, 0, 0, 0, 0, 0, 0, 0, 0, 0],\n",
       "       [0, 0, 0, 0, 0, 0, 0, 0, 0, 0, 0, 0, 0, 0, 0, 0, 0, 0, 0],\n",
       "       [0, 0, 0, 0, 0, 0, 0, 0, 0, 0, 0, 0, 0, 0, 0, 0, 0, 0, 0],\n",
       "       [0, 0, 0, 0, 0, 0, 0, 0, 0, 0, 0, 0, 0, 0, 0, 0, 0, 0, 0]])"
      ]
     },
     "execution_count": 33,
     "metadata": {},
     "output_type": "execute_result"
    }
   ],
   "source": [
    "from wgomoku import to_matrix12\n",
    "sample=res2['state'].reshape(1,21,21,2)\n",
    "m12 = to_matrix12(sample, 21)\n",
    "m12"
   ]
  },
  {
   "cell_type": "code",
   "execution_count": 34,
   "metadata": {},
   "outputs": [
    {
     "data": {
      "text/plain": [
       "(19, 19)"
      ]
     },
     "execution_count": 34,
     "metadata": {},
     "output_type": "execute_result"
    }
   ],
   "source": [
    "distr = estimator({'state': sample})\n",
    "predi = distr['output'].reshape(21,21)[1:-1].T[1:-1].T\n",
    "predi.shape"
   ]
  },
  {
   "cell_type": "code",
   "execution_count": 35,
   "metadata": {},
   "outputs": [],
   "source": [
    "from wgomoku import (\n",
    "    GomokuBoard,\n",
    "    HeuristicGomokuPolicy, Heuristics, GomokuTools as gt)"
   ]
  },
  {
   "cell_type": "code",
   "execution_count": 36,
   "metadata": {},
   "outputs": [],
   "source": [
    "size=19\n",
    "p = HeuristicGomokuPolicy(style = 2, bias=.5, topn=5)\n",
    "heuristics = Heuristics(kappa=3.0)"
   ]
  },
  {
   "cell_type": "code",
   "execution_count": 37,
   "metadata": {},
   "outputs": [
    {
     "data": {
      "image/png": "[encoded data removed]",
      "text/plain": [
       "<Figure size 720x720 with 1 Axes>"
      ]
     },
     "metadata": {
      "needs_background": "light"
     },
     "output_type": "display_data"
    }
   ],
   "source": [
    "import numpy as np\n",
    "black = [gt.m2b(p, 19) for p, v in list(np.ndenumerate(m12)) if v == 1]\n",
    "white = [gt.m2b(p, 19) for p, v in list(np.ndenumerate(m12)) if v == 2]\n",
    "pairs = zip(black, white)\n",
    "\n",
    "moves = []\n",
    "for b,w in pairs: \n",
    "    moves.append(b)\n",
    "    moves.append(w)\n",
    "board = GomokuBoard(N=19, stones=moves, heuristics=heuristics, \n",
    "                    disp_width=10)\n",
    "board.display(probas=lambda x: predi)"
   ]
  },
  {
   "cell_type": "code",
   "execution_count": null,
   "metadata": {},
   "outputs": [],
   "source": []
  }
 ],
 "metadata": {
  "kernelspec": {
   "display_name": "Python 3",
   "language": "python",
   "name": "python3"
  },
  "language_info": {
   "codemirror_mode": {
    "name": "ipython",
    "version": 3
   },
   "file_extension": ".py",
   "mimetype": "text/x-python",
   "name": "python",
   "nbconvert_exporter": "python",
   "pygments_lexer": "ipython3",
   "version": "3.5.2"
  }
 },
 "nbformat": 4,
 "nbformat_minor": 2
}
