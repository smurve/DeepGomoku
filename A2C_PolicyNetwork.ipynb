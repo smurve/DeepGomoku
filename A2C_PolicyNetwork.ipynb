{
 "cells": [
  {
   "cell_type": "code",
   "execution_count": 1,
   "metadata": {},
   "outputs": [],
   "source": [
    "%load_ext autoreload\n",
    "%autoreload 2"
   ]
  },
  {
   "cell_type": "code",
   "execution_count": 3,
   "metadata": {},
   "outputs": [],
   "source": [
    "import numpy as np\n",
    "import tensorflow as tf"
   ]
  },
  {
   "cell_type": "code",
   "execution_count": 4,
   "metadata": {},
   "outputs": [],
   "source": [
    "from wgomoku import GomokuTools as gt, SampleDataHelper\n",
    "from wgomoku import PolicyModel, display_sample, new_policy_dataset"
   ]
  },
  {
   "cell_type": "code",
   "execution_count": 5,
   "metadata": {},
   "outputs": [],
   "source": [
    "N=19"
   ]
  },
  {
   "cell_type": "code",
   "execution_count": 6,
   "metadata": {},
   "outputs": [],
   "source": [
    "model = PolicyModel(board_size=N, n_blocks=10, \n",
    "                    n_layers=3, n_filters=32, \n",
    "                    activation='relu')"
   ]
  },
  {
   "cell_type": "code",
   "execution_count": 7,
   "metadata": {},
   "outputs": [
    {
     "name": "stderr",
     "output_type": "stream",
     "text": [
      "WARNING: Logging before flag parsing goes to stderr.\n",
      "W0804 06:25:28.945678 139799770048256 deprecation.py:323] From /home/wgiersche/workspace/DeepGomoku/tf2/lib/python3.5/site-packages/tensorflow/python/data/experimental/ops/readers.py:498: parallel_interleave (from tensorflow.python.data.experimental.ops.interleave_ops) is deprecated and will be removed in a future version.\n",
      "Instructions for updating:\n",
      "Use `tf.data.Dataset.interleave(map_func, cycle_length, block_length, num_parallel_calls=tf.data.experimental.AUTOTUNE)` instead. If sloppy execution is desired, use `tf.data.Options.experimental_determinstic`.\n",
      "W0804 06:25:28.969330 139799770048256 deprecation.py:323] From /home/wgiersche/workspace/DeepGomoku/tf2/lib/python3.5/site-packages/tensorflow/python/data/ops/dataset_ops.py:505: py_func (from tensorflow.python.ops.script_ops) is deprecated and will be removed in a future version.\n",
      "Instructions for updating:\n",
      "tf.py_func is deprecated in TF V2. Instead, there are two\n",
      "    options available in V2.\n",
      "    - tf.py_function takes a python function which manipulates tf eager\n",
      "    tensors instead of numpy arrays. It's easy to convert a tf eager tensor to\n",
      "    an ndarray (just call tensor.numpy()) but having access to eager tensors\n",
      "    means `tf.py_function`s can use accelerators such as GPUs as well as\n",
      "    being differentiable using a gradient tape.\n",
      "    - tf.numpy_function maintains the semantics of the deprecated tf.py_func\n",
      "    (it is not differentiable, and manipulates numpy arrays). It drops the\n",
      "    stateful argument making all functions stateful.\n",
      "    \n"
     ]
    }
   ],
   "source": [
    "sdh = SampleDataHelper(N, representation='NxNx1B', cut_off=12)\n",
    "inputs = new_policy_dataset(file_pattern=\"*corr.csv\", \n",
    "                     sdh=sdh, batch_size=512, num_epochs=1)    "
   ]
  },
  {
   "cell_type": "code",
   "execution_count": 8,
   "metadata": {},
   "outputs": [],
   "source": [
    "loss = tf.keras.losses.CategoricalCrossentropy(from_logits=True)\n",
    "model.compile(optimizer = tf.keras.optimizers.Adam(learning_rate=1e-2), loss=loss)\n",
    "#model.fit(inputs)"
   ]
  },
  {
   "cell_type": "code",
   "execution_count": 13,
   "metadata": {},
   "outputs": [],
   "source": [
    "checkpoint_path = './models/PolicyNet_1.0/cp-{epoch:04d}.ckpt'\n",
    "model.save_weights(checkpoint_path.format(epoch=6))"
   ]
  },
  {
   "cell_type": "code",
   "execution_count": 13,
   "metadata": {},
   "outputs": [
    {
     "name": "stdout",
     "output_type": "stream",
     "text": [
      "./models/PolicyNet_1.0/cp-0006.ckpt\n"
     ]
    }
   ],
   "source": [
    "latest = tf.train.latest_checkpoint(\"./models/PolicyNet_1.0/\")\n",
    "print(latest)\n",
    "new_model = PolicyModel(board_size=19, n_blocks=10, \n",
    "                    n_layers=3, n_filters=32, \n",
    "                    activation='relu')\n",
    "new_model.load_weights(latest)\n",
    "model = new_model"
   ]
  },
  {
   "cell_type": "markdown",
   "metadata": {},
   "source": [
    "---\n",
    "# Using the policy results"
   ]
  },
  {
   "cell_type": "code",
   "execution_count": 14,
   "metadata": {},
   "outputs": [],
   "source": [
    "import pandas as pd\n",
    "import seaborn as sns\n",
    "from wgomoku import analyse_and_recommend"
   ]
  },
  {
   "cell_type": "code",
   "execution_count": 15,
   "metadata": {},
   "outputs": [],
   "source": [
    "game=\"j10i9i10k10j11j9k12h9k9l11m12h10h7h12h11j12g9g11f12k7j8i7l13m14l8m7k14j15o10n11k8i8m8n8j13i12k13m13k15k16k11\"\n",
    "game=\"j10i9i10k10j11j9k12h9k9l11m12h10h7h12h11j12g9g11f12k7j8i7l13m14l8m7k14j15o10n11k8i8m8n8j13i12k13\"\n",
    "stones = gt.string_to_stones(game)"
   ]
  },
  {
   "cell_type": "code",
   "execution_count": 16,
   "metadata": {},
   "outputs": [],
   "source": [
    "smpnp = sdh.sample_from_string(game)\n",
    "pi = new_model.dist(smpnp.reshape(1, 21, 21, 2)).numpy()"
   ]
  },
  {
   "cell_type": "code",
   "execution_count": 17,
   "metadata": {},
   "outputs": [
    {
     "name": "stdout",
     "output_type": "stream",
     "text": [
      "[[ 2  2  2  2  2  2  2  2  2  2  2  2  2  2  2  2  2  2  2  2  2]\n",
      " [ 2  0  0  0  0  0  0  0  0  0  0  0  0  0  0  0  0  0  0  0  2]\n",
      " [ 2  0  0  0  0  0  0  0  0  0  0  0  0  0  0  0  0  0  0  0  2]\n",
      " [ 2  0  0  0  0  0  0  0  0  0  0  0  0  0  0  0  0  0  0  0  2]\n",
      " [ 2  0  0  0  0  0  0  0  0  0  0  0  0  0  0  0  0  0  0  0  2]\n",
      " [ 2  0  0  0  0  0  0  0  0  0  1  0  0  0  0  0  0  0  0  0  2]\n",
      " [ 2  0  0  0  0  0  0  0  0  0  0 -1  0  1  0  0  0  0  0  0  2]\n",
      " [ 2  0  0  0  0  0  0  0  0  0 -1 -1 -1  0  0  0  0  0  0  0  2]\n",
      " [ 2  0  0  0  0  0 -1  0  1  1  1 -1  0 -1  0  0  0  0  0  0  2]\n",
      " [ 2  0  0  0  0  0  0  1 -1  0 -1  0  1  0  1  0  0  0  0  0  2]\n",
      " [ 2  0  0  0  0  0  0  0  1 -1 -1  1  0  0  0 -1  0  0  0  0  2]\n",
      " [ 2  0  0  0  0  0  0 -1  1  1  1 -1  0  0  0  0  0  0  0  0  2]\n",
      " [ 2  0  0  0  0  0  0  0  0  1 -1 -1 -1 -1  1  0  0  0  0  0  2]\n",
      " [ 2  0  0  0  0  0  0  0 -1  1  0  1  0  1  0  0  0  0  0  0  2]\n",
      " [ 2  0  0  0  0  0  0  0  0  0  0  0  0  0  0  0  0  0  0  0  2]\n",
      " [ 2  0  0  0  0  0  0  0  0  0  0  0  0  0  0  0  0  0  0  0  2]\n",
      " [ 2  0  0  0  0  0  0  0  0  0  0  0  0  0  0  0  0  0  0  0  2]\n",
      " [ 2  0  0  0  0  0  0  0  0  0  0  0  0  0  0  0  0  0  0  0  2]\n",
      " [ 2  0  0  0  0  0  0  0  0  0  0  0  0  0  0  0  0  0  0  0  2]\n",
      " [ 2  0  0  0  0  0  0  0  0  0  0  0  0  0  0  0  0  0  0  0  2]\n",
      " [ 2  2  2  2  2  2  2  2  2  2  2  2  2  2  2  2  2  2  2  2  2]]\n"
     ]
    }
   ],
   "source": [
    "display_sample(smpnp)"
   ]
  },
  {
   "cell_type": "code",
   "execution_count": 18,
   "metadata": {},
   "outputs": [
    {
     "data": {
      "text/plain": [
       "<matplotlib.axes._subplots.AxesSubplot at 0x7f420c04b1d0>"
      ]
     },
     "execution_count": 18,
     "metadata": {},
     "output_type": "execute_result"
    },
    {
     "data": {
      "image/png": "[encoded data removed]",
      "text/plain": [
       "<Figure size 432x288 with 2 Axes>"
      ]
     },
     "metadata": {
      "needs_background": "light"
     },
     "output_type": "display_data"
    }
   ],
   "source": [
    "distr, greedy = analyse_and_recommend(smpnp, pi, 10)\n",
    "sns.heatmap(distr)"
   ]
  },
  {
   "cell_type": "code",
   "execution_count": 19,
   "metadata": {},
   "outputs": [
    {
     "data": {
      "text/plain": [
       "[(array([11, 16]), 0.0025382875464856625),\n",
       " (array([11, 15]), 0.018709048628807068),\n",
       " (array([12, 15]), 0.003123064525425434),\n",
       " (array([ 8, 13]), 0.01774357631802559),\n",
       " (array([ 9, 13]), 0.018709048628807068),\n",
       " (array([13, 13]), 0.018709048628807068),\n",
       " (array([14, 13]), 0.006371547468006611),\n",
       " (array([ 6, 11]), 0.0025365352630615234),\n",
       " (array([11, 11]), 0.018709048628807068),\n",
       " (array([ 6, 10]), 0.0032520941458642483)]"
      ]
     },
     "execution_count": 19,
     "metadata": {},
     "output_type": "execute_result"
    }
   ],
   "source": [
    "greedy"
   ]
  },
  {
   "cell_type": "code",
   "execution_count": 20,
   "metadata": {},
   "outputs": [
    {
     "data": {
      "image/png": "[encoded data removed]",
      "text/plain": [
       "<Figure size 720x720 with 1 Axes>"
      ]
     },
     "metadata": {
      "needs_background": "light"
     },
     "output_type": "display_data"
    }
   ],
   "source": [
    "from wgomoku import GomokuBoard, Heuristics\n",
    "board = GomokuBoard(N=19, heuristics=Heuristics(kappa=3.0), \n",
    "                    stones=stones, disp_width=10)\n",
    "board.display()"
   ]
  },
  {
   "cell_type": "code",
   "execution_count": null,
   "metadata": {},
   "outputs": [],
   "source": []
  }
 ],
 "metadata": {
  "kernelspec": {
   "display_name": "Python 3",
   "language": "python",
   "name": "python3"
  },
  "language_info": {
   "codemirror_mode": {
    "name": "ipython",
    "version": 3
   },
   "file_extension": ".py",
   "mimetype": "text/x-python",
   "name": "python",
   "nbconvert_exporter": "python",
   "pygments_lexer": "ipython3",
   "version": "3.5.2"
  }
 },
 "nbformat": 4,
 "nbformat_minor": 4
}
