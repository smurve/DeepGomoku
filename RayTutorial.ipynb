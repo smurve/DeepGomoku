{
 "cells": [
  {
   "cell_type": "code",
   "execution_count": 3,
   "metadata": {},
   "outputs": [],
   "source": [
    "import ray, time"
   ]
  },
  {
   "cell_type": "code",
   "execution_count": 31,
   "metadata": {},
   "outputs": [
    {
     "name": "stderr",
     "output_type": "stream",
     "text": [
      "2019-08-01 13:15:16,804\tWARNING worker.py:1337 -- WARNING: Not updating worker name since `setproctitle` is not installed. Install this with `pip install setproctitle` (or ray[debug]) to enable monitoring of worker processes.\n",
      "2019-08-01 13:15:16,806\tINFO node.py:498 -- Process STDOUT and STDERR is being redirected to /tmp/ray/session_2019-08-01_13-15-16_805995_18049/logs.\n",
      "2019-08-01 13:15:16,913\tINFO services.py:409 -- Waiting for redis server at 127.0.0.1:28446 to respond...\n",
      "2019-08-01 13:15:17,021\tINFO services.py:409 -- Waiting for redis server at 127.0.0.1:12803 to respond...\n",
      "2019-08-01 13:15:17,024\tINFO services.py:806 -- Starting Redis shard with 6.75 GB max memory.\n",
      "2019-08-01 13:15:17,037\tINFO node.py:512 -- Process STDOUT and STDERR is being redirected to /tmp/ray/session_2019-08-01_13-15-16_805995_18049/logs.\n",
      "2019-08-01 13:15:17,039\tINFO services.py:1446 -- Starting the Plasma object store with 10.12 GB memory using /dev/shm.\n"
     ]
    },
    {
     "data": {
      "text/plain": [
       "{'node_ip_address': '192.168.1.211',\n",
       " 'object_store_address': '/tmp/ray/session_2019-08-01_13-15-16_805995_18049/sockets/plasma_store',\n",
       " 'raylet_socket_name': '/tmp/ray/session_2019-08-01_13-15-16_805995_18049/sockets/raylet',\n",
       " 'redis_address': '192.168.1.211:28446',\n",
       " 'session_dir': '/tmp/ray/session_2019-08-01_13-15-16_805995_18049',\n",
       " 'webui_url': None}"
      ]
     },
     "execution_count": 31,
     "metadata": {},
     "output_type": "execute_result"
    }
   ],
   "source": [
    "ray.init()"
   ]
  },
  {
   "cell_type": "code",
   "execution_count": 23,
   "metadata": {},
   "outputs": [],
   "source": [
    "@ray.remote\n",
    "def predict(x):\n",
    "    time.sleep(10)\n",
    "    return x**2"
   ]
  },
  {
   "cell_type": "code",
   "execution_count": 24,
   "metadata": {},
   "outputs": [
    {
     "data": {
      "text/plain": [
       "ObjectID(f1270462e5020347522ac7df8419369c01000000)"
      ]
     },
     "execution_count": 24,
     "metadata": {},
     "output_type": "execute_result"
    }
   ],
   "source": [
    "res = predict.remote(predict.remote(3))\n",
    "res"
   ]
  },
  {
   "cell_type": "code",
   "execution_count": 25,
   "metadata": {},
   "outputs": [
    {
     "name": "stdout",
     "output_type": "stream",
     "text": [
      "CPU times: user 259 ms, sys: 62.3 ms, total: 321 ms\n",
      "Wall time: 19.8 s\n"
     ]
    },
    {
     "data": {
      "text/plain": [
       "81"
      ]
     },
     "execution_count": 25,
     "metadata": {},
     "output_type": "execute_result"
    }
   ],
   "source": [
    "%time ray.get(res)"
   ]
  },
  {
   "cell_type": "code",
   "execution_count": 27,
   "metadata": {},
   "outputs": [],
   "source": [
    "@ray.remote\n",
    "class Predictor:\n",
    "    def __init__(self, name):\n",
    "        self.name = name\n",
    "    \n",
    "    def predict(x):\n",
    "        time.sleep(5)\n",
    "        return x**2"
   ]
  },
  {
   "cell_type": "code",
   "execution_count": 28,
   "metadata": {},
   "outputs": [],
   "source": [
    "class Task:\n",
    "    def __init__(self, client, number):\n",
    "        self.client = client\n",
    "        self.number = number"
   ]
  },
  {
   "cell_type": "code",
   "execution_count": null,
   "metadata": {},
   "outputs": [],
   "source": [
    "@ray.remote\n",
    "class Dispatcher:\n",
    "    def __init__(self):\n",
    "        for n in [\"Pred1\", \"Pred2\"]:\n",
    "            self.predictors[n] = Predictor.remote(n)\n",
    "            self.state[n] = 'free'\n",
    "        self.tasks = []\n",
    "        \n",
    "    def receive(self, task):\n",
    "        self.tasks += task\n",
    "        for n in [\"Pred1\", \"Pred2\"]:\n",
    "            if self.state[n] == 'free'\n",
    "                self.state[n] == 'working'\n",
    "                self.predictors[n].predict(np.array(tasks.num))\n",
    "                self.tasks == []\n",
    "        \n",
    "    \n",
    "        "
   ]
  },
  {
   "cell_type": "code",
   "execution_count": null,
   "metadata": {},
   "outputs": [],
   "source": []
  },
  {
   "cell_type": "code",
   "execution_count": null,
   "metadata": {},
   "outputs": [],
   "source": []
  },
  {
   "cell_type": "code",
   "execution_count": null,
   "metadata": {},
   "outputs": [],
   "source": []
  },
  {
   "cell_type": "code",
   "execution_count": null,
   "metadata": {},
   "outputs": [],
   "source": []
  },
  {
   "cell_type": "code",
   "execution_count": null,
   "metadata": {},
   "outputs": [],
   "source": []
  },
  {
   "cell_type": "code",
   "execution_count": null,
   "metadata": {},
   "outputs": [],
   "source": []
  },
  {
   "cell_type": "code",
   "execution_count": null,
   "metadata": {},
   "outputs": [],
   "source": []
  },
  {
   "cell_type": "code",
   "execution_count": null,
   "metadata": {},
   "outputs": [],
   "source": []
  },
  {
   "cell_type": "code",
   "execution_count": 30,
   "metadata": {},
   "outputs": [],
   "source": [
    "ray.shutdown()"
   ]
  },
  {
   "cell_type": "code",
   "execution_count": null,
   "metadata": {},
   "outputs": [],
   "source": []
  }
 ],
 "metadata": {
  "kernelspec": {
   "display_name": "Python 3",
   "language": "python",
   "name": "python3"
  },
  "language_info": {
   "codemirror_mode": {
    "name": "ipython",
    "version": 3
   },
   "file_extension": ".py",
   "mimetype": "text/x-python",
   "name": "python",
   "nbconvert_exporter": "python",
   "pygments_lexer": "ipython3",
   "version": "3.5.2"
  }
 },
 "nbformat": 4,
 "nbformat_minor": 4
}
