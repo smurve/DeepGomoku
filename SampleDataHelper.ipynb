{
 "cells": [
  {
   "cell_type": "code",
   "execution_count": 41,
   "metadata": {},
   "outputs": [
    {
     "name": "stdout",
     "output_type": "stream",
     "text": [
      "The autoreload extension is already loaded. To reload it, use:\n",
      "  %reload_ext autoreload\n"
     ]
    }
   ],
   "source": [
    "%load_ext autoreload\n",
    "%autoreload 2"
   ]
  },
  {
   "cell_type": "code",
   "execution_count": 42,
   "metadata": {},
   "outputs": [],
   "source": [
    "from __future__ import print_function, division, absolute_import"
   ]
  },
  {
   "cell_type": "code",
   "execution_count": 43,
   "metadata": {},
   "outputs": [],
   "source": [
    "import inspect"
   ]
  },
  {
   "cell_type": "code",
   "execution_count": 44,
   "metadata": {},
   "outputs": [],
   "source": [
    "import numpy as np"
   ]
  },
  {
   "cell_type": "code",
   "execution_count": 45,
   "metadata": {},
   "outputs": [],
   "source": [
    "from wgomoku import GomokuTools as gt, SampleDataHelper"
   ]
  },
  {
   "cell_type": "code",
   "execution_count": 46,
   "metadata": {},
   "outputs": [
    {
     "name": "stdout",
     "output_type": "stream",
     "text": [
      "2.0.0-beta1\n"
     ]
    },
    {
     "data": {
      "text/plain": [
       "True"
      ]
     },
     "execution_count": 46,
     "metadata": {},
     "output_type": "execute_result"
    }
   ],
   "source": [
    "import tensorflow as tf\n",
    "print(tf.__version__)\n",
    "tf.test.is_gpu_available()"
   ]
  },
  {
   "cell_type": "code",
   "execution_count": 47,
   "metadata": {},
   "outputs": [],
   "source": [
    "N=11"
   ]
  },
  {
   "cell_type": "code",
   "execution_count": 48,
   "metadata": {},
   "outputs": [],
   "source": [
    "sdh = SampleDataHelper(N=N, representation='NxNx2', edges=True)"
   ]
  },
  {
   "cell_type": "code",
   "execution_count": 49,
   "metadata": {},
   "outputs": [],
   "source": [
    "def disp(sample):\n",
    "    if tf.is_tensor(sample):\n",
    "        sample = sample.numpy()\n",
    "    s = np.rollaxis(sample, -1, 0)\n",
    "    return str(s[0]+2*s[1])"
   ]
  },
  {
   "cell_type": "code",
   "execution_count": 50,
   "metadata": {},
   "outputs": [],
   "source": [
    "board = \"a1a2f6g7e7\""
   ]
  },
  {
   "cell_type": "markdown",
   "metadata": {},
   "source": [
    "---\n",
    "Coordinates of that board's stones on a padded (here:=13x13) numpy tensor:"
   ]
  },
  {
   "cell_type": "code",
   "execution_count": 51,
   "metadata": {},
   "outputs": [
    {
     "name": "stdout",
     "output_type": "stream",
     "text": [
      "    def maybe_padded_coords(self, board):\n",
      "        \"\"\"\n",
      "        return stones in matrix coordinates respecting the border padding\n",
      "        \"\"\"\n",
      "        stones = gt.string_to_stones(board)\n",
      "        matrix_coords = [gt.b2m([ord(s[0])-64, s[1]], self.N) for s in stones]\n",
      "        if self.edges:\n",
      "            return np.add(matrix_coords, [1,1])\n",
      "        else: \n",
      "            return matrix_coords\n",
      "\n"
     ]
    }
   ],
   "source": [
    "print(inspect.getsource(sdh.maybe_padded_coords))"
   ]
  },
  {
   "cell_type": "code",
   "execution_count": 52,
   "metadata": {},
   "outputs": [
    {
     "data": {
      "text/plain": [
       "array([[11,  1],\n",
       "       [10,  1],\n",
       "       [ 6,  6],\n",
       "       [ 5,  7],\n",
       "       [ 5,  5]])"
      ]
     },
     "execution_count": 52,
     "metadata": {},
     "output_type": "execute_result"
    }
   ],
   "source": [
    "coords = sdh.maybe_padded_coords(board)\n",
    "coords"
   ]
  },
  {
   "cell_type": "markdown",
   "metadata": {},
   "source": [
    "---\n",
    "An empty board's representation:"
   ]
  },
  {
   "cell_type": "code",
   "execution_count": 53,
   "metadata": {},
   "outputs": [
    {
     "name": "stdout",
     "output_type": "stream",
     "text": [
      "    def template(self):\n",
      "        \"\"\"\n",
      "        create a fresh empty board representation\n",
      "        \"\"\"\n",
      "        s = np.zeros([self.N,self.N], dtype=np.int16)\n",
      "\n",
      "        if self.rep == 'NxNx1B':\n",
      "            border = 1\n",
      "        elif self.edges:\n",
      "            if self.rep == 'NxNx1':\n",
      "                border = -1\n",
      "            else:\n",
      "                border = 1\n",
      "        if self.edges or self.rep == 'NxNx1B':\n",
      "            defensive = np.pad(s, pad_width=1, constant_values=border)\n",
      "        else: \n",
      "            defensive = s\n",
      "        \n",
      "        if self.rep == \"NxNx2\":\n",
      "            if self.edges:\n",
      "                N=self.N+2\n",
      "            else:\n",
      "                N=self.N\n",
      "            offensive = np.zeros([N, N], dtype=np.int16)\n",
      "            template = np.stack([offensive, defensive], axis=-1)\n",
      "        elif self.rep == 'NxNx1B':\n",
      "            offensive = np.zeros([self.N+2, self.N+2], dtype=np.int16)\n",
      "            template = np.stack([offensive, defensive], axis=-1)            \n",
      "        else: \n",
      "            template = defensive\n",
      "\n",
      "        return template\n",
      "\n"
     ]
    }
   ],
   "source": [
    "print(inspect.getsource(sdh.template))"
   ]
  },
  {
   "cell_type": "code",
   "execution_count": 54,
   "metadata": {},
   "outputs": [
    {
     "data": {
      "text/plain": [
       "array([[[0, 0, 0, 0, 0, 0, 0, 0, 0, 0, 0, 0, 0],\n",
       "        [0, 0, 0, 0, 0, 0, 0, 0, 0, 0, 0, 0, 0],\n",
       "        [0, 0, 0, 0, 0, 0, 0, 0, 0, 0, 0, 0, 0],\n",
       "        [0, 0, 0, 0, 0, 0, 0, 0, 0, 0, 0, 0, 0],\n",
       "        [0, 0, 0, 0, 0, 0, 0, 0, 0, 0, 0, 0, 0],\n",
       "        [0, 0, 0, 0, 0, 0, 0, 0, 0, 0, 0, 0, 0],\n",
       "        [0, 0, 0, 0, 0, 0, 0, 0, 0, 0, 0, 0, 0],\n",
       "        [0, 0, 0, 0, 0, 0, 0, 0, 0, 0, 0, 0, 0],\n",
       "        [0, 0, 0, 0, 0, 0, 0, 0, 0, 0, 0, 0, 0],\n",
       "        [0, 0, 0, 0, 0, 0, 0, 0, 0, 0, 0, 0, 0],\n",
       "        [0, 0, 0, 0, 0, 0, 0, 0, 0, 0, 0, 0, 0],\n",
       "        [0, 0, 0, 0, 0, 0, 0, 0, 0, 0, 0, 0, 0],\n",
       "        [0, 0, 0, 0, 0, 0, 0, 0, 0, 0, 0, 0, 0]],\n",
       "\n",
       "       [[1, 1, 1, 1, 1, 1, 1, 1, 1, 1, 1, 1, 1],\n",
       "        [1, 0, 0, 0, 0, 0, 0, 0, 0, 0, 0, 0, 1],\n",
       "        [1, 0, 0, 0, 0, 0, 0, 0, 0, 0, 0, 0, 1],\n",
       "        [1, 0, 0, 0, 0, 0, 0, 0, 0, 0, 0, 0, 1],\n",
       "        [1, 0, 0, 0, 0, 0, 0, 0, 0, 0, 0, 0, 1],\n",
       "        [1, 0, 0, 0, 0, 0, 0, 0, 0, 0, 0, 0, 1],\n",
       "        [1, 0, 0, 0, 0, 0, 0, 0, 0, 0, 0, 0, 1],\n",
       "        [1, 0, 0, 0, 0, 0, 0, 0, 0, 0, 0, 0, 1],\n",
       "        [1, 0, 0, 0, 0, 0, 0, 0, 0, 0, 0, 0, 1],\n",
       "        [1, 0, 0, 0, 0, 0, 0, 0, 0, 0, 0, 0, 1],\n",
       "        [1, 0, 0, 0, 0, 0, 0, 0, 0, 0, 0, 0, 1],\n",
       "        [1, 0, 0, 0, 0, 0, 0, 0, 0, 0, 0, 0, 1],\n",
       "        [1, 1, 1, 1, 1, 1, 1, 1, 1, 1, 1, 1, 1]]], dtype=int16)"
      ]
     },
     "execution_count": 54,
     "metadata": {},
     "output_type": "execute_result"
    }
   ],
   "source": [
    "# need to change the position of the channel axis to display the board nicely\n",
    "np.rollaxis(sdh.template(), 2, 0)"
   ]
  },
  {
   "cell_type": "markdown",
   "metadata": {},
   "source": [
    "---\n",
    "Eight equivalent boards for the symmetry operations: rotate 90/180/270 and flip"
   ]
  },
  {
   "cell_type": "code",
   "execution_count": 55,
   "metadata": {},
   "outputs": [
    {
     "name": "stdout",
     "output_type": "stream",
     "text": [
      "    def rot_flip (self, coords, quarters, flip):\n",
      "        \"\"\"\n",
      "        coords: list of tuples of matrix coordinates\n",
      "        quarters: multiples of 90 degrees to rotate\n",
      "        flip: boolean: Flip or not\n",
      "        \"\"\"\n",
      "        if self.edges:\n",
      "            N = self.N+2\n",
      "        else:\n",
      "            N = self.N\n",
      "\n",
      "        r,c = np.transpose(coords)\n",
      "        quarters = quarters % 4\n",
      "        if quarters == 0:\n",
      "            res = (r,c)\n",
      "        elif quarters == 1:\n",
      "            res = (N-c-1, r)\n",
      "        elif quarters == 2:\n",
      "            res = (N-r-1,N-c-1)\n",
      "        elif quarters == 3:\n",
      "            res = (c, N-r-1)\n",
      "        if flip:\n",
      "            res = res[::-1]\n",
      "        return np.transpose(res)\n",
      "\n"
     ]
    }
   ],
   "source": [
    "print(inspect.getsource(sdh.rot_flip))"
   ]
  },
  {
   "cell_type": "code",
   "execution_count": 56,
   "metadata": {},
   "outputs": [
    {
     "name": "stdout",
     "output_type": "stream",
     "text": [
      "[[11  1]\n",
      " [10  1]\n",
      " [ 6  6]\n",
      " [ 5  7]\n",
      " [ 5  5]]\n"
     ]
    },
    {
     "data": {
      "text/plain": [
       "array([[11, 11],\n",
       "       [11, 10],\n",
       "       [ 6,  6],\n",
       "       [ 5,  5],\n",
       "       [ 7,  5]])"
      ]
     },
     "execution_count": 56,
     "metadata": {},
     "output_type": "execute_result"
    }
   ],
   "source": [
    "print(coords)\n",
    "sdh.rot_flip(coords, quarters=1, flip=False)"
   ]
  },
  {
   "cell_type": "code",
   "execution_count": 57,
   "metadata": {},
   "outputs": [
    {
     "name": "stdout",
     "output_type": "stream",
     "text": [
      "    def all_symmetries(self, coords):\n",
      "        \"\"\"\n",
      "        All 8 equivalent game plays\n",
      "        coords: border-padded coordinates\n",
      "        \"\"\"\n",
      "            \n",
      "        return [\n",
      "            self.rot_flip(coords, quarters=quarters, flip=flip) \n",
      "            for quarters in range(4) for flip in [False, True]\n",
      "        ]\n",
      "\n"
     ]
    }
   ],
   "source": [
    "print(inspect.getsource(sdh.all_symmetries))"
   ]
  },
  {
   "cell_type": "code",
   "execution_count": 58,
   "metadata": {},
   "outputs": [
    {
     "data": {
      "text/plain": [
       "[array([[11,  1],\n",
       "        [10,  1],\n",
       "        [ 6,  6],\n",
       "        [ 5,  7],\n",
       "        [ 5,  5]]), array([[ 1, 11],\n",
       "        [ 1, 10],\n",
       "        [ 6,  6],\n",
       "        [ 7,  5],\n",
       "        [ 5,  5]]), array([[11, 11],\n",
       "        [11, 10],\n",
       "        [ 6,  6],\n",
       "        [ 5,  5],\n",
       "        [ 7,  5]]), array([[11, 11],\n",
       "        [10, 11],\n",
       "        [ 6,  6],\n",
       "        [ 5,  5],\n",
       "        [ 5,  7]]), array([[ 1, 11],\n",
       "        [ 2, 11],\n",
       "        [ 6,  6],\n",
       "        [ 7,  5],\n",
       "        [ 7,  7]]), array([[11,  1],\n",
       "        [11,  2],\n",
       "        [ 6,  6],\n",
       "        [ 5,  7],\n",
       "        [ 7,  7]]), array([[1, 1],\n",
       "        [1, 2],\n",
       "        [6, 6],\n",
       "        [7, 7],\n",
       "        [5, 7]]), array([[1, 1],\n",
       "        [2, 1],\n",
       "        [6, 6],\n",
       "        [7, 7],\n",
       "        [7, 5]])]"
      ]
     },
     "execution_count": 58,
     "metadata": {},
     "output_type": "execute_result"
    }
   ],
   "source": [
    "all_traj = sdh.all_symmetries(coords)\n",
    "all_traj"
   ]
  },
  {
   "cell_type": "markdown",
   "metadata": {},
   "source": [
    "---\n",
    "Create samples from the trajectory using Bellmann rollout:"
   ]
  },
  {
   "cell_type": "code",
   "execution_count": 59,
   "metadata": {},
   "outputs": [
    {
     "name": "stdout",
     "output_type": "stream",
     "text": [
      "    def traj_to_samples(self, traj, terminal_value, gamma):\n",
      "        \"\"\"\n",
      "        creates samples for a given trajectory, together with the bellmann-values\n",
      "\n",
      "        traj: trajectory, represented by their padded coordinates\n",
      "        terminal_value: the given value of the last state in the trajectory\n",
      "        gamma: discount factor. \n",
      "        \"\"\"\n",
      "        samples = []\n",
      "        values = []\n",
      "        value = terminal_value\n",
      "        to_move_first = 1\n",
      "        for t in range(len(traj)):      \n",
      "            moves = traj[:t+1]            \n",
      "            sample = self.create_sample(moves, to_move_first)\n",
      "\n",
      "            samples.append(sample)\n",
      "            values.append(value)\n",
      "            # Actually, this is the wrong order, we'll invert before returning\n",
      "            if to_move_first == 0:\n",
      "                value = - value\n",
      "            else:\n",
      "                value = - gamma * value\n",
      "            to_move_first = 1 - to_move_first\n",
      "\n",
      "        return samples, values[::-1]\n",
      "\n"
     ]
    }
   ],
   "source": [
    "print(inspect.getsource(sdh.traj_to_samples))"
   ]
  },
  {
   "cell_type": "markdown",
   "metadata": {},
   "source": [
    "Order of the dimensions: (Batch, rows, cols, channels)"
   ]
  },
  {
   "cell_type": "code",
   "execution_count": 60,
   "metadata": {},
   "outputs": [
    {
     "data": {
      "text/plain": [
       "(5, 13, 13, 2)"
      ]
     },
     "execution_count": 60,
     "metadata": {},
     "output_type": "execute_result"
    }
   ],
   "source": [
    "samples, values = sdh.traj_to_samples(all_traj[0], terminal_value=1, gamma=.9)\n",
    "np.shape(samples)"
   ]
  },
  {
   "cell_type": "code",
   "execution_count": 61,
   "metadata": {},
   "outputs": [
    {
     "name": "stdout",
     "output_type": "stream",
     "text": [
      "[0.81, -0.81, 0.9, -0.9, 1]\n"
     ]
    }
   ],
   "source": [
    "print(values)"
   ]
  },
  {
   "cell_type": "code",
   "execution_count": 63,
   "metadata": {},
   "outputs": [
    {
     "name": "stdout",
     "output_type": "stream",
     "text": [
      "[[2 2 2 2 2 2 2 2 2 2 2 2 2]\n",
      " [2 0 0 0 0 0 0 0 0 0 0 0 2]\n",
      " [2 0 0 0 0 0 0 0 0 0 0 0 2]\n",
      " [2 0 0 0 0 0 0 0 0 0 0 0 2]\n",
      " [2 0 0 0 0 0 0 0 0 0 0 0 2]\n",
      " [2 0 0 0 0 0 0 2 0 0 0 0 2]\n",
      " [2 0 0 0 0 0 1 0 0 0 0 0 2]\n",
      " [2 0 0 0 0 0 0 0 0 0 0 0 2]\n",
      " [2 0 0 0 0 0 0 0 0 0 0 0 2]\n",
      " [2 0 0 0 0 0 0 0 0 0 0 0 2]\n",
      " [2 2 0 0 0 0 0 0 0 0 0 0 2]\n",
      " [2 1 0 0 0 0 0 0 0 0 0 0 2]\n",
      " [2 2 2 2 2 2 2 2 2 2 2 2 2]] -0.9\n"
     ]
    }
   ],
   "source": [
    "print(disp(samples[3]), values[3])"
   ]
  },
  {
   "cell_type": "markdown",
   "metadata": {},
   "source": [
    "---\n",
    "Now, from the string rep to all 40 board/value pairs, ready to be fed in to a neural network:"
   ]
  },
  {
   "cell_type": "code",
   "execution_count": 28,
   "metadata": {},
   "outputs": [
    {
     "name": "stdout",
     "output_type": "stream",
     "text": [
      "    def from_string_with_bellmann(self, board, terminal_value=None, gamma=1.0):\n",
      "        \"\"\"\n",
      "        Creates an symmetry-augmented dataset of board positions and their values.\n",
      "        Values are calculated as Bellmann rollouts backwards from terminal_value with alternating \n",
      "        signs using discount factor gamma.\n",
      "        The samples will have shape [N_moves*8, N+2, N+2, 2]\n",
      "\n",
      "        If terminal_value is 1, expect the values to be [..., gamma^2, -gamma, gamma, -1, 1]\n",
      "\n",
      "        board: The string rep of the stones, like e.g. \"j10k11i9\"\n",
      "        N: the size of the board\n",
      "        \"\"\"\n",
      "        \n",
      "        # stones in matrix coordinates respecting the border padding\n",
      "        maybe_padded_stones = self.maybe_padded_coords(board)\n",
      "        if self.cut_off:\n",
      "            maybe_padded_stones = maybe_padded_stones[-self.cut_off:]\n",
      "\n",
      "        # all equivalent representations: 4xrot, 2xflip = 8 variants \n",
      "        all_traj = self.all_symmetries(maybe_padded_stones)\n",
      "        \n",
      "        all_samples = []\n",
      "        all_values = []\n",
      "        for traj in all_traj:\n",
      "            samples, values = self.traj_to_samples(traj, \n",
      "                                              terminal_value=terminal_value, \n",
      "                                              gamma=gamma)\n",
      "            all_samples = all_samples + samples\n",
      "            all_values = all_values + values        \n",
      "            \n",
      "        return all_samples, all_values\n",
      "\n"
     ]
    }
   ],
   "source": [
    "print(inspect.getsource(sdh.from_string_with_bellmann))"
   ]
  },
  {
   "cell_type": "code",
   "execution_count": 29,
   "metadata": {},
   "outputs": [
    {
     "name": "stdout",
     "output_type": "stream",
     "text": [
      "(40, 13, 13, 2)\n"
     ]
    }
   ],
   "source": [
    "samples, values = sdh.from_string_with_bellmann(board, gamma=.9, terminal_value=1)\n",
    "print(np.shape(samples))"
   ]
  },
  {
   "cell_type": "code",
   "execution_count": 65,
   "metadata": {},
   "outputs": [
    {
     "data": {
      "text/plain": [
       "[-0.9, 1, -0.9, 1, -0.9, 1, -0.9, 1, -0.9, 1, -0.9, 1, -0.9, 1, -0.9, 1]"
      ]
     },
     "execution_count": 65,
     "metadata": {},
     "output_type": "execute_result"
    }
   ],
   "source": [
    "sdh = SampleDataHelper(N=N, representation='NxNx2', edges=False, cut_off=2)\n",
    "samples, values = sdh.from_string_with_bellmann(board, gamma=.9, terminal_value=1)\n",
    "np.shape(samples)\n",
    "values"
   ]
  },
  {
   "cell_type": "markdown",
   "metadata": {},
   "source": [
    "---\n",
    "### Variants of representation\n",
    "\n",
    "#### 1) NxNx2, no edges"
   ]
  },
  {
   "cell_type": "code",
   "execution_count": 30,
   "metadata": {},
   "outputs": [
    {
     "data": {
      "text/plain": [
       "[array([10,  0]), array([9, 0]), array([5, 5]), array([4, 6]), array([4, 4])]"
      ]
     },
     "execution_count": 30,
     "metadata": {},
     "output_type": "execute_result"
    }
   ],
   "source": [
    "sdh = SampleDataHelper(N=N, representation='NxNx2', edges=False)\n",
    "coords = sdh.maybe_padded_coords(board)\n",
    "sample = sdh.traj_to_samples(coords, terminal_value=1, gamma=.9)[0]\n",
    "coords"
   ]
  },
  {
   "cell_type": "code",
   "execution_count": 31,
   "metadata": {},
   "outputs": [
    {
     "name": "stdout",
     "output_type": "stream",
     "text": [
      "[[0 0 0 0 0 0 0 0 0 0 0]\n",
      " [0 0 0 0 0 0 0 0 0 0 0]\n",
      " [0 0 0 0 0 0 0 0 0 0 0]\n",
      " [0 0 0 0 0 0 0 0 0 0 0]\n",
      " [0 0 0 0 2 0 1 0 0 0 0]\n",
      " [0 0 0 0 0 2 0 0 0 0 0]\n",
      " [0 0 0 0 0 0 0 0 0 0 0]\n",
      " [0 0 0 0 0 0 0 0 0 0 0]\n",
      " [0 0 0 0 0 0 0 0 0 0 0]\n",
      " [1 0 0 0 0 0 0 0 0 0 0]\n",
      " [2 0 0 0 0 0 0 0 0 0 0]]\n"
     ]
    }
   ],
   "source": [
    "print(disp(sample[4]))"
   ]
  },
  {
   "cell_type": "markdown",
   "metadata": {},
   "source": [
    "#### 2) NxNx1, with edges"
   ]
  },
  {
   "cell_type": "code",
   "execution_count": 32,
   "metadata": {},
   "outputs": [
    {
     "data": {
      "text/plain": [
       "array([[11,  1],\n",
       "       [10,  1],\n",
       "       [ 6,  6],\n",
       "       [ 5,  7],\n",
       "       [ 5,  5]])"
      ]
     },
     "execution_count": 32,
     "metadata": {},
     "output_type": "execute_result"
    }
   ],
   "source": [
    "sdh = SampleDataHelper(N=N, representation='NxNx1', edges=True)\n",
    "coords = sdh.maybe_padded_coords(board)\n",
    "sample = sdh.traj_to_samples(coords, terminal_value=1, gamma=.9)[0]\n",
    "coords"
   ]
  },
  {
   "cell_type": "markdown",
   "metadata": {},
   "source": [
    "---\n",
    "Player (1) next to move, borders are opponents"
   ]
  },
  {
   "cell_type": "code",
   "execution_count": 33,
   "metadata": {},
   "outputs": [
    {
     "data": {
      "text/plain": [
       "array([[-1, -1, -1, -1, -1, -1, -1, -1, -1, -1, -1, -1, -1],\n",
       "       [-1,  0,  0,  0,  0,  0,  0,  0,  0,  0,  0,  0, -1],\n",
       "       [-1,  0,  0,  0,  0,  0,  0,  0,  0,  0,  0,  0, -1],\n",
       "       [-1,  0,  0,  0,  0,  0,  0,  0,  0,  0,  0,  0, -1],\n",
       "       [-1,  0,  0,  0,  0,  0,  0,  0,  0,  0,  0,  0, -1],\n",
       "       [-1,  0,  0,  0,  0, -1,  0,  1,  0,  0,  0,  0, -1],\n",
       "       [-1,  0,  0,  0,  0,  0, -1,  0,  0,  0,  0,  0, -1],\n",
       "       [-1,  0,  0,  0,  0,  0,  0,  0,  0,  0,  0,  0, -1],\n",
       "       [-1,  0,  0,  0,  0,  0,  0,  0,  0,  0,  0,  0, -1],\n",
       "       [-1,  0,  0,  0,  0,  0,  0,  0,  0,  0,  0,  0, -1],\n",
       "       [-1,  1,  0,  0,  0,  0,  0,  0,  0,  0,  0,  0, -1],\n",
       "       [-1, -1,  0,  0,  0,  0,  0,  0,  0,  0,  0,  0, -1],\n",
       "       [-1, -1, -1, -1, -1, -1, -1, -1, -1, -1, -1, -1, -1]], dtype=int16)"
      ]
     },
     "execution_count": 33,
     "metadata": {},
     "output_type": "execute_result"
    }
   ],
   "source": [
    "sample[4]"
   ]
  },
  {
   "cell_type": "markdown",
   "metadata": {},
   "source": [
    "#### 3) NxNx1B"
   ]
  },
  {
   "cell_type": "code",
   "execution_count": 34,
   "metadata": {},
   "outputs": [
    {
     "data": {
      "text/plain": [
       "array([[11,  1],\n",
       "       [10,  1],\n",
       "       [ 6,  6],\n",
       "       [ 5,  7],\n",
       "       [ 5,  5]])"
      ]
     },
     "execution_count": 34,
     "metadata": {},
     "output_type": "execute_result"
    }
   ],
   "source": [
    "sdh = SampleDataHelper(N=N, representation='NxNx1B')\n",
    "coords = sdh.maybe_padded_coords(board)\n",
    "sample = sdh.traj_to_samples(coords, terminal_value=1, gamma=.9)[0]\n",
    "coords"
   ]
  },
  {
   "cell_type": "markdown",
   "metadata": {},
   "source": [
    "---\n",
    "Player (1) is next to move. The borders are neutral"
   ]
  },
  {
   "cell_type": "code",
   "execution_count": 35,
   "metadata": {},
   "outputs": [
    {
     "name": "stdout",
     "output_type": "stream",
     "text": [
      "[[ 2  2  2  2  2  2  2  2  2  2  2  2  2]\n",
      " [ 2  0  0  0  0  0  0  0  0  0  0  0  2]\n",
      " [ 2  0  0  0  0  0  0  0  0  0  0  0  2]\n",
      " [ 2  0  0  0  0  0  0  0  0  0  0  0  2]\n",
      " [ 2  0  0  0  0  0  0  0  0  0  0  0  2]\n",
      " [ 2  0  0  0  0 -1  0  1  0  0  0  0  2]\n",
      " [ 2  0  0  0  0  0 -1  0  0  0  0  0  2]\n",
      " [ 2  0  0  0  0  0  0  0  0  0  0  0  2]\n",
      " [ 2  0  0  0  0  0  0  0  0  0  0  0  2]\n",
      " [ 2  0  0  0  0  0  0  0  0  0  0  0  2]\n",
      " [ 2  1  0  0  0  0  0  0  0  0  0  0  2]\n",
      " [ 2 -1  0  0  0  0  0  0  0  0  0  0  2]\n",
      " [ 2  2  2  2  2  2  2  2  2  2  2  2  2]]\n"
     ]
    }
   ],
   "source": [
    "print(disp(sample[4]))"
   ]
  },
  {
   "cell_type": "code",
   "execution_count": null,
   "metadata": {},
   "outputs": [],
   "source": []
  },
  {
   "cell_type": "code",
   "execution_count": null,
   "metadata": {},
   "outputs": [],
   "source": []
  }
 ],
 "metadata": {
  "kernelspec": {
   "display_name": "Python 3",
   "language": "python",
   "name": "python3"
  },
  "language_info": {
   "codemirror_mode": {
    "name": "ipython",
    "version": 3
   },
   "file_extension": ".py",
   "mimetype": "text/x-python",
   "name": "python",
   "nbconvert_exporter": "python",
   "pygments_lexer": "ipython3",
   "version": "3.5.2"
  }
 },
 "nbformat": 4,
 "nbformat_minor": 4
}
