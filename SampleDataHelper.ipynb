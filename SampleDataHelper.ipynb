{
 "cells": [
  {
   "cell_type": "code",
   "execution_count": 2,
   "metadata": {},
   "outputs": [],
   "source": [
    "%load_ext autoreload\n",
    "%autoreload 2"
   ]
  },
  {
   "cell_type": "code",
   "execution_count": 3,
   "metadata": {},
   "outputs": [],
   "source": [
    "from __future__ import print_function, division, absolute_import"
   ]
  },
  {
   "cell_type": "code",
   "execution_count": 4,
   "metadata": {},
   "outputs": [],
   "source": [
    "import inspect"
   ]
  },
  {
   "cell_type": "code",
   "execution_count": 5,
   "metadata": {},
   "outputs": [],
   "source": [
    "import numpy as np"
   ]
  },
  {
   "cell_type": "code",
   "execution_count": 6,
   "metadata": {},
   "outputs": [
    {
     "name": "stderr",
     "output_type": "stream",
     "text": [
      "/home/wgiersche/workspace/DeepGomoku/tf2/lib/python3.5/site-packages/tensorflow/python/framework/dtypes.py:516: FutureWarning: Passing (type, 1) or '1type' as a synonym of type is deprecated; in a future version of numpy, it will be understood as (type, (1,)) / '(1,)type'.\n",
      "  _np_qint8 = np.dtype([(\"qint8\", np.int8, 1)])\n",
      "/home/wgiersche/workspace/DeepGomoku/tf2/lib/python3.5/site-packages/tensorflow/python/framework/dtypes.py:517: FutureWarning: Passing (type, 1) or '1type' as a synonym of type is deprecated; in a future version of numpy, it will be understood as (type, (1,)) / '(1,)type'.\n",
      "  _np_quint8 = np.dtype([(\"quint8\", np.uint8, 1)])\n",
      "/home/wgiersche/workspace/DeepGomoku/tf2/lib/python3.5/site-packages/tensorflow/python/framework/dtypes.py:518: FutureWarning: Passing (type, 1) or '1type' as a synonym of type is deprecated; in a future version of numpy, it will be understood as (type, (1,)) / '(1,)type'.\n",
      "  _np_qint16 = np.dtype([(\"qint16\", np.int16, 1)])\n",
      "/home/wgiersche/workspace/DeepGomoku/tf2/lib/python3.5/site-packages/tensorflow/python/framework/dtypes.py:519: FutureWarning: Passing (type, 1) or '1type' as a synonym of type is deprecated; in a future version of numpy, it will be understood as (type, (1,)) / '(1,)type'.\n",
      "  _np_quint16 = np.dtype([(\"quint16\", np.uint16, 1)])\n",
      "/home/wgiersche/workspace/DeepGomoku/tf2/lib/python3.5/site-packages/tensorflow/python/framework/dtypes.py:520: FutureWarning: Passing (type, 1) or '1type' as a synonym of type is deprecated; in a future version of numpy, it will be understood as (type, (1,)) / '(1,)type'.\n",
      "  _np_qint32 = np.dtype([(\"qint32\", np.int32, 1)])\n",
      "/home/wgiersche/workspace/DeepGomoku/tf2/lib/python3.5/site-packages/tensorflow/python/framework/dtypes.py:525: FutureWarning: Passing (type, 1) or '1type' as a synonym of type is deprecated; in a future version of numpy, it will be understood as (type, (1,)) / '(1,)type'.\n",
      "  np_resource = np.dtype([(\"resource\", np.ubyte, 1)])\n",
      "/home/wgiersche/workspace/DeepGomoku/tf2/lib/python3.5/site-packages/tensorboard/compat/tensorflow_stub/dtypes.py:541: FutureWarning: Passing (type, 1) or '1type' as a synonym of type is deprecated; in a future version of numpy, it will be understood as (type, (1,)) / '(1,)type'.\n",
      "  _np_qint8 = np.dtype([(\"qint8\", np.int8, 1)])\n",
      "/home/wgiersche/workspace/DeepGomoku/tf2/lib/python3.5/site-packages/tensorboard/compat/tensorflow_stub/dtypes.py:542: FutureWarning: Passing (type, 1) or '1type' as a synonym of type is deprecated; in a future version of numpy, it will be understood as (type, (1,)) / '(1,)type'.\n",
      "  _np_quint8 = np.dtype([(\"quint8\", np.uint8, 1)])\n",
      "/home/wgiersche/workspace/DeepGomoku/tf2/lib/python3.5/site-packages/tensorboard/compat/tensorflow_stub/dtypes.py:543: FutureWarning: Passing (type, 1) or '1type' as a synonym of type is deprecated; in a future version of numpy, it will be understood as (type, (1,)) / '(1,)type'.\n",
      "  _np_qint16 = np.dtype([(\"qint16\", np.int16, 1)])\n",
      "/home/wgiersche/workspace/DeepGomoku/tf2/lib/python3.5/site-packages/tensorboard/compat/tensorflow_stub/dtypes.py:544: FutureWarning: Passing (type, 1) or '1type' as a synonym of type is deprecated; in a future version of numpy, it will be understood as (type, (1,)) / '(1,)type'.\n",
      "  _np_quint16 = np.dtype([(\"quint16\", np.uint16, 1)])\n",
      "/home/wgiersche/workspace/DeepGomoku/tf2/lib/python3.5/site-packages/tensorboard/compat/tensorflow_stub/dtypes.py:545: FutureWarning: Passing (type, 1) or '1type' as a synonym of type is deprecated; in a future version of numpy, it will be understood as (type, (1,)) / '(1,)type'.\n",
      "  _np_qint32 = np.dtype([(\"qint32\", np.int32, 1)])\n",
      "/home/wgiersche/workspace/DeepGomoku/tf2/lib/python3.5/site-packages/tensorboard/compat/tensorflow_stub/dtypes.py:550: FutureWarning: Passing (type, 1) or '1type' as a synonym of type is deprecated; in a future version of numpy, it will be understood as (type, (1,)) / '(1,)type'.\n",
      "  np_resource = np.dtype([(\"resource\", np.ubyte, 1)])\n"
     ]
    }
   ],
   "source": [
    "from wgomoku import GomokuTools as gt, SampleDataHelper"
   ]
  },
  {
   "cell_type": "code",
   "execution_count": 7,
   "metadata": {},
   "outputs": [
    {
     "name": "stdout",
     "output_type": "stream",
     "text": [
      "2.0.0-beta1\n"
     ]
    },
    {
     "data": {
      "text/plain": [
       "True"
      ]
     },
     "execution_count": 7,
     "metadata": {},
     "output_type": "execute_result"
    }
   ],
   "source": [
    "import tensorflow as tf\n",
    "print(tf.__version__)\n",
    "tf.test.is_gpu_available()"
   ]
  },
  {
   "cell_type": "code",
   "execution_count": 8,
   "metadata": {},
   "outputs": [],
   "source": [
    "N=11"
   ]
  },
  {
   "cell_type": "code",
   "execution_count": 9,
   "metadata": {},
   "outputs": [],
   "source": [
    "sdh = SampleDataHelper(N)"
   ]
  },
  {
   "cell_type": "code",
   "execution_count": 10,
   "metadata": {},
   "outputs": [],
   "source": [
    "def disp(sample):\n",
    "    if tf.is_tensor(sample):\n",
    "        sample = sample.numpy()\n",
    "    s = np.rollaxis(sample, -1, 0)\n",
    "    return str(s[0]+2*s[1])"
   ]
  },
  {
   "cell_type": "code",
   "execution_count": 11,
   "metadata": {},
   "outputs": [],
   "source": [
    "board = \"a1a2f6g7e7\""
   ]
  },
  {
   "cell_type": "markdown",
   "metadata": {},
   "source": [
    "---\n",
    "Coordinates of that board's stones on a padded (here:=13x13) numpy tensor:"
   ]
  },
  {
   "cell_type": "code",
   "execution_count": 12,
   "metadata": {},
   "outputs": [
    {
     "name": "stdout",
     "output_type": "stream",
     "text": [
      "    def padded_coords(self, board):\n",
      "        \"\"\"\n",
      "        return stones in matrix coordinates respecting the border padding\n",
      "        \"\"\"\n",
      "        stones = gt.string_to_stones(board)\n",
      "        matrix_coords = [gt.b2m([ord(s[0])-64, s[1]], self.N) for s in stones]\n",
      "        return np.add(matrix_coords, [1,1])\n",
      "\n"
     ]
    }
   ],
   "source": [
    "print(inspect.getsource(sdh.padded_coords))"
   ]
  },
  {
   "cell_type": "code",
   "execution_count": 13,
   "metadata": {},
   "outputs": [
    {
     "data": {
      "text/plain": [
       "array([[11,  1],\n",
       "       [10,  1],\n",
       "       [ 6,  6],\n",
       "       [ 5,  7],\n",
       "       [ 5,  5]])"
      ]
     },
     "execution_count": 13,
     "metadata": {},
     "output_type": "execute_result"
    }
   ],
   "source": [
    "coords = sdh.padded_coords(board)\n",
    "coords"
   ]
  },
  {
   "cell_type": "markdown",
   "metadata": {},
   "source": [
    "---\n",
    "An empty board's representation:"
   ]
  },
  {
   "cell_type": "code",
   "execution_count": 14,
   "metadata": {},
   "outputs": [
    {
     "name": "stdout",
     "output_type": "stream",
     "text": [
      "    def template(self):\n",
      "        \"\"\"\n",
      "        create a fresh empty board representation\n",
      "        \"\"\"\n",
      "        s = np.zeros([self.N,self.N], dtype=np.int16)\n",
      "        defensive = np.pad(s, pad_width=1, constant_values=1)\n",
      "        offensive = np.zeros([self.N+2, self.N+2], dtype=np.int16)\n",
      "        template = np.stack([offensive, defensive], axis=-1)\n",
      "        return template\n",
      "\n"
     ]
    }
   ],
   "source": [
    "print(inspect.getsource(sdh.template))"
   ]
  },
  {
   "cell_type": "code",
   "execution_count": 15,
   "metadata": {},
   "outputs": [
    {
     "data": {
      "text/plain": [
       "array([[[0, 0, 0, 0, 0, 0, 0, 0, 0, 0, 0, 0, 0],\n",
       "        [0, 0, 0, 0, 0, 0, 0, 0, 0, 0, 0, 0, 0],\n",
       "        [0, 0, 0, 0, 0, 0, 0, 0, 0, 0, 0, 0, 0],\n",
       "        [0, 0, 0, 0, 0, 0, 0, 0, 0, 0, 0, 0, 0],\n",
       "        [0, 0, 0, 0, 0, 0, 0, 0, 0, 0, 0, 0, 0],\n",
       "        [0, 0, 0, 0, 0, 0, 0, 0, 0, 0, 0, 0, 0],\n",
       "        [0, 0, 0, 0, 0, 0, 0, 0, 0, 0, 0, 0, 0],\n",
       "        [0, 0, 0, 0, 0, 0, 0, 0, 0, 0, 0, 0, 0],\n",
       "        [0, 0, 0, 0, 0, 0, 0, 0, 0, 0, 0, 0, 0],\n",
       "        [0, 0, 0, 0, 0, 0, 0, 0, 0, 0, 0, 0, 0],\n",
       "        [0, 0, 0, 0, 0, 0, 0, 0, 0, 0, 0, 0, 0],\n",
       "        [0, 0, 0, 0, 0, 0, 0, 0, 0, 0, 0, 0, 0],\n",
       "        [0, 0, 0, 0, 0, 0, 0, 0, 0, 0, 0, 0, 0]],\n",
       "\n",
       "       [[1, 1, 1, 1, 1, 1, 1, 1, 1, 1, 1, 1, 1],\n",
       "        [1, 0, 0, 0, 0, 0, 0, 0, 0, 0, 0, 0, 1],\n",
       "        [1, 0, 0, 0, 0, 0, 0, 0, 0, 0, 0, 0, 1],\n",
       "        [1, 0, 0, 0, 0, 0, 0, 0, 0, 0, 0, 0, 1],\n",
       "        [1, 0, 0, 0, 0, 0, 0, 0, 0, 0, 0, 0, 1],\n",
       "        [1, 0, 0, 0, 0, 0, 0, 0, 0, 0, 0, 0, 1],\n",
       "        [1, 0, 0, 0, 0, 0, 0, 0, 0, 0, 0, 0, 1],\n",
       "        [1, 0, 0, 0, 0, 0, 0, 0, 0, 0, 0, 0, 1],\n",
       "        [1, 0, 0, 0, 0, 0, 0, 0, 0, 0, 0, 0, 1],\n",
       "        [1, 0, 0, 0, 0, 0, 0, 0, 0, 0, 0, 0, 1],\n",
       "        [1, 0, 0, 0, 0, 0, 0, 0, 0, 0, 0, 0, 1],\n",
       "        [1, 0, 0, 0, 0, 0, 0, 0, 0, 0, 0, 0, 1],\n",
       "        [1, 1, 1, 1, 1, 1, 1, 1, 1, 1, 1, 1, 1]]], dtype=int16)"
      ]
     },
     "execution_count": 15,
     "metadata": {},
     "output_type": "execute_result"
    }
   ],
   "source": [
    "# need to change the position of the channel axis to display the board nicely\n",
    "np.rollaxis(sdh.template(), 2, 0)"
   ]
  },
  {
   "cell_type": "code",
   "execution_count": 16,
   "metadata": {},
   "outputs": [
    {
     "name": "stdout",
     "output_type": "stream",
     "text": [
      "[[2 2 2 2 2 2 2 2 2 2 2 2 2]\n",
      " [2 0 0 0 0 0 0 0 0 0 0 0 2]\n",
      " [2 0 0 0 0 0 0 0 0 0 0 0 2]\n",
      " [2 0 0 0 0 0 0 0 0 0 0 0 2]\n",
      " [2 0 0 0 0 0 0 0 0 0 0 0 2]\n",
      " [2 0 0 0 0 0 0 0 0 0 0 0 2]\n",
      " [2 0 0 0 0 0 1 0 0 0 0 0 2]\n",
      " [2 0 0 0 0 0 0 2 0 0 0 0 2]\n",
      " [2 0 0 0 0 0 0 0 0 0 0 0 2]\n",
      " [2 0 0 0 0 0 0 0 0 0 0 0 2]\n",
      " [2 0 0 0 0 0 0 0 0 0 0 0 2]\n",
      " [2 0 0 0 0 0 0 0 0 0 0 0 2]\n",
      " [2 2 2 2 2 2 2 2 2 2 2 2 2]]\n"
     ]
    }
   ],
   "source": [
    "some_board = sdh.template()\n",
    "some_board[6,6,0] = 1\n",
    "some_board[7,7,1] = 1 \n",
    "print(disp(some_board))"
   ]
  },
  {
   "cell_type": "markdown",
   "metadata": {},
   "source": [
    "---\n",
    "Eight equivalent boards for the symmetry operations: rotate 90/180/270 and flip"
   ]
  },
  {
   "cell_type": "code",
   "execution_count": 17,
   "metadata": {},
   "outputs": [
    {
     "name": "stdout",
     "output_type": "stream",
     "text": [
      "    def rot_flip (self, coords, quarters, flip):\n",
      "        \"\"\"\n",
      "        coords: list of tuples of matrix coordinates\n",
      "        quarters: multiples of 90 degrees to rotate\n",
      "        flip: boolean: Flip or not\n",
      "        \"\"\"\n",
      "        N = self.N+2\n",
      "        r,c = np.transpose(coords)\n",
      "        quarters = quarters % 4\n",
      "        if quarters == 0:\n",
      "            res = (r,c)\n",
      "        elif quarters == 1:\n",
      "            res = (N-c-1, r)\n",
      "        elif quarters == 2:\n",
      "            res = (N-r-1,N-c-1)\n",
      "        elif quarters == 3:\n",
      "            res = (c, N-r-1)\n",
      "        if flip:\n",
      "            res = res[::-1]\n",
      "        return np.transpose(res)\n",
      "\n"
     ]
    }
   ],
   "source": [
    "print(inspect.getsource(sdh.rot_flip))"
   ]
  },
  {
   "cell_type": "code",
   "execution_count": 18,
   "metadata": {},
   "outputs": [
    {
     "name": "stdout",
     "output_type": "stream",
     "text": [
      "[[11  1]\n",
      " [10  1]\n",
      " [ 6  6]\n",
      " [ 5  7]\n",
      " [ 5  5]]\n"
     ]
    },
    {
     "data": {
      "text/plain": [
       "array([[11, 11],\n",
       "       [11, 10],\n",
       "       [ 6,  6],\n",
       "       [ 5,  5],\n",
       "       [ 7,  5]])"
      ]
     },
     "execution_count": 18,
     "metadata": {},
     "output_type": "execute_result"
    }
   ],
   "source": [
    "print(coords)\n",
    "sdh.rot_flip(coords, quarters=1, flip=False)"
   ]
  },
  {
   "cell_type": "code",
   "execution_count": 19,
   "metadata": {},
   "outputs": [
    {
     "name": "stdout",
     "output_type": "stream",
     "text": [
      "    def all_symmetries(self, coords):\n",
      "        \"\"\"\n",
      "        All 8 equivalent game plays\n",
      "        coords: border-padded coordinates\n",
      "        \"\"\"\n",
      "        return [\n",
      "            self.rot_flip(coords, quarters=quarters, flip=flip) \n",
      "            for quarters in range(4) for flip in [False, True]\n",
      "        ]\n",
      "\n"
     ]
    }
   ],
   "source": [
    "print(inspect.getsource(sdh.all_symmetries))"
   ]
  },
  {
   "cell_type": "code",
   "execution_count": 20,
   "metadata": {},
   "outputs": [
    {
     "data": {
      "text/plain": [
       "[array([[11,  1],\n",
       "        [10,  1],\n",
       "        [ 6,  6],\n",
       "        [ 5,  7],\n",
       "        [ 5,  5]]), array([[ 1, 11],\n",
       "        [ 1, 10],\n",
       "        [ 6,  6],\n",
       "        [ 7,  5],\n",
       "        [ 5,  5]]), array([[11, 11],\n",
       "        [11, 10],\n",
       "        [ 6,  6],\n",
       "        [ 5,  5],\n",
       "        [ 7,  5]]), array([[11, 11],\n",
       "        [10, 11],\n",
       "        [ 6,  6],\n",
       "        [ 5,  5],\n",
       "        [ 5,  7]]), array([[ 1, 11],\n",
       "        [ 2, 11],\n",
       "        [ 6,  6],\n",
       "        [ 7,  5],\n",
       "        [ 7,  7]]), array([[11,  1],\n",
       "        [11,  2],\n",
       "        [ 6,  6],\n",
       "        [ 5,  7],\n",
       "        [ 7,  7]]), array([[1, 1],\n",
       "        [1, 2],\n",
       "        [6, 6],\n",
       "        [7, 7],\n",
       "        [5, 7]]), array([[1, 1],\n",
       "        [2, 1],\n",
       "        [6, 6],\n",
       "        [7, 7],\n",
       "        [7, 5]])]"
      ]
     },
     "execution_count": 20,
     "metadata": {},
     "output_type": "execute_result"
    }
   ],
   "source": [
    "all_traj = sdh.all_symmetries(coords)\n",
    "all_traj"
   ]
  },
  {
   "cell_type": "markdown",
   "metadata": {},
   "source": [
    "---\n",
    "Create samples from the trajectory using Bellmann rollout:"
   ]
  },
  {
   "cell_type": "code",
   "execution_count": 21,
   "metadata": {},
   "outputs": [
    {
     "name": "stdout",
     "output_type": "stream",
     "text": [
      "    def traj_to_samples(self, traj, terminal_value, gamma):\n",
      "        \"\"\"\n",
      "        creates samples for a given trajectory, together with the bellmann-values\n",
      "\n",
      "        traj: trajectory, represented by their padded coordinates\n",
      "        terminal_value: the given value of the last state in the trajectory\n",
      "        gamma: discount factor. \n",
      "        \"\"\"\n",
      "        samples = []\n",
      "        values = []\n",
      "        value = terminal_value\n",
      "        to_move_first = 1\n",
      "        for t in range(len(traj)):      \n",
      "            to_move = to_move_first\n",
      "            moves = traj[:t+1]\n",
      "            sample = self.template()\n",
      "            for move in moves:\n",
      "                sample[move[0], move[1], to_move] = 1\n",
      "                to_move = 1 - to_move\n",
      "            samples.append(sample)\n",
      "            values.append(value)\n",
      "            # Actually, this is the wrong order, we'll invert before returning\n",
      "            if to_move_first == 0:\n",
      "                value = - value\n",
      "            else:\n",
      "                value = - gamma * value\n",
      "            to_move_first = 1 - to_move_first\n",
      "\n",
      "        return samples, values[::-1]\n",
      "\n"
     ]
    }
   ],
   "source": [
    "print(inspect.getsource(sdh.traj_to_samples))"
   ]
  },
  {
   "cell_type": "markdown",
   "metadata": {},
   "source": [
    "Order of the dimensions: (Batch, rows, cols, channels)"
   ]
  },
  {
   "cell_type": "code",
   "execution_count": 22,
   "metadata": {},
   "outputs": [
    {
     "data": {
      "text/plain": [
       "(5, 13, 13, 2)"
      ]
     },
     "execution_count": 22,
     "metadata": {},
     "output_type": "execute_result"
    }
   ],
   "source": [
    "samples, values = sdh.traj_to_samples(all_traj[0], terminal_value=1, gamma=.9)\n",
    "np.shape(samples)"
   ]
  },
  {
   "cell_type": "code",
   "execution_count": 23,
   "metadata": {},
   "outputs": [
    {
     "name": "stdout",
     "output_type": "stream",
     "text": [
      "[0.81, -0.81, 0.9, -0.9, 1]\n"
     ]
    }
   ],
   "source": [
    "print(values)"
   ]
  },
  {
   "cell_type": "code",
   "execution_count": 24,
   "metadata": {},
   "outputs": [
    {
     "name": "stdout",
     "output_type": "stream",
     "text": [
      "[[2 2 2 2 2 2 2 2 2 2 2 2 2]\n",
      " [2 0 0 0 0 0 0 0 0 0 0 0 2]\n",
      " [2 0 0 0 0 0 0 0 0 0 0 0 2]\n",
      " [2 0 0 0 0 0 0 0 0 0 0 0 2]\n",
      " [2 0 0 0 0 0 0 0 0 0 0 0 2]\n",
      " [2 0 0 0 0 0 0 0 0 0 0 0 2]\n",
      " [2 0 0 0 0 0 0 0 0 0 0 0 2]\n",
      " [2 0 0 0 0 0 0 0 0 0 0 0 2]\n",
      " [2 0 0 0 0 0 0 0 0 0 0 0 2]\n",
      " [2 0 0 0 0 0 0 0 0 0 0 0 2]\n",
      " [2 2 0 0 0 0 0 0 0 0 0 0 2]\n",
      " [2 1 0 0 0 0 0 0 0 0 0 0 2]\n",
      " [2 2 2 2 2 2 2 2 2 2 2 2 2]] -0.81\n"
     ]
    }
   ],
   "source": [
    "print(disp(samples[1]), values[1])"
   ]
  },
  {
   "cell_type": "markdown",
   "metadata": {},
   "source": [
    "---\n",
    "Now, from the string rep to all 40 board/value pairs, ready to be fed in to a neural network:"
   ]
  },
  {
   "cell_type": "code",
   "execution_count": 25,
   "metadata": {},
   "outputs": [
    {
     "name": "stdout",
     "output_type": "stream",
     "text": [
      "    def from_string_with_bellmann(self, board, terminal_value=None, gamma=1.0):\n",
      "        \"\"\"\n",
      "        Creates an symmetry-augmented dataset of board positions and their values.\n",
      "        Values are calculated as Bellmann rollouts backwards from terminal_value with alternating \n",
      "        signs using discount factor gamma.\n",
      "        The samples will have shape [N_moves*8, N+2, N+2, 2]\n",
      "\n",
      "        If terminal_value is 1, expect the values to be [..., gamma^2, -gamma, gamma, -1, 1]\n",
      "\n",
      "        board: The string rep of the stones, like e.g. \"j10k11i9\"\n",
      "        N: the size of the board\n",
      "        \"\"\"\n",
      "        \n",
      "        # stones in matrix coordinates respecting the border padding\n",
      "        padded_stones = self.padded_coords(board)\n",
      "\n",
      "        # all equivalent representations: 4xrot, 2xflip = 8 variants \n",
      "        all_traj = self.all_symmetries(padded_stones)\n",
      "        \n",
      "        all_samples = []\n",
      "        all_values = []\n",
      "        for traj in all_traj:\n",
      "            samples, values = self.traj_to_samples(traj, \n",
      "                                              terminal_value=terminal_value, \n",
      "                                              gamma=gamma)\n",
      "            all_samples = all_samples + samples\n",
      "            all_values = all_values + values        \n",
      "            \n",
      "        return all_samples, all_values\n",
      "\n"
     ]
    }
   ],
   "source": [
    "print(inspect.getsource(sdh.from_string_with_bellmann))"
   ]
  },
  {
   "cell_type": "code",
   "execution_count": 29,
   "metadata": {},
   "outputs": [
    {
     "name": "stdout",
     "output_type": "stream",
     "text": [
      "(40, 13, 13, 2)\n",
      "[[2 2 2 2 2 2 2 2 2 2 2 2 2]\n",
      " [2 0 0 0 0 0 0 0 0 0 0 0 2]\n",
      " [2 0 0 0 0 0 0 0 0 0 0 0 2]\n",
      " [2 0 0 0 0 0 0 0 0 0 0 0 2]\n",
      " [2 0 0 0 0 0 0 0 0 0 0 0 2]\n",
      " [2 0 0 0 0 0 0 0 0 0 0 0 2]\n",
      " [2 0 0 0 0 0 0 0 0 0 0 0 2]\n",
      " [2 0 0 0 0 0 0 0 0 0 0 0 2]\n",
      " [2 0 0 0 0 0 0 0 0 0 0 0 2]\n",
      " [2 0 0 0 0 0 0 0 0 0 0 0 2]\n",
      " [2 0 0 0 0 0 0 0 0 0 0 0 2]\n",
      " [2 2 0 0 0 0 0 0 0 0 0 0 2]\n",
      " [2 2 2 2 2 2 2 2 2 2 2 2 2]] 0.81\n"
     ]
    }
   ],
   "source": [
    "samples, values = sdh.from_string_with_bellmann(board, gamma=.9, terminal_value=1)\n",
    "print(np.shape(samples))\n",
    "\n",
    "probe=0\n",
    "print(disp(samples[probe]), values[probe])"
   ]
  },
  {
   "cell_type": "code",
   "execution_count": null,
   "metadata": {},
   "outputs": [],
   "source": []
  },
  {
   "cell_type": "code",
   "execution_count": null,
   "metadata": {},
   "outputs": [],
   "source": []
  }
 ],
 "metadata": {
  "kernelspec": {
   "display_name": "Python 3",
   "language": "python",
   "name": "python3"
  },
  "language_info": {
   "codemirror_mode": {
    "name": "ipython",
    "version": 3
   },
   "file_extension": ".py",
   "mimetype": "text/x-python",
   "name": "python",
   "nbconvert_exporter": "python",
   "pygments_lexer": "ipython3",
   "version": "3.5.2"
  }
 },
 "nbformat": 4,
 "nbformat_minor": 4
}
