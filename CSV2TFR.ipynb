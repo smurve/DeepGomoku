{
 "cells": [
  {
   "cell_type": "code",
   "execution_count": 1,
   "metadata": {},
   "outputs": [],
   "source": [
    "%load_ext autoreload\n",
    "%autoreload 2"
   ]
  },
  {
   "cell_type": "code",
   "execution_count": 2,
   "metadata": {},
   "outputs": [],
   "source": [
    "from __future__ import print_function, absolute_import, division"
   ]
  },
  {
   "cell_type": "code",
   "execution_count": 13,
   "metadata": {},
   "outputs": [],
   "source": [
    "import numpy as np\n",
    "from wgomoku import (\n",
    "    GomokuBoard, Move, StochasticMaxSampler, HeuristicGomokuPolicy, ThreatSearch,\n",
    "    Heuristics, GomokuTools as gt, create_sample, data_from_game)"
   ]
  },
  {
   "cell_type": "code",
   "execution_count": 4,
   "metadata": {},
   "outputs": [],
   "source": [
    "A,B,C,D,E,F,G,H,I,J,K,L,M,N,O,P,Q,R,S,T,U = \\\n",
    "    1,2,3,4,5,6,7,8,9,10,11,12,13,14,15,16,17,18,19,20,21\n",
    "BLACK=0\n",
    "WHITE=1\n",
    "EDGES=2"
   ]
  },
  {
   "cell_type": "code",
   "execution_count": 30,
   "metadata": {},
   "outputs": [
    {
     "data": {
      "text/plain": [
       "'i10h9j9h11k10g10h10f9i12d7e8g9e9g11g8f11i11'"
      ]
     },
     "execution_count": 30,
     "metadata": {},
     "output_type": "execute_result"
    }
   ],
   "source": [
    "import pandas as pd\n",
    "df = pd.read_csv(\"self_play_data/startwith_i10h9j9h11k10g10_style_2_ts_65.csv\")\n",
    "games = df['game']      \n",
    "games[5]"
   ]
  },
  {
   "cell_type": "code",
   "execution_count": 31,
   "metadata": {},
   "outputs": [
    {
     "name": "stdout",
     "output_type": "stream",
     "text": [
      "i10h9j9h11k10g10j7j10f9f11e12i11g11h12k9 56\n",
      "i10h9j9h11k10g10j7j10i12f11e12i11g11h12h10 56\n",
      "i10h9j9h11k10g10j7j10i12f11e12i11g11h12g13 56\n",
      "i10h9j9h11k10g10h10f9e8i12j13g9e9g11g12f11i11 72\n",
      "i10h9j9h11k10g10i8l11g6h7j10l10j8j7j11j12l8k8i11k9 96\n",
      "i10h9j9h11k10g10h10f9i12d7e8g9e9g11g8f11i11 72\n",
      "i10h9j9h11k10g10h7i8j7j10k8k7l7m6i6h5l9m10k9m9k12k11j5k4m8n7 144\n",
      "i10h9j9h11k10g10h7i8f11k6j7j10i12j11i7k7k4k9i11i13j5i6j6j8h10k8k5 152\n",
      "i10h9j9h11k10g10j7j10f9f11e12i11g11h12h10 56\n",
      "i10h9j9h11k10g10h7i8f11f9e8j7k6i12j13g9e9g12g11h12h10 104\n",
      "i10h9j9h11k10g10i8h7l11m12j10l10j8j7j11j12m8l9k11k8 96\n",
      "i10h9j9h11k10g10j7j10i12f11e12i11g11h12h10 56\n",
      "i10h9j9h11k10g10j7j10i8l11h7g6i7i9 48\n",
      "i10h9j9h11k10g10j7j10l11i8k8f11e12g11i11e11d11g8g9h8h10 104\n",
      "i10h9j9h11k10g10j7j10i12f11e12i11g11h12g13 56\n",
      "i10h9j9h11k10g10h7i8j7j10k8k7l7m6i6l9h5g4j5g8l3k4i5k5f5g5k6i4m8n9j4j6h6g7 208\n",
      "i10h9j9h11k10g10h7i8f11h10h12i12f9f10e10g8j7j13k14j8h8g11i9 120\n",
      "i10h9j9h11k10g10h10f9i12d7e8g9e9g11g12f11e11 72\n",
      "i10h9j9h11k10g10j7j10l11i8f11f9i12e8d7g9e9g8g11 88\n",
      "i10h9j9h11k10g10i12h7j10l10j11h13 32\n",
      "i10h9j9h11k10g10j7j10h7i8k8k7l7m6i6h5l9m10k9m9k12k11j5k4m8k6 144\n",
      "i10h9j9h11k10g10i8h7l11m12j10l10j8j11j7j6l8k8i11k9 96\n",
      "i10h9j9h11k10g10h10f9e8i12j13g9e9g11g8f11i8 72\n",
      "i10h9j9h11k10g10h10f9i12d7e8g9e9g11g12f11e11 72\n",
      "i10h9j9h11k10g10h10f9e8i12j13g9e9g11g12f11i11 72\n",
      "i10h9j9h11k10g10h10f9e8i12j13g9e9g11g8f11i8 72\n",
      "i10h9j9h11k10g10i8h7l11m12j10l10j8j7j11j12m8l9k11k8 96\n",
      "i10h9j9h11k10g10i8l11g6h7j10l10j8j7j11j12l8k8i11i9 96\n",
      "i10h9j9h11k10g10i12j7i8h7i9i11m12l11i7i6j10l10j11l9 96\n",
      "i10h9j9h11k10g10i12h7j10l10j11j12 32\n",
      "i10h9j9h11k10g10h10f9e8i12j13g9e9g11g8f11e11 72\n",
      "i10h9j9h11k10g10h10f9e8i12j13g9e9g11g8f11e12 72\n",
      "i10h9j9h11k10g10j7j10i8h7i11i9h8f9i12g9e9g8g7 88\n",
      "i10h9j9h11k10g10i12i8f11j11j10l10i11i13h12g13k9l8k12k11 96\n",
      "i10h9j9h11k10g10i12j11i11i9j7i8j8j6i7l10k7h7l7m7k8m6 112\n",
      "i10h9j9h11k10g10i8l11g6h7j10l10j8j7j11j12l8k8i11k9 96\n",
      "i10h9j9h11k10g10h7i8f11k6j7j10i7k7f9k8k5h10h12j8l8 104\n",
      "i10h9j9h11k10g10h10f9e8i12j13g9e9g11g8f11e12 72\n",
      "i10h9j9h11k10g10h7i8j7j10k8k7l7m6i6l9h5g4j5k4f9g8i5g5i4k6 144\n",
      "i10h9j9h11k10g10h7i8f11i12j13f9e8j7k6g9e9g12g11h12h10 104\n"
     ]
    }
   ],
   "source": [
    "import os, tensorflow as tf\n",
    "def _floats_feature(value):\n",
    "    return tf.train.Feature(float_list=tf.train.FloatList(value=value))\n",
    "heuristics = Heuristics(kappa=3.0)\n",
    "p = HeuristicGomokuPolicy(style = 2, bias=.5, topn=5)\n",
    "tfr_filename = os.path.join('self_play_data', \"multigames-3.tfr\")\n",
    "\n",
    "with tf.python_io.TFRecordWriter(tfr_filename) as writer:\n",
    "    for i, game in enumerate(games):\n",
    "        stones = gt.string_to_stones(game)\n",
    "        board = GomokuBoard(N=19, stones=stones, heuristics=heuristics, disp_width=10)\n",
    "        smp, _, _, lbl = data_from_game(board, p, heuristics)\n",
    "        print(game, smp.shape[0])\n",
    "        s_and_d = list(zip(smp, lbl))\n",
    "\n",
    "        for vec in s_and_d:\n",
    "            # Create an example protocol buffer\n",
    "            example = tf.train.Example(features=tf.train.Features(feature={\n",
    "                'state': _floats_feature(vec[0].flatten()),\n",
    "                'distr' : _floats_feature(vec[1].flatten()),\n",
    "                }))\n",
    "            writer.write(example.SerializeToString())\n",
    "    "
   ]
  },
  {
   "cell_type": "code",
   "execution_count": 18,
   "metadata": {},
   "outputs": [
    {
     "data": {
      "text/plain": [
       "[(0, 1), (1, 2), (2, 2)]"
      ]
     },
     "execution_count": 18,
     "metadata": {},
     "output_type": "execute_result"
    }
   ],
   "source": [
    "list(enumerate([1,2,2]))"
   ]
  },
  {
   "cell_type": "code",
   "execution_count": null,
   "metadata": {},
   "outputs": [],
   "source": []
  }
 ],
 "metadata": {
  "kernelspec": {
   "display_name": "Python 3",
   "language": "python",
   "name": "python3"
  },
  "language_info": {
   "codemirror_mode": {
    "name": "ipython",
    "version": 3
   },
   "file_extension": ".py",
   "mimetype": "text/x-python",
   "name": "python",
   "nbconvert_exporter": "python",
   "pygments_lexer": "ipython3",
   "version": "3.5.2"
  }
 },
 "nbformat": 4,
 "nbformat_minor": 2
}
