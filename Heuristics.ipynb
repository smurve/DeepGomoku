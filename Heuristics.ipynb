{
 "cells": [
  {
   "cell_type": "code",
   "execution_count": 1,
   "metadata": {},
   "outputs": [],
   "source": [
    "%load_ext autoreload\n",
    "%autoreload 2"
   ]
  },
  {
   "cell_type": "code",
   "execution_count": 2,
   "metadata": {},
   "outputs": [],
   "source": [
    "from __future__ import print_function, absolute_import, division"
   ]
  },
  {
   "cell_type": "code",
   "execution_count": 3,
   "metadata": {},
   "outputs": [],
   "source": [
    "import numpy as np\n",
    "from wgomoku import GomokuBoard, GomokuTools as gt, NH9x9, Heuristics"
   ]
  },
  {
   "cell_type": "code",
   "execution_count": 4,
   "metadata": {},
   "outputs": [],
   "source": [
    "def num_offensive(o, d):\n",
    "    s, l, offset = gt.mask2(o, d)\n",
    "    m2o_bits = gt.as_bit_array(s)[:l]\n",
    "    max_count = 0\n",
    "    for w in [2,1,0]:\n",
    "        i = 0\n",
    "        while i <= len(m2o_bits) - 2 - w:\n",
    "            count = sum(m2o_bits[i:i+w+2])\n",
    "            count = 3*count - (w+2)\n",
    "            if count > max_count:\n",
    "                max_count = count\n",
    "            i+=1\n",
    "    if m2o_bits[0] == 0:\n",
    "        max_count += 1.5\n",
    "    if m2o_bits[-1] == 0:\n",
    "        max_count += 1.5\n",
    "\n",
    "    return max_count        \n"
   ]
  },
  {
   "cell_type": "code",
   "execution_count": 5,
   "metadata": {},
   "outputs": [],
   "source": [
    "def line_score(xo):\n",
    "    o,d = gt.line_for_xo(xo)\n",
    "    m = gt.mask(o,d)\n",
    "    m2 = gt.mask2(o,d)\n",
    "    if m2[1] >= 4 and sum(gt.as_bit_array(m2[0])) >= 1:\n",
    "        return num_offensive(o,d) - 2\n",
    "    else:\n",
    "        return 0"
   ]
  },
  {
   "cell_type": "code",
   "execution_count": 6,
   "metadata": {},
   "outputs": [
    {
     "name": "stdout",
     "output_type": "stream",
     "text": [
      "...ox... 0.5\n",
      "...x..xo 1.5\n",
      ".....x.. 2.0\n",
      "...x.xo. 2.5\n",
      "...x..x. 3.0\n",
      "...xxo.. 3.5\n",
      "xx...... 3.5\n",
      "...x.x.. 4.0\n",
      "..oxx.x. 4.5\n",
      "...xx... 5.0\n",
      ".xx..... 5.0\n",
      "...xxxo. 5.5\n",
      "...xx.x. 6.0\n",
      "...xxx.. 7.0\n",
      ".oxxxx.. 7.5\n",
      "..xxxx.. 9.0\n"
     ]
    }
   ],
   "source": [
    "for i in [\n",
    "    '...ox...',\n",
    "    '...x..xo',\n",
    "    '.....x..',\n",
    "    '...x.xo.',\n",
    "    '...x..x.',\n",
    "    '...xxo..',\n",
    "    'xx......',\n",
    "    '...x.x..',\n",
    "    '..oxx.x.',\n",
    "    '...xx...',\n",
    "    '.xx.....',\n",
    "    '...xxxo.',\n",
    "    '...xx.x.',\n",
    "    '...xxx..',\n",
    "    '.oxxxx..',\n",
    "    '..xxxx..',\n",
    "]: \n",
    "    print(i, line_score(i))"
   ]
  },
  {
   "cell_type": "code",
   "execution_count": 7,
   "metadata": {},
   "outputs": [],
   "source": [
    "kappa=3.0\n",
    "def nhcombine(l):\n",
    "    l_ = sorted(l)\n",
    "    \n",
    "    if l_[-1]>7:\n",
    "        return 8 # Done\n",
    "        \n",
    "    if l_[-1]==7 or (l_[-1] in [4.5,5.5,6,6.5,7.0] and l_[-2] >= 4):\n",
    "        return 7 # truly strong\n",
    "    \n",
    "    if l_[-1] in [4,5] and l_[-2] in [4,5]:\n",
    "        return 6.9 # can only be countered by strong counter-attack\n",
    "    \n",
    "    return (l_[-1]**kappa + l_[-2]**kappa)**(1/kappa)"
   ]
  },
  {
   "cell_type": "code",
   "execution_count": 8,
   "metadata": {},
   "outputs": [
    {
     "data": {
      "text/plain": [
       "array([0. , 0.5, 1. , 1.5, 2. , 2.5, 3. , 3.5, 4. , 4.5, 5. , 5.5, 6. ,\n",
       "       6.5, 7. , 7.5, 8. , 8.5, 9. , 9.5])"
      ]
     },
     "execution_count": 8,
     "metadata": {},
     "output_type": "execute_result"
    }
   ],
   "source": [
    "values = np.arange(20)/2\n",
    "values"
   ]
  },
  {
   "cell_type": "code",
   "execution_count": 9,
   "metadata": {},
   "outputs": [],
   "source": [
    "precomputed = np.zeros([160000])\n",
    "for e in values:\n",
    "    for ne in values:\n",
    "        for n in values:\n",
    "            for nw in values:\n",
    "                v = nhcombine([e, ne, n, nw])\n",
    "                precomputed[int(2*(8000*e+400*ne+20*n+nw))]=v"
   ]
  },
  {
   "cell_type": "code",
   "execution_count": 10,
   "metadata": {},
   "outputs": [],
   "source": [
    "line_counts=9-(np.sqrt(np.random.randint(0,18**2, [5, 5, 4]))).astype(int)/2"
   ]
  },
  {
   "cell_type": "code",
   "execution_count": 11,
   "metadata": {},
   "outputs": [],
   "source": [
    "e,ne,n,nw = np.rollaxis(line_counts, 2, 0)\n",
    "indices = (2*(8000*e+400*ne+20*n+nw)).astype(int)\n",
    "scores = precomputed[indices]"
   ]
  },
  {
   "cell_type": "code",
   "execution_count": 12,
   "metadata": {},
   "outputs": [
    {
     "name": "stdout",
     "output_type": "stream",
     "text": [
      "[1.5 1.  3.5 2. ] 3.7053975277103093\n",
      "[2. 4. 2. 3.] 4.497941445275415\n",
      "[4.5 0.5 4.5 6.5] 7.0\n",
      "[3.  4.5 8.  3.5] 8.0\n",
      "[8.  1.  2.5 1.5] 8.0\n",
      "[1.5 2.5 4.5 6.5] 7.0\n",
      "[1.  2.5 0.5 3.5] 3.881968038328153\n",
      "[1.  0.5 1.  5.5] 5.510997279969543\n",
      "[2.5 2.  0.5 3. ] 3.4931840139090524\n",
      "[1.5 1.5 3.  4.5] 4.906599465282884\n",
      "[2.  1.  1.  1.5] 2.2489707226377074\n",
      "[4.5 4.5 0.5 1. ] 7.0\n",
      "[1.  2.5 1.  0.5] 2.5522343610007314\n",
      "[7.  2.5 3.  1. ] 7.0\n",
      "[4.  3.5 0.5 5.5] 7.0\n",
      "[5.  4.  6.5 2. ] 7.0\n",
      "[8.  6.5 2.5 2. ] 8.0\n",
      "[1.  3.  0.5 4. ] 4.497941445275415\n",
      "[4.  3.5 0.5 3.5] 4.745609979014665\n",
      "[2.  6.  2.5 1.5] 6.141321179758671\n",
      "[2.5 3.5 7.  2.5] 7.0\n",
      "[0.5 3.  3.5 0.5] 4.118830692140462\n",
      "[1.5 3.5 1.  0.5] 3.589527176034159\n",
      "[3.  1.  1.5 4.5] 4.906599465282884\n",
      "[1.5 4.  7.5 6. ] 8.0\n"
     ]
    }
   ],
   "source": [
    "for i in range(5):\n",
    "    for j in range(5):\n",
    "        print(line_counts[i][j], scores[i][j])"
   ]
  },
  {
   "cell_type": "code",
   "execution_count": 13,
   "metadata": {},
   "outputs": [
    {
     "data": {
      "text/plain": [
       "6.822044948812934"
      ]
     },
     "execution_count": 13,
     "metadata": {},
     "output_type": "execute_result"
    }
   ],
   "source": [
    "nhcombine([6.5, 0.,  2.5, 3.5 ])"
   ]
  },
  {
   "cell_type": "markdown",
   "metadata": {},
   "source": [
    "Now, a classical strategy could be: (A:attack, D:defend)\n",
    "- Win with level A7+ position\n",
    "- if not possible, ALWAYS defend single level D7+ position\n",
    "- Give up if more than 1 D7+ position exist. \n",
    "\n",
    "- ALWAYS attack at level A7 position\n",
    "- if not possible, ALWAYS defend level D7 position\n",
    "\n",
    "- ALWAYS tree search level A6.9 for a strong defense\n",
    "    - if not a strong defense, attack at that position\n",
    "    - if strong defense possible, consider deeper tree search or alternatives\n",
    "- ALWAYS tree search level D6.9 for a strong counter-attack\n",
    "    - if no strong counter-attack possible, defend that position\n",
    "    - if strong counter-attack possible, consider deeper tree search or alternatives\n",
    "- Choose greedy (when fighting) or e-greedy when learning\n",
    "    - allow policies with more agressive or more defensive style\n"
   ]
  },
  {
   "cell_type": "code",
   "execution_count": null,
   "metadata": {},
   "outputs": [],
   "source": []
  }
 ],
 "metadata": {
  "kernelspec": {
   "display_name": "Python 3",
   "language": "python",
   "name": "python3"
  },
  "language_info": {
   "codemirror_mode": {
    "name": "ipython",
    "version": 3
   },
   "file_extension": ".py",
   "mimetype": "text/x-python",
   "name": "python",
   "nbconvert_exporter": "python",
   "pygments_lexer": "ipython3",
   "version": "3.6.7"
  }
 },
 "nbformat": 4,
 "nbformat_minor": 2
}
