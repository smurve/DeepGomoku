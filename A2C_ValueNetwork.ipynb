{
 "cells": [
  {
   "cell_type": "code",
   "execution_count": 1,
   "metadata": {},
   "outputs": [],
   "source": [
    "%load_ext autoreload\n",
    "%autoreload 2"
   ]
  },
  {
   "cell_type": "code",
   "execution_count": 3,
   "metadata": {},
   "outputs": [],
   "source": [
    "from wgomoku import GomokuTools as gt, SampleDataHelper"
   ]
  },
  {
   "cell_type": "code",
   "execution_count": 4,
   "metadata": {},
   "outputs": [],
   "source": [
    "import numpy as np\n",
    "import tensorflow as tf"
   ]
  },
  {
   "cell_type": "code",
   "execution_count": 5,
   "metadata": {},
   "outputs": [],
   "source": [
    "def new_dataset(file_pattern, gamma, sdh,\n",
    "                batch_size=256, num_epochs=1, buffer_size=500):\n",
    "    \n",
    "    games = tf.data.experimental.make_csv_dataset(\n",
    "        file_pattern = file_pattern,\n",
    "        column_names=[\"game\", \"winner\"],\n",
    "        batch_size=1,\n",
    "        num_epochs=num_epochs\n",
    "    ) \n",
    "    def _generator(): \n",
    "        for batch in iter(games):\n",
    "            game = batch['game'][0].numpy().decode('ascii')\n",
    "            smp, lbl = sdh.from_string_with_bellmann(game, -1, gamma)\n",
    "            zipped = zip(smp, lbl)\n",
    "            for s_and_v in zipped:\n",
    "                yield s_and_v\n",
    "    \n",
    "    inputs = tf.data.Dataset.from_generator(\n",
    "        _generator, output_types=(tf.int32, tf.float32))\n",
    "    \n",
    "    inputs = inputs.shuffle(buffer_size).batch(batch_size)\n",
    "    return inputs\n",
    "    "
   ]
  },
  {
   "cell_type": "code",
   "execution_count": 9,
   "metadata": {},
   "outputs": [],
   "source": [
    "N=19\n",
    "sdh = SampleDataHelper(N, representation='NxNx1B')\n",
    "inputs = new_dataset(file_pattern=\"*first3.csv\", gamma=.9, sdh=sdh, batch_size=1)"
   ]
  },
  {
   "cell_type": "code",
   "execution_count": 10,
   "metadata": {},
   "outputs": [],
   "source": [
    "smp, lbl = next(iter(inputs))"
   ]
  },
  {
   "cell_type": "code",
   "execution_count": 11,
   "metadata": {},
   "outputs": [
    {
     "data": {
      "text/plain": [
       "(TensorShape([1, 21, 21, 2]), TensorShape([1]))"
      ]
     },
     "execution_count": 11,
     "metadata": {},
     "output_type": "execute_result"
    }
   ],
   "source": [
    "smp.shape, lbl.shape"
   ]
  },
  {
   "cell_type": "markdown",
   "metadata": {},
   "source": [
    "---\n",
    "### The model"
   ]
  },
  {
   "cell_type": "code",
   "execution_count": 12,
   "metadata": {},
   "outputs": [],
   "source": [
    "def disp(sample):\n",
    "    if tf.is_tensor(sample):\n",
    "        sample = sample.numpy()\n",
    "    s = np.rollaxis(sample, -1, 0)\n",
    "    return str(s[0]+2*s[1])"
   ]
  },
  {
   "cell_type": "code",
   "execution_count": null,
   "metadata": {},
   "outputs": [],
   "source": []
  },
  {
   "cell_type": "code",
   "execution_count": 13,
   "metadata": {},
   "outputs": [],
   "source": [
    "class GomokuModelFactory:\n",
    "    \n",
    "    def __init__(self, board_size=19):\n",
    "        self.board_size=board_size\n",
    "    \n",
    "    def res_block(self, inp, filters, activation='relu'):\n",
    "\n",
    "        out1_3 = tf.keras.layers.Conv2D(kernel_size=3, filters=filters, \n",
    "                                  padding='same', activation=activation)(inp)\n",
    "        out1_5 = tf.keras.layers.Conv2D(kernel_size=5, filters=filters,\n",
    "                                  padding='same', activation=activation)(inp)\n",
    "        out1 = tf.concat([out1_3, out1_5], axis=3)\n",
    "\n",
    "        out2_3 = tf.keras.layers.Conv2D(kernel_size=3, filters=filters,\n",
    "                                  padding='same', activation=activation)(out1)\n",
    "        out2_5 = tf.keras.layers.Conv2D(kernel_size=5, filters=filters,\n",
    "                                  padding='same', activation=activation)(out1)\n",
    "        out2 = tf.concat([out2_3, out2_5], axis=3)\n",
    "\n",
    "        out3_3 = tf.keras.layers.Conv2D(kernel_size=3, filters=filters, \n",
    "                                  padding='same', activation=activation)(out2)\n",
    "        out3_5 = tf.keras.layers.Conv2D(kernel_size=5, filters=filters, \n",
    "                                  padding='same', activation=activation)(out2)\n",
    "        out3 = tf.concat([out3_3, out3_5], axis=3)\n",
    "\n",
    "        skip = tf.keras.layers.Conv2D(kernel_size=1, filters=2,\n",
    "                                padding='same', activation=None)(inp)\n",
    "\n",
    "        concat = tf.concat([skip, out3], axis=3)   \n",
    "\n",
    "        bn = tf.keras.layers.BatchNormalization()(concat)\n",
    "\n",
    "        return bn\n",
    "    \n",
    "    \n",
    "    def create_value_model(self, name, num_blocks, num_filters, optimizer):\n",
    "\n",
    "        inputs = tf.keras.Input(\n",
    "            shape=[self.board_size+2,self.board_size+2,2], name=\"game_samples\")\n",
    "        \n",
    "        labels = tf.keras.Input(\n",
    "            shape=[1,1,1], name=\"value_labels\")\n",
    "        \n",
    "        block = self.res_block(inputs, num_filters)\n",
    "        for i in range(num_blocks):\n",
    "            block = self.res_block(block, num_filters)\n",
    "        \n",
    "        out = tf.keras.layers.Conv2D(kernel_size=1, filters=1,\n",
    "                       padding='same', activation='tanh')(block)\n",
    "        \n",
    "        flat = tf.keras.layers.Flatten()(out)\n",
    "        hidden1 = tf.keras.layers.Dense(units=256)(flat)\n",
    "        hidden2 = tf.keras.layers.Dense(units=64)(hidden1)\n",
    "        value_head = tf.keras.layers.Dense(units=1, activation='tanh')(hidden2)\n",
    "        #value_head = tf.keras.layers.MaxPool2D(pool_size=self.board_size)(out)        \n",
    "        \n",
    "        model = tf.keras.Model(inputs, value_head)\n",
    "\n",
    "        model.compile(optimizer, loss='mean_squared_error')\n",
    "        \n",
    "        return model\n"
   ]
  },
  {
   "cell_type": "code",
   "execution_count": 14,
   "metadata": {},
   "outputs": [],
   "source": [
    "factory = GomokuModelFactory(board_size=19)"
   ]
  },
  {
   "cell_type": "code",
   "execution_count": 15,
   "metadata": {},
   "outputs": [],
   "source": [
    "optimizer = tf.keras.optimizers.SGD(learning_rate=5e-3)"
   ]
  },
  {
   "cell_type": "code",
   "execution_count": 16,
   "metadata": {},
   "outputs": [],
   "source": [
    "value_model = factory.create_value_model(\"Value_Net\", 10, 32, optimizer)"
   ]
  },
  {
   "cell_type": "code",
   "execution_count": 17,
   "metadata": {},
   "outputs": [
    {
     "name": "stderr",
     "output_type": "stream",
     "text": [
      "W0802 19:45:23.157383 140539147208448 deprecation.py:323] From /home/wgiersche/workspace/DeepGomoku/tf2/lib/python3.5/site-packages/tensorflow/python/data/experimental/ops/readers.py:211: shuffle_and_repeat (from tensorflow.python.data.experimental.ops.shuffle_ops) is deprecated and will be removed in a future version.\n",
      "Instructions for updating:\n",
      "Use `tf.data.Dataset.shuffle(buffer_size, seed)` followed by `tf.data.Dataset.repeat(count)`. Static tf.data optimizations will take care of using the fused implementation.\n"
     ]
    }
   ],
   "source": [
    "sdh = SampleDataHelper(N=19, representation='NxNx1B', cut_off=12)\n",
    "inputs = new_dataset(batch_size=512, num_epochs=5, sdh=sdh,\n",
    "                     buffer_size=500, file_pattern = \"*corr.csv\", gamma=0.5)"
   ]
  },
  {
   "cell_type": "code",
   "execution_count": 19,
   "metadata": {},
   "outputs": [],
   "source": [
    "value_model.fit(inputs)"
   ]
  },
  {
   "cell_type": "code",
   "execution_count": 21,
   "metadata": {},
   "outputs": [],
   "source": [
    "checkpoint_path = './models/ValueNet_2.0/cp-{epoch:04d}.ckpt'"
   ]
  },
  {
   "cell_type": "code",
   "execution_count": 20,
   "metadata": {},
   "outputs": [],
   "source": [
    "value_model.save_weights(checkpoint_path.format(epoch=5))"
   ]
  },
  {
   "cell_type": "code",
   "execution_count": 23,
   "metadata": {},
   "outputs": [
    {
     "data": {
      "text/plain": [
       "'./models/ValueNet_2.0/cp-0005.ckpt'"
      ]
     },
     "execution_count": 23,
     "metadata": {},
     "output_type": "execute_result"
    }
   ],
   "source": [
    "latest = tf.train.latest_checkpoint(\"./models/ValueNet_2.0/\")\n",
    "latest"
   ]
  },
  {
   "cell_type": "code",
   "execution_count": 24,
   "metadata": {},
   "outputs": [
    {
     "data": {
      "text/plain": [
       "<tensorflow.python.training.tracking.util.CheckpointLoadStatus at 0x7fd0101d35f8>"
      ]
     },
     "execution_count": 24,
     "metadata": {},
     "output_type": "execute_result"
    }
   ],
   "source": [
    "new_model = factory.create_value_model(\"Value_Net\", 10, 32, optimizer)\n",
    "new_model.load_weights(latest)"
   ]
  },
  {
   "cell_type": "markdown",
   "metadata": {},
   "source": [
    "---\n",
    "Let's see the result with the help of an example"
   ]
  },
  {
   "cell_type": "code",
   "execution_count": 25,
   "metadata": {},
   "outputs": [
    {
     "data": {
      "image/png": "[encoded data removed]",
      "text/plain": [
       "<Figure size 720x720 with 1 Axes>"
      ]
     },
     "metadata": {
      "needs_background": "light"
     },
     "output_type": "display_data"
    }
   ],
   "source": [
    "from wgomoku import HeuristicGomokuPolicy, GomokuBoard, Heuristics\n",
    "heuristics = Heuristics(kappa=3.0)\n",
    "game=\"j10i9i10k10j11j9k12h9k9l11m12h10h7h12h11j12g9g11f12k7j8i7l13m14l8m7k14j15o10n11k8i8m8n8j13i12k13m13k15k16k11\"\n",
    "game=\"j10i9i10k10j11j9k12h9k9l11m12h10h7h12h11j12g9g11f12k7j8i7l13m14l8m7k14j15o10n11k8i8m8n8j13i12\"\n",
    "\n",
    "stones=gt.string_to_stones(game)\n",
    "board = GomokuBoard(N=19, stones=stones, disp_width=10, heuristics=heuristics)\n",
    "board.display('current')"
   ]
  },
  {
   "cell_type": "markdown",
   "metadata": {},
   "source": [
    "Let's have a look at the numerical representation: The next to move would be player (1)"
   ]
  },
  {
   "cell_type": "code",
   "execution_count": 26,
   "metadata": {},
   "outputs": [
    {
     "name": "stdout",
     "output_type": "stream",
     "text": [
      "[[ 2  2  2  2  2  2  2  2  2  2  2  2  2  2  2  2  2  2  2  2  2]\n",
      " [ 2  0  0  0  0  0  0  0  0  0  0  0  0  0  0  0  0  0  0  0  2]\n",
      " [ 2  0  0  0  0  0  0  0  0  0  0  0  0  0  0  0  0  0  0  0  2]\n",
      " [ 2  0  0  0  0  0  0  0  0  0  0  0  0  0  0  0  0  0  0  0  2]\n",
      " [ 2  0  0  0  0  0  0  0  0  0  0  0  0  0  0  0  0  0  0  0  2]\n",
      " [ 2  0  0  0  0  0  0  0  0  0 -1  0  0  0  0  0  0  0  0  0  2]\n",
      " [ 2  0  0  0  0  0  0  0  0  0  0  1  0 -1  0  0  0  0  0  0  2]\n",
      " [ 2  0  0  0  0  0  0  0  0  0  1  0  1  0  0  0  0  0  0  0  2]\n",
      " [ 2  0  0  0  0  0  1  0 -1 -1 -1  1  0  1  0  0  0  0  0  0  2]\n",
      " [ 2  0  0  0  0  0  0 -1  1  0  1  0 -1  0 -1  0  0  0  0  0  2]\n",
      " [ 2  0  0  0  0  0  0  0 -1  1  1 -1  0  0  0  1  0  0  0  0  2]\n",
      " [ 2  0  0  0  0  0  0  1 -1 -1 -1  1  0  0  0  0  0  0  0  0  2]\n",
      " [ 2  0  0  0  0  0  0  0  0 -1  1  1  1  1 -1  0  0  0  0  0  2]\n",
      " [ 2  0  0  0  0  0  0  0  1 -1  0 -1  0 -1  0  0  0  0  0  0  2]\n",
      " [ 2  0  0  0  0  0  0  0  0  0  0  0  0  0  0  0  0  0  0  0  2]\n",
      " [ 2  0  0  0  0  0  0  0  0  0  0  0  0  0  0  0  0  0  0  0  2]\n",
      " [ 2  0  0  0  0  0  0  0  0  0  0  0  0  0  0  0  0  0  0  0  2]\n",
      " [ 2  0  0  0  0  0  0  0  0  0  0  0  0  0  0  0  0  0  0  0  2]\n",
      " [ 2  0  0  0  0  0  0  0  0  0  0  0  0  0  0  0  0  0  0  0  2]\n",
      " [ 2  0  0  0  0  0  0  0  0  0  0  0  0  0  0  0  0  0  0  0  2]\n",
      " [ 2  2  2  2  2  2  2  2  2  2  2  2  2  2  2  2  2  2  2  2  2]]\n"
     ]
    }
   ],
   "source": [
    "coords = sdh.maybe_padded_coords(game+\"\")\n",
    "samples, values = sdh.traj_to_samples(traj=coords, gamma=0.5, terminal_value=-1)\n",
    "smp = samples[-1]\n",
    "print(disp(smp))"
   ]
  },
  {
   "cell_type": "code",
   "execution_count": 27,
   "metadata": {},
   "outputs": [
    {
     "data": {
      "text/plain": [
       "array([[-0.48075557]], dtype=float32)"
      ]
     },
     "execution_count": 27,
     "metadata": {},
     "output_type": "execute_result"
    }
   ],
   "source": [
    "value_model.predict(smp.reshape(1,21,21,2))"
   ]
  },
  {
   "cell_type": "code",
   "execution_count": 28,
   "metadata": {},
   "outputs": [
    {
     "data": {
      "text/plain": [
       "array([[0.1896637]], dtype=float32)"
      ]
     },
     "execution_count": 28,
     "metadata": {},
     "output_type": "execute_result"
    }
   ],
   "source": [
    "new_model.predict(smp.reshape(1,21,21,2))"
   ]
  },
  {
   "cell_type": "code",
   "execution_count": null,
   "metadata": {},
   "outputs": [],
   "source": []
  }
 ],
 "metadata": {
  "kernelspec": {
   "display_name": "Python 3",
   "language": "python",
   "name": "python3"
  },
  "language_info": {
   "codemirror_mode": {
    "name": "ipython",
    "version": 3
   },
   "file_extension": ".py",
   "mimetype": "text/x-python",
   "name": "python",
   "nbconvert_exporter": "python",
   "pygments_lexer": "ipython3",
   "version": "3.5.2"
  }
 },
 "nbformat": 4,
 "nbformat_minor": 4
}
