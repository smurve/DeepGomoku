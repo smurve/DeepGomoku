{
 "cells": [
  {
   "cell_type": "code",
   "execution_count": 1,
   "metadata": {},
   "outputs": [],
   "source": [
    "%load_ext autoreload\n",
    "%autoreload 2"
   ]
  },
  {
   "cell_type": "code",
   "execution_count": 4,
   "metadata": {},
   "outputs": [],
   "source": [
    "from wgomoku import GomokuTools as gt, SampleDataHelper"
   ]
  },
  {
   "cell_type": "code",
   "execution_count": 5,
   "metadata": {},
   "outputs": [],
   "source": [
    "import numpy as np\n",
    "import tensorflow as tf"
   ]
  },
  {
   "cell_type": "code",
   "execution_count": 75,
   "metadata": {},
   "outputs": [],
   "source": [
    "def new_dataset(\n",
    "    file_pattern, gamma,\n",
    "    board_size=19, batch_size=256, num_epochs=1, buffer_size=500):\n",
    "    \n",
    "    sdh = SampleDataHelper(board_size)\n",
    "    games = tf.data.experimental.make_csv_dataset(\n",
    "        file_pattern = file_pattern,\n",
    "        column_names=[\"game\", \"winner\"],\n",
    "        batch_size=1,\n",
    "        num_epochs=num_epochs\n",
    "    ) \n",
    "    def _generator(): \n",
    "        for batch in iter(games):\n",
    "            game = batch['game'][0].numpy().decode('ascii')\n",
    "            smp, lbl = sdh.from_string_with_bellmann(game, -1, gamma)\n",
    "            zipped = zip(smp, lbl)\n",
    "            for s_and_v in zipped:\n",
    "                yield s_and_v\n",
    "    \n",
    "    inputs = tf.data.Dataset.from_generator(\n",
    "        _generator, output_types=(tf.int32, tf.float32))\n",
    "    \n",
    "    inputs = inputs.shuffle(buffer_size).batch(batch_size)\n",
    "    return inputs\n",
    "    "
   ]
  },
  {
   "cell_type": "code",
   "execution_count": 76,
   "metadata": {},
   "outputs": [],
   "source": [
    "inputs = new_dataset(file_pattern=\"*first3.csv\", gamma=.9, batch_size=1)"
   ]
  },
  {
   "cell_type": "code",
   "execution_count": 77,
   "metadata": {},
   "outputs": [],
   "source": [
    "smp, lbl = next(iter(inputs))"
   ]
  },
  {
   "cell_type": "code",
   "execution_count": 78,
   "metadata": {},
   "outputs": [
    {
     "data": {
      "text/plain": [
       "(TensorShape([1, 21, 21, 2]), TensorShape([1]))"
      ]
     },
     "execution_count": 78,
     "metadata": {},
     "output_type": "execute_result"
    }
   ],
   "source": [
    "smp.shape, lbl.shape"
   ]
  },
  {
   "cell_type": "code",
   "execution_count": 74,
   "metadata": {},
   "outputs": [
    {
     "data": {
      "text/plain": [
       "array([b'7'], dtype=object)"
      ]
     },
     "execution_count": 74,
     "metadata": {},
     "output_type": "execute_result"
    }
   ],
   "source": []
  },
  {
   "cell_type": "markdown",
   "metadata": {},
   "source": [
    "---\n",
    "### The model"
   ]
  },
  {
   "cell_type": "code",
   "execution_count": 10,
   "metadata": {},
   "outputs": [],
   "source": [
    "game=\"j10i9j9j11k10l11h10i10i11h9g8l13k12k9l14g9k11k13i13m13n13e9f9l10j8i6l8i8i7j7k6g10f11l9l12\""
   ]
  },
  {
   "cell_type": "code",
   "execution_count": 24,
   "metadata": {},
   "outputs": [],
   "source": [
    "def disp(sample):\n",
    "    if tf.is_tensor(sample):\n",
    "        sample = sample.numpy()\n",
    "    s = np.rollaxis(sample, -1, 0)\n",
    "    return str(s[0]+2*s[1])"
   ]
  },
  {
   "cell_type": "code",
   "execution_count": 12,
   "metadata": {},
   "outputs": [],
   "source": [
    "bw = np.zeros([5, 19+2, 19+2, 2], dtype=np.float16)\n",
    "player = 0\n",
    "stones = gt.string_to_stones(game)\n",
    "stones = [(ord(s[0])-64, s[1]) for s in stones]\n",
    "for (x,y) in stones:\n",
    "    r,c = gt.b2m((x,y), 19)\n",
    "    bw[0][r][c][player] = 1\n",
    "    bw[1][r][c][player] = 1\n",
    "    bw[2][r][c][player] = 1\n",
    "    bw[3][r][c][player] = 1\n",
    "    bw[4][r][c][player] = 1\n",
    "    player = 1 - player\n"
   ]
  },
  {
   "cell_type": "code",
   "execution_count": 13,
   "metadata": {},
   "outputs": [
    {
     "name": "stdout",
     "output_type": "stream",
     "text": [
      "[[0. 0. 0. 0. 0. 0. 0. 0. 0. 0. 0. 0. 0. 0. 0. 0. 0. 0. 0. 0. 0.]\n",
      " [0. 0. 0. 0. 0. 0. 0. 0. 0. 0. 0. 0. 0. 0. 0. 0. 0. 0. 0. 0. 0.]\n",
      " [0. 0. 0. 0. 0. 0. 0. 0. 0. 0. 0. 0. 0. 0. 0. 0. 0. 0. 0. 0. 0.]\n",
      " [0. 0. 0. 0. 0. 0. 0. 0. 0. 0. 0. 0. 0. 0. 0. 0. 0. 0. 0. 0. 0.]\n",
      " [0. 0. 0. 0. 0. 0. 0. 0. 0. 0. 0. 0. 0. 0. 0. 0. 0. 0. 0. 0. 0.]\n",
      " [0. 0. 0. 0. 0. 0. 0. 0. 0. 0. 0. 1. 0. 0. 0. 0. 0. 0. 0. 0. 0.]\n",
      " [0. 0. 0. 0. 0. 0. 0. 0. 1. 0. 2. 2. 2. 1. 0. 0. 0. 0. 0. 0. 0.]\n",
      " [0. 0. 0. 0. 0. 0. 0. 0. 0. 0. 1. 1. 0. 0. 0. 0. 0. 0. 0. 0. 0.]\n",
      " [0. 0. 0. 0. 0. 1. 0. 0. 1. 2. 1. 2. 0. 0. 0. 0. 0. 0. 0. 0. 0.]\n",
      " [0. 0. 0. 0. 0. 0. 2. 1. 2. 1. 1. 2. 0. 0. 0. 0. 0. 0. 0. 0. 0.]\n",
      " [0. 0. 0. 0. 2. 1. 2. 2. 2. 1. 2. 2. 0. 0. 0. 0. 0. 0. 0. 0. 0.]\n",
      " [0. 0. 0. 0. 0. 0. 1. 0. 2. 1. 0. 1. 0. 0. 0. 0. 0. 0. 0. 0. 0.]\n",
      " [0. 0. 0. 0. 0. 0. 0. 0. 1. 2. 0. 0. 0. 0. 0. 0. 0. 0. 0. 0. 0.]\n",
      " [0. 0. 0. 0. 0. 0. 0. 0. 2. 0. 1. 0. 0. 0. 0. 0. 0. 0. 0. 0. 0.]\n",
      " [0. 0. 0. 0. 0. 0. 0. 0. 0. 0. 0. 0. 0. 0. 0. 0. 0. 0. 0. 0. 0.]\n",
      " [0. 0. 0. 0. 0. 0. 0. 0. 0. 0. 0. 0. 0. 0. 0. 0. 0. 0. 0. 0. 0.]\n",
      " [0. 0. 0. 0. 0. 0. 0. 0. 0. 0. 0. 0. 0. 0. 0. 0. 0. 0. 0. 0. 0.]\n",
      " [0. 0. 0. 0. 0. 0. 0. 0. 0. 0. 0. 0. 0. 0. 0. 0. 0. 0. 0. 0. 0.]\n",
      " [0. 0. 0. 0. 0. 0. 0. 0. 0. 0. 0. 0. 0. 0. 0. 0. 0. 0. 0. 0. 0.]\n",
      " [0. 0. 0. 0. 0. 0. 0. 0. 0. 0. 0. 0. 0. 0. 0. 0. 0. 0. 0. 0. 0.]\n",
      " [0. 0. 0. 0. 0. 0. 0. 0. 0. 0. 0. 0. 0. 0. 0. 0. 0. 0. 0. 0. 0.]]\n"
     ]
    }
   ],
   "source": [
    "print(disp(bw[0]))"
   ]
  },
  {
   "cell_type": "code",
   "execution_count": null,
   "metadata": {},
   "outputs": [],
   "source": []
  },
  {
   "cell_type": "code",
   "execution_count": 7,
   "metadata": {},
   "outputs": [],
   "source": [
    "class GomokuModelFactory:\n",
    "    \n",
    "    def __init__(self, board_size=19):\n",
    "        self.board_size=board_size\n",
    "    \n",
    "    def res_block(self, inp, filters, activation='relu'):\n",
    "\n",
    "        out1_3 = tf.keras.layers.Conv2D(kernel_size=3, filters=filters, \n",
    "                                  padding='same', activation=activation)(inp)\n",
    "        out1_5 = tf.keras.layers.Conv2D(kernel_size=5, filters=filters,\n",
    "                                  padding='same', activation=activation)(inp)\n",
    "        out1 = tf.concat([out1_3, out1_5], axis=3)\n",
    "\n",
    "        out2_3 = tf.keras.layers.Conv2D(kernel_size=3, filters=filters,\n",
    "                                  padding='same', activation=activation)(out1)\n",
    "        out2_5 = tf.keras.layers.Conv2D(kernel_size=5, filters=filters,\n",
    "                                  padding='same', activation=activation)(out1)\n",
    "        out2 = tf.concat([out2_3, out2_5], axis=3)\n",
    "\n",
    "        out3_3 = tf.keras.layers.Conv2D(kernel_size=3, filters=filters, \n",
    "                                  padding='same', activation=activation)(out2)\n",
    "        out3_5 = tf.keras.layers.Conv2D(kernel_size=5, filters=filters, \n",
    "                                  padding='same', activation=activation)(out2)\n",
    "        out3 = tf.concat([out3_3, out3_5], axis=3)\n",
    "\n",
    "        skip = tf.keras.layers.Conv2D(kernel_size=1, filters=2,\n",
    "                                padding='same', activation=None)(inp)\n",
    "\n",
    "        concat = tf.concat([skip, out3], axis=3)   \n",
    "\n",
    "        bn = tf.keras.layers.BatchNormalization()(concat)\n",
    "\n",
    "        return bn\n",
    "    \n",
    "    \n",
    "    def create_value_model(self, name, num_blocks, num_filters, optimizer):\n",
    "\n",
    "        inputs = tf.keras.Input(\n",
    "            shape=[self.board_size+2,self.board_size+2,2], name=\"game_samples\")\n",
    "        \n",
    "        labels = tf.keras.Input(\n",
    "            shape=[1,1,1], name=\"value_labels\")\n",
    "        \n",
    "        block = self.res_block(inputs, num_filters)\n",
    "        for i in range(num_blocks):\n",
    "            block = self.res_block(block, num_filters)\n",
    "        \n",
    "        out = tf.keras.layers.Conv2D(kernel_size=1, filters=1,\n",
    "                       padding='same', activation='tanh')(block)\n",
    "        \n",
    "        flat = tf.keras.layers.Flatten()(out)\n",
    "        hidden1 = tf.keras.layers.Dense(units=256)(flat)\n",
    "        hidden2 = tf.keras.layers.Dense(units=64)(hidden1)\n",
    "        value_head = tf.keras.layers.Dense(units=1, activation='tanh')(hidden2)\n",
    "        #value_head = tf.keras.layers.MaxPool2D(pool_size=self.board_size)(out)        \n",
    "        \n",
    "        model = tf.keras.Model(inputs, value_head)\n",
    "\n",
    "        model.compile(optimizer, loss='mean_squared_error')\n",
    "        \n",
    "        return model\n"
   ]
  },
  {
   "cell_type": "code",
   "execution_count": 42,
   "metadata": {},
   "outputs": [],
   "source": [
    "factory = GomokuModelFactory(board_size=19)"
   ]
  },
  {
   "cell_type": "code",
   "execution_count": 43,
   "metadata": {},
   "outputs": [],
   "source": [
    "optimizer = tf.keras.optimizers.SGD(learning_rate=1e-3)"
   ]
  },
  {
   "cell_type": "code",
   "execution_count": 52,
   "metadata": {},
   "outputs": [],
   "source": [
    "value_model = factory.create_value_model(\"Value_Net\", 2, 32, optimizer)"
   ]
  },
  {
   "cell_type": "code",
   "execution_count": 52,
   "metadata": {},
   "outputs": [
    {
     "data": {
      "text/plain": [
       "array([[0.00153481],\n",
       "       [0.00153481],\n",
       "       [0.00153481],\n",
       "       [0.00153481],\n",
       "       [0.00153481]], dtype=float32)"
      ]
     },
     "execution_count": 52,
     "metadata": {},
     "output_type": "execute_result"
    }
   ],
   "source": [
    "value_model.predict(bw)"
   ]
  },
  {
   "cell_type": "code",
   "execution_count": 53,
   "metadata": {},
   "outputs": [],
   "source": [
    "inputs = new_dataset(board_size=19, batch_size=512, num_epochs=100, \n",
    "                     buffer_size=500, file_pattern = \"*first3.csv\", gamma=0.5)"
   ]
  },
  {
   "cell_type": "code",
   "execution_count": 54,
   "metadata": {},
   "outputs": [
    {
     "name": "stdout",
     "output_type": "stream",
     "text": [
      "141/141 [==============================] - 32s 226ms/step - loss: 0.4758\n"
     ]
    },
    {
     "data": {
      "text/plain": [
       "<tensorflow.python.keras.callbacks.History at 0x7fbcc8082550>"
      ]
     },
     "execution_count": 54,
     "metadata": {},
     "output_type": "execute_result"
    }
   ],
   "source": [
    "value_model.fit(inputs)"
   ]
  },
  {
   "cell_type": "code",
   "execution_count": 86,
   "metadata": {},
   "outputs": [],
   "source": [
    "export_path = 'ValueNet_1.0.hd5'"
   ]
  },
  {
   "cell_type": "code",
   "execution_count": 30,
   "metadata": {},
   "outputs": [],
   "source": [
    "#tf.keras.experimental.export_saved_model(\n",
    "#    model=value_model, saved_model_path='./ValueNet/')"
   ]
  },
  {
   "cell_type": "code",
   "execution_count": null,
   "metadata": {},
   "outputs": [],
   "source": [
    "value_model."
   ]
  },
  {
   "cell_type": "code",
   "execution_count": null,
   "metadata": {},
   "outputs": [],
   "source": []
  },
  {
   "cell_type": "code",
   "execution_count": 35,
   "metadata": {},
   "outputs": [],
   "source": [
    "inputs = tf.data.Dataset.from_generator(generator, output_types=(tf.int32, tf.float32))"
   ]
  },
  {
   "cell_type": "code",
   "execution_count": null,
   "metadata": {},
   "outputs": [],
   "source": []
  },
  {
   "cell_type": "code",
   "execution_count": null,
   "metadata": {},
   "outputs": [],
   "source": []
  },
  {
   "cell_type": "code",
   "execution_count": 17,
   "metadata": {},
   "outputs": [],
   "source": [
    "from wgomoku import HeuristicGomokuPolicy, GomokuBoard, Heuristics"
   ]
  },
  {
   "cell_type": "code",
   "execution_count": 18,
   "metadata": {},
   "outputs": [],
   "source": [
    "heuristics = Heuristics(kappa=3.0)"
   ]
  },
  {
   "cell_type": "code",
   "execution_count": 19,
   "metadata": {},
   "outputs": [
    {
     "data": {
      "image/png": "[encoded data removed]",
      "text/plain": [
       "<Figure size 720x720 with 1 Axes>"
      ]
     },
     "metadata": {
      "needs_background": "light"
     },
     "output_type": "display_data"
    }
   ],
   "source": [
    "game=\"j10i9i10k10k9i11l9n9l7j9l6l8h9k12l11j11h11l13h12h10j12f12g11i8h13j8k8j7h14h15i13j14g15f16k11\"\n",
    "stones=gt.string_to_stones(game)\n",
    "board = GomokuBoard(N=19, stones=stones, disp_width=10, heuristics=heuristics)\n",
    "board.display('current')"
   ]
  },
  {
   "cell_type": "code",
   "execution_count": 20,
   "metadata": {},
   "outputs": [],
   "source": [
    "sdh = SampleDataHelper(19)"
   ]
  },
  {
   "cell_type": "code",
   "execution_count": 39,
   "metadata": {},
   "outputs": [],
   "source": [
    "game=\"j10i9i10k10k9i11l9n9l7j9l6l8h9k12l11j11h11l13h12h10j12f12g11i8h13j8k8j7h14h15i13\"\n",
    "coords = sdh.padded_coords(game+\"\")"
   ]
  },
  {
   "cell_type": "code",
   "execution_count": 40,
   "metadata": {},
   "outputs": [],
   "source": [
    "template = sdh.template()\n",
    "to_move=1\n",
    "for move in coords:\n",
    "    template[move[0], move[1], to_move] = 1\n",
    "    to_move = 1 - to_move"
   ]
  },
  {
   "cell_type": "code",
   "execution_count": 41,
   "metadata": {},
   "outputs": [
    {
     "data": {
      "text/plain": [
       "array([[0.18541837]], dtype=float32)"
      ]
     },
     "execution_count": 41,
     "metadata": {},
     "output_type": "execute_result"
    }
   ],
   "source": [
    "value_model.predict(template.reshape(1,21,21,2))"
   ]
  },
  {
   "cell_type": "code",
   "execution_count": null,
   "metadata": {},
   "outputs": [],
   "source": []
  },
  {
   "cell_type": "code",
   "execution_count": null,
   "metadata": {},
   "outputs": [],
   "source": []
  },
  {
   "cell_type": "code",
   "execution_count": 50,
   "metadata": {},
   "outputs": [],
   "source": [
    "inputs = new_dataset(board_size=19, batch_size=512, num_epochs=1, buffer_size=500)"
   ]
  },
  {
   "cell_type": "code",
   "execution_count": 58,
   "metadata": {},
   "outputs": [],
   "source": [
    "iterator = iter(inputs)"
   ]
  },
  {
   "cell_type": "code",
   "execution_count": 72,
   "metadata": {},
   "outputs": [
    {
     "name": "stdout",
     "output_type": "stream",
     "text": [
      "[[2 2 2 2 2 2 2 2 2 2 2 2 2 2 2 2 2 2 2 2 2]\n",
      " [2 0 0 0 0 0 0 0 0 0 0 0 0 0 0 0 0 0 0 0 2]\n",
      " [2 0 0 0 0 0 0 0 0 0 0 0 0 0 0 0 0 0 0 0 2]\n",
      " [2 0 0 0 0 0 0 0 0 0 0 0 0 0 0 0 0 0 0 0 2]\n",
      " [2 0 0 0 0 0 0 0 0 0 0 0 0 0 0 0 0 0 0 0 2]\n",
      " [2 0 0 0 0 0 0 0 0 0 0 0 0 0 0 0 0 0 0 0 2]\n",
      " [2 0 0 0 0 0 0 0 0 0 0 0 0 0 0 0 0 0 0 0 2]\n",
      " [2 0 0 0 0 0 0 0 0 0 0 0 0 0 0 0 0 0 0 0 2]\n",
      " [2 0 0 0 0 0 0 0 0 0 2 0 0 0 0 0 0 0 0 0 2]\n",
      " [2 0 0 0 0 0 0 0 0 0 1 0 2 0 0 0 0 0 0 0 2]\n",
      " [2 0 0 0 0 0 0 0 2 1 1 1 1 2 0 0 0 0 0 0 2]\n",
      " [2 0 0 0 0 0 0 0 0 0 1 2 1 0 0 0 0 0 0 0 2]\n",
      " [2 0 0 0 0 0 0 0 0 2 0 2 1 2 0 0 0 0 0 0 2]\n",
      " [2 0 0 0 0 0 0 0 0 0 2 0 1 0 0 0 0 0 0 0 2]\n",
      " [2 0 0 0 0 0 0 0 0 0 0 0 0 0 0 0 0 0 0 0 2]\n",
      " [2 0 0 0 0 0 0 0 0 0 0 0 0 0 0 0 0 0 0 0 2]\n",
      " [2 0 0 0 0 0 0 0 0 0 0 0 0 0 0 0 0 0 0 0 2]\n",
      " [2 0 0 0 0 0 0 0 0 0 0 0 0 0 0 0 0 0 0 0 2]\n",
      " [2 0 0 0 0 0 0 0 0 0 0 0 0 0 0 0 0 0 0 0 2]\n",
      " [2 0 0 0 0 0 0 0 0 0 0 0 0 0 0 0 0 0 0 0 2]\n",
      " [2 2 2 2 2 2 2 2 2 2 2 2 2 2 2 2 2 2 2 2 2]]\n"
     ]
    }
   ],
   "source": [
    "smp = next(iterator)[0][0]\n",
    "print(disp(smp))"
   ]
  },
  {
   "cell_type": "code",
   "execution_count": null,
   "metadata": {},
   "outputs": [],
   "source": []
  }
 ],
 "metadata": {
  "kernelspec": {
   "display_name": "Python 3",
   "language": "python",
   "name": "python3"
  },
  "language_info": {
   "codemirror_mode": {
    "name": "ipython",
    "version": 3
   },
   "file_extension": ".py",
   "mimetype": "text/x-python",
   "name": "python",
   "nbconvert_exporter": "python",
   "pygments_lexer": "ipython3",
   "version": "3.5.2"
  }
 },
 "nbformat": 4,
 "nbformat_minor": 4
}
